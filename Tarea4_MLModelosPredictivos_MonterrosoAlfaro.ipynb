{
  "nbformat": 4,
  "nbformat_minor": 0,
  "metadata": {
    "kernelspec": {
      "display_name": "Python 3",
      "language": "python",
      "name": "python3"
    },
    "language_info": {
      "codemirror_mode": {
        "name": "ipython",
        "version": 2
      },
      "file_extension": ".py",
      "mimetype": "text/x-python",
      "name": "python",
      "nbconvert_exporter": "python",
      "pygments_lexer": "ipython2",
      "version": "2.7.6"
    },
    "colab": {
      "provenance": [],
      "include_colab_link": true
    }
  },
  "cells": [
    {
      "cell_type": "markdown",
      "metadata": {
        "id": "view-in-github",
        "colab_type": "text"
      },
      "source": [
        "<a href=\"https://colab.research.google.com/github/ingridmidory/Inferencia-Est-distica/blob/main/Tarea4_MLModelosPredictivos_MonterrosoAlfaro.ipynb\" target=\"_parent\"><img src=\"https://colab.research.google.com/assets/colab-badge.svg\" alt=\"Open In Colab\"/></a>"
      ]
    },
    {
      "cell_type": "code",
      "metadata": {
        "pycharm": {
          "name": "#%%\n"
        },
        "id": "xWyJP0sMBm5f"
      },
      "source": [
        "#### PASO 1. De la base de datos de COVID más reciente, extraer una muestra aleatoria con tamaño igual al 20% del total de la población.\n",
        "import pandas as pd\n",
        "import scipy.stats as ss\n",
        "import numpy as np\n",
        "import seaborn as sb\n",
        "import matplotlib.pyplot as plt\n",
        "from sklearn.model_selection import train_test_split\n",
        "from sklearn.model_selection import GridSearchCV\n",
        "from sklearn.svm import SVC\n",
        "from sklearn.metrics import classification_report, confusion_matrix\n",
        "from sklearn.metrics import plot_confusion_matrix\n",
        "from sklearn.metrics import roc_curve, auc, roc_auc_score\n",
        "from sklearn.neural_network import MLPClassifier"
      ],
      "execution_count": null,
      "outputs": []
    },
    {
      "cell_type": "code",
      "source": [
        "#### Importar de la página de la SS los datos actualizados\n",
        "### hacer la descargar automáticamente \n",
        "#### https://buomsoo-kim.github.io/colab/2020/05/04/Colab-downloading-files-from-web-2.md/\n",
        "!wget --timeout=300 --tries=1 \"http://datosabiertos.salud.gob.mx/gobmx/salud/datos_abiertos/datos_abiertos_covid19.zip\""
      ],
      "metadata": {
        "colab": {
          "base_uri": "https://localhost:8080/"
        },
        "id": "jaGulPwv9fD2",
        "outputId": "bc0e4fe6-dec7-4927-ad96-5d36268f0233"
      },
      "execution_count": null,
      "outputs": [
        {
          "output_type": "stream",
          "name": "stdout",
          "text": [
            "--2021-12-14 18:06:57--  http://datosabiertos.salud.gob.mx/gobmx/salud/datos_abiertos/datos_abiertos_covid19.zip\n",
            "Resolving datosabiertos.salud.gob.mx (datosabiertos.salud.gob.mx)... 187.210.186.146\n",
            "Connecting to datosabiertos.salud.gob.mx (datosabiertos.salud.gob.mx)|187.210.186.146|:80... connected.\n",
            "HTTP request sent, awaiting response... 200 OK\n",
            "Length: 241794570 (231M) [application/x-zip-compressed]\n",
            "Saving to: ‘datos_abiertos_covid19.zip.1’\n",
            "\n",
            "datos_abiertos_covi 100%[===================>] 230.59M  1.98MB/s    in 2m 29s  \n",
            "\n",
            "2021-12-14 18:09:26 (1.55 MB/s) - ‘datos_abiertos_covid19.zip.1’ saved [241794570/241794570]\n",
            "\n"
          ]
        }
      ]
    },
    {
      "cell_type": "code",
      "metadata": {
        "pycharm": {
          "name": "#%%\n"
        },
        "id": "D0YvFYhmBm5h",
        "colab": {
          "base_uri": "https://localhost:8080/"
        },
        "outputId": "ed5138ad-68c8-452a-c4ea-611e8e0526c4"
      },
      "source": [
        "poblacion = pd.read_csv('datos_abiertos_covid19.zip', encoding='latin-1')\n",
        "positivos = poblacion[poblacion[\"CLASIFICACION_FINAL\"]<=3]\n",
        "datos = positivos.sample(frac = 0.05)\n",
        "print('Poblacion', poblacion.shape)\n",
        "print('Muestra', datos.shape)"
      ],
      "execution_count": null,
      "outputs": [
        {
          "output_type": "stream",
          "name": "stderr",
          "text": [
            "/usr/local/lib/python3.7/dist-packages/IPython/core/interactiveshell.py:2718: DtypeWarning: Columns (38) have mixed types.Specify dtype option on import or set low_memory=False.\n",
            "  interactivity=interactivity, compiler=compiler, result=result)\n"
          ]
        },
        {
          "output_type": "stream",
          "name": "stdout",
          "text": [
            "Poblacion (12074161, 40)\n",
            "Muestra (195949, 40)\n"
          ]
        }
      ]
    },
    {
      "cell_type": "code",
      "metadata": {
        "pycharm": {
          "name": "#%%\n"
        },
        "id": "hA9NPM6tBm5h"
      },
      "source": [],
      "execution_count": null,
      "outputs": []
    },
    {
      "cell_type": "code",
      "metadata": {
        "pycharm": {
          "name": "#%%\n"
        },
        "id": "1wTwOd3JBm5j",
        "outputId": "33d80f27-ce53-4aff-d87a-c3c51364ffb7",
        "colab": {
          "base_uri": "https://localhost:8080/"
        }
      },
      "source": [
        "#### PASO 2. Realizar una prueba de normalidad (Shapiro, Anderson-Darling) para la variable “edad”.\n",
        "#Prueba de normalidad\n",
        "#Ho: la variable se aproxima a una distribución normal\n",
        "#Ha: la variable no se aproxima a una distribución normal\n",
        "ss.shapiro(datos.EDAD)\n",
        "# Como pvalue = 0.0 < 0.05 se rechaza la hipótes nula. La variable no es normal"
      ],
      "execution_count": null,
      "outputs": [
        {
          "output_type": "stream",
          "name": "stderr",
          "text": [
            "/usr/local/lib/python3.7/dist-packages/scipy/stats/morestats.py:1676: UserWarning: p-value may not be accurate for N > 5000.\n",
            "  warnings.warn(\"p-value may not be accurate for N > 5000.\")\n"
          ]
        },
        {
          "output_type": "execute_result",
          "data": {
            "text/plain": [
              "(0.9857981204986572, 0.0)"
            ]
          },
          "metadata": {},
          "execution_count": 18
        }
      ]
    },
    {
      "cell_type": "code",
      "metadata": {
        "pycharm": {
          "name": "#%%\n"
        },
        "id": "RMiSTvutBm5l",
        "outputId": "060c54a6-7612-4eba-f092-79237bcae66d",
        "colab": {
          "base_uri": "https://localhost:8080/",
          "height": 349
        }
      },
      "source": [
        "#### PASO 3. 3. Calcular una matriz de correlaciones para “diabetes”, “hipertensión”, “obesidad”, “tabaquismo” y “fallecido”. Reportar los resultados en un “Heat Map”\n",
        "\n",
        "\n",
        "datos[\"Fallecidos\"] = np.where(datos[\"FECHA_DEF\"] == '9999-99-99',0,1)\n",
        "#Heatmap\n",
        "enfermedades = [\"DIABETES\",\"HIPERTENSION\",\"OBESIDAD\",\"TABAQUISMO\",\"Fallecidos\"]\n",
        "sb.heatmap(datos.loc[:,enfermedades].corr(method = \"spearman\"))"
      ],
      "execution_count": null,
      "outputs": [
        {
          "output_type": "execute_result",
          "data": {
            "text/plain": [
              "<matplotlib.axes._subplots.AxesSubplot at 0x7f7d024b0150>"
            ]
          },
          "metadata": {},
          "execution_count": 19
        },
        {
          "output_type": "display_data",
          "data": {
            "image/png": "[encoded data removed]",
            "text/plain": [
              "<Figure size 432x288 with 2 Axes>"
            ]
          },
          "metadata": {
            "needs_background": "light"
          }
        }
      ]
    },
    {
      "cell_type": "code",
      "metadata": {
        "pycharm": {
          "name": "#%%\n"
        },
        "id": "kDCdO-_UBm5m",
        "colab": {
          "base_uri": "https://localhost:8080/",
          "height": 786
        },
        "outputId": "6306ea1c-5c55-4f2e-930f-c09b1d0729bd"
      },
      "source": [
        "for x in enfermedades:\n",
        "    positivos[x] = positivos[x].replace(1,0)\n",
        "    positivos[x] = positivos[x].replace(2,1)"
      ],
      "execution_count": null,
      "outputs": [
        {
          "output_type": "stream",
          "name": "stderr",
          "text": [
            "/usr/local/lib/python3.7/dist-packages/ipykernel_launcher.py:2: SettingWithCopyWarning: \n",
            "A value is trying to be set on a copy of a slice from a DataFrame.\n",
            "Try using .loc[row_indexer,col_indexer] = value instead\n",
            "\n",
            "See the caveats in the documentation: https://pandas.pydata.org/pandas-docs/stable/user_guide/indexing.html#returning-a-view-versus-a-copy\n",
            "  \n",
            "/usr/local/lib/python3.7/dist-packages/ipykernel_launcher.py:3: SettingWithCopyWarning: \n",
            "A value is trying to be set on a copy of a slice from a DataFrame.\n",
            "Try using .loc[row_indexer,col_indexer] = value instead\n",
            "\n",
            "See the caveats in the documentation: https://pandas.pydata.org/pandas-docs/stable/user_guide/indexing.html#returning-a-view-versus-a-copy\n",
            "  This is separate from the ipykernel package so we can avoid doing imports until\n"
          ]
        },
        {
          "output_type": "error",
          "ename": "KeyError",
          "evalue": "ignored",
          "traceback": [
            "\u001b[0;31m---------------------------------------------------------------------------\u001b[0m",
            "\u001b[0;31mKeyError\u001b[0m                                  Traceback (most recent call last)",
            "\u001b[0;32m/usr/local/lib/python3.7/dist-packages/pandas/core/indexes/base.py\u001b[0m in \u001b[0;36mget_loc\u001b[0;34m(self, key, method, tolerance)\u001b[0m\n\u001b[1;32m   2897\u001b[0m             \u001b[0;32mtry\u001b[0m\u001b[0;34m:\u001b[0m\u001b[0;34m\u001b[0m\u001b[0;34m\u001b[0m\u001b[0m\n\u001b[0;32m-> 2898\u001b[0;31m                 \u001b[0;32mreturn\u001b[0m \u001b[0mself\u001b[0m\u001b[0;34m.\u001b[0m\u001b[0m_engine\u001b[0m\u001b[0;34m.\u001b[0m\u001b[0mget_loc\u001b[0m\u001b[0;34m(\u001b[0m\u001b[0mcasted_key\u001b[0m\u001b[0;34m)\u001b[0m\u001b[0;34m\u001b[0m\u001b[0;34m\u001b[0m\u001b[0m\n\u001b[0m\u001b[1;32m   2899\u001b[0m             \u001b[0;32mexcept\u001b[0m \u001b[0mKeyError\u001b[0m \u001b[0;32mas\u001b[0m \u001b[0merr\u001b[0m\u001b[0;34m:\u001b[0m\u001b[0;34m\u001b[0m\u001b[0;34m\u001b[0m\u001b[0m\n",
            "\u001b[0;32mpandas/_libs/index.pyx\u001b[0m in \u001b[0;36mpandas._libs.index.IndexEngine.get_loc\u001b[0;34m()\u001b[0m\n",
            "\u001b[0;32mpandas/_libs/index.pyx\u001b[0m in \u001b[0;36mpandas._libs.index.IndexEngine.get_loc\u001b[0;34m()\u001b[0m\n",
            "\u001b[0;32mpandas/_libs/hashtable_class_helper.pxi\u001b[0m in \u001b[0;36mpandas._libs.hashtable.PyObjectHashTable.get_item\u001b[0;34m()\u001b[0m\n",
            "\u001b[0;32mpandas/_libs/hashtable_class_helper.pxi\u001b[0m in \u001b[0;36mpandas._libs.hashtable.PyObjectHashTable.get_item\u001b[0;34m()\u001b[0m\n",
            "\u001b[0;31mKeyError\u001b[0m: 'Fallecidos'",
            "\nThe above exception was the direct cause of the following exception:\n",
            "\u001b[0;31mKeyError\u001b[0m                                  Traceback (most recent call last)",
            "\u001b[0;32m<ipython-input-20-01634a0f05d3>\u001b[0m in \u001b[0;36m<module>\u001b[0;34m()\u001b[0m\n\u001b[1;32m      1\u001b[0m \u001b[0;32mfor\u001b[0m \u001b[0mx\u001b[0m \u001b[0;32min\u001b[0m \u001b[0menfermedades\u001b[0m\u001b[0;34m:\u001b[0m\u001b[0;34m\u001b[0m\u001b[0;34m\u001b[0m\u001b[0m\n\u001b[0;32m----> 2\u001b[0;31m     \u001b[0mpositivos\u001b[0m\u001b[0;34m[\u001b[0m\u001b[0mx\u001b[0m\u001b[0;34m]\u001b[0m \u001b[0;34m=\u001b[0m \u001b[0mpositivos\u001b[0m\u001b[0;34m[\u001b[0m\u001b[0mx\u001b[0m\u001b[0;34m]\u001b[0m\u001b[0;34m.\u001b[0m\u001b[0mreplace\u001b[0m\u001b[0;34m(\u001b[0m\u001b[0;36m1\u001b[0m\u001b[0;34m,\u001b[0m\u001b[0;36m0\u001b[0m\u001b[0;34m)\u001b[0m\u001b[0;34m\u001b[0m\u001b[0;34m\u001b[0m\u001b[0m\n\u001b[0m\u001b[1;32m      3\u001b[0m     \u001b[0mpositivos\u001b[0m\u001b[0;34m[\u001b[0m\u001b[0mx\u001b[0m\u001b[0;34m]\u001b[0m \u001b[0;34m=\u001b[0m \u001b[0mpositivos\u001b[0m\u001b[0;34m[\u001b[0m\u001b[0mx\u001b[0m\u001b[0;34m]\u001b[0m\u001b[0;34m.\u001b[0m\u001b[0mreplace\u001b[0m\u001b[0;34m(\u001b[0m\u001b[0;36m2\u001b[0m\u001b[0;34m,\u001b[0m\u001b[0;36m1\u001b[0m\u001b[0;34m)\u001b[0m\u001b[0;34m\u001b[0m\u001b[0;34m\u001b[0m\u001b[0m\n",
            "\u001b[0;32m/usr/local/lib/python3.7/dist-packages/pandas/core/frame.py\u001b[0m in \u001b[0;36m__getitem__\u001b[0;34m(self, key)\u001b[0m\n\u001b[1;32m   2904\u001b[0m             \u001b[0;32mif\u001b[0m \u001b[0mself\u001b[0m\u001b[0;34m.\u001b[0m\u001b[0mcolumns\u001b[0m\u001b[0;34m.\u001b[0m\u001b[0mnlevels\u001b[0m \u001b[0;34m>\u001b[0m \u001b[0;36m1\u001b[0m\u001b[0;34m:\u001b[0m\u001b[0;34m\u001b[0m\u001b[0;34m\u001b[0m\u001b[0m\n\u001b[1;32m   2905\u001b[0m                 \u001b[0;32mreturn\u001b[0m \u001b[0mself\u001b[0m\u001b[0;34m.\u001b[0m\u001b[0m_getitem_multilevel\u001b[0m\u001b[0;34m(\u001b[0m\u001b[0mkey\u001b[0m\u001b[0;34m)\u001b[0m\u001b[0;34m\u001b[0m\u001b[0;34m\u001b[0m\u001b[0m\n\u001b[0;32m-> 2906\u001b[0;31m             \u001b[0mindexer\u001b[0m \u001b[0;34m=\u001b[0m \u001b[0mself\u001b[0m\u001b[0;34m.\u001b[0m\u001b[0mcolumns\u001b[0m\u001b[0;34m.\u001b[0m\u001b[0mget_loc\u001b[0m\u001b[0;34m(\u001b[0m\u001b[0mkey\u001b[0m\u001b[0;34m)\u001b[0m\u001b[0;34m\u001b[0m\u001b[0;34m\u001b[0m\u001b[0m\n\u001b[0m\u001b[1;32m   2907\u001b[0m             \u001b[0;32mif\u001b[0m \u001b[0mis_integer\u001b[0m\u001b[0;34m(\u001b[0m\u001b[0mindexer\u001b[0m\u001b[0;34m)\u001b[0m\u001b[0;34m:\u001b[0m\u001b[0;34m\u001b[0m\u001b[0;34m\u001b[0m\u001b[0m\n\u001b[1;32m   2908\u001b[0m                 \u001b[0mindexer\u001b[0m \u001b[0;34m=\u001b[0m \u001b[0;34m[\u001b[0m\u001b[0mindexer\u001b[0m\u001b[0;34m]\u001b[0m\u001b[0;34m\u001b[0m\u001b[0;34m\u001b[0m\u001b[0m\n",
            "\u001b[0;32m/usr/local/lib/python3.7/dist-packages/pandas/core/indexes/base.py\u001b[0m in \u001b[0;36mget_loc\u001b[0;34m(self, key, method, tolerance)\u001b[0m\n\u001b[1;32m   2898\u001b[0m                 \u001b[0;32mreturn\u001b[0m \u001b[0mself\u001b[0m\u001b[0;34m.\u001b[0m\u001b[0m_engine\u001b[0m\u001b[0;34m.\u001b[0m\u001b[0mget_loc\u001b[0m\u001b[0;34m(\u001b[0m\u001b[0mcasted_key\u001b[0m\u001b[0;34m)\u001b[0m\u001b[0;34m\u001b[0m\u001b[0;34m\u001b[0m\u001b[0m\n\u001b[1;32m   2899\u001b[0m             \u001b[0;32mexcept\u001b[0m \u001b[0mKeyError\u001b[0m \u001b[0;32mas\u001b[0m \u001b[0merr\u001b[0m\u001b[0;34m:\u001b[0m\u001b[0;34m\u001b[0m\u001b[0;34m\u001b[0m\u001b[0m\n\u001b[0;32m-> 2900\u001b[0;31m                 \u001b[0;32mraise\u001b[0m \u001b[0mKeyError\u001b[0m\u001b[0;34m(\u001b[0m\u001b[0mkey\u001b[0m\u001b[0;34m)\u001b[0m \u001b[0;32mfrom\u001b[0m \u001b[0merr\u001b[0m\u001b[0;34m\u001b[0m\u001b[0;34m\u001b[0m\u001b[0m\n\u001b[0m\u001b[1;32m   2901\u001b[0m \u001b[0;34m\u001b[0m\u001b[0m\n\u001b[1;32m   2902\u001b[0m         \u001b[0;32mif\u001b[0m \u001b[0mtolerance\u001b[0m \u001b[0;32mis\u001b[0m \u001b[0;32mnot\u001b[0m \u001b[0;32mNone\u001b[0m\u001b[0;34m:\u001b[0m\u001b[0;34m\u001b[0m\u001b[0;34m\u001b[0m\u001b[0m\n",
            "\u001b[0;31mKeyError\u001b[0m: 'Fallecidos'"
          ]
        }
      ]
    },
    {
      "cell_type": "code",
      "metadata": {
        "pycharm": {
          "name": "#%%\n"
        },
        "id": "4VvTAUYYBm5o",
        "outputId": "c08d5a7e-cbe4-4d61-c841-63e55a172217",
        "colab": {
          "base_uri": "https://localhost:8080/",
          "height": 1000
        }
      },
      "source": [
        "#### PASO 4. Realizar gráficos box-plot para la variable “fallecido”, con cada una de las comorbilidades y la edad\n",
        "\n",
        "\n",
        "for y in enfermedades:\n",
        "    sb.boxplot(x='Fallecidos',y=y,data=datos)\n",
        "    plt.show()"
      ],
      "execution_count": null,
      "outputs": [
        {
          "output_type": "display_data",
          "data": {
            "image/png": "[encoded data removed]",
            "text/plain": [
              "<Figure size 432x288 with 1 Axes>"
            ]
          },
          "metadata": {
            "needs_background": "light"
          }
        },
        {
          "output_type": "display_data",
          "data": {
            "image/png": "[encoded data removed]",
            "text/plain": [
              "<Figure size 432x288 with 1 Axes>"
            ]
          },
          "metadata": {
            "needs_background": "light"
          }
        },
        {
          "output_type": "display_data",
          "data": {
            "image/png": "[encoded data removed]",
            "text/plain": [
              "<Figure size 432x288 with 1 Axes>"
            ]
          },
          "metadata": {
            "needs_background": "light"
          }
        },
        {
          "output_type": "display_data",
          "data": {
            "image/png": "[encoded data removed]",
            "text/plain": [
              "<Figure size 432x288 with 1 Axes>"
            ]
          },
          "metadata": {
            "needs_background": "light"
          }
        },
        {
          "output_type": "display_data",
          "data": {
            "image/png": "[encoded data removed]",
            "text/plain": [
              "<Figure size 432x288 with 1 Axes>"
            ]
          },
          "metadata": {
            "needs_background": "light"
          }
        }
      ]
    },
    {
      "cell_type": "markdown",
      "metadata": {
        "collapsed": false,
        "id": "80wzfBk-Bm5o"
      },
      "source": [
        "## 5. Realizar gráficos de barras para la variable “fallecido”, con cada una de las comorbilidades\n",
        "y la edad. En total serán 5 gráficos"
      ]
    },
    {
      "cell_type": "code",
      "metadata": {
        "pycharm": {
          "name": "#%%\n"
        },
        "id": "nPY0HltUBm5p",
        "outputId": "94fdeed1-ab1d-4352-c332-9d1847452649",
        "colab": {
          "base_uri": "https://localhost:8080/",
          "height": 1000
        }
      },
      "source": [
        "#### PASO Realizar gráficos de barras para la variable “fallecido”, con cada una de las comorbilidades y la edad.\n",
        "\"HIPERTENSION\",\"OBESIDAD\",\"TABAQUISMO\"\n",
        "datos = datos.loc[(datos[\"DIABETES\"] <=2) & (datos[\"HIPERTENSION\"] <=2) & (datos[\"OBESIDAD\"] <=2) &\n",
        "                       (datos[\"TABAQUISMO\"] <=2) ]\n",
        "for y in enfermedades:\n",
        "    t = pd.crosstab(datos[\"Fallecidos\"],datos[y])\n",
        "    t.div(t.sum(1).astype(float),axis=0).plot(kind=\"bar\",stacked=True,figsize=(4,4))\n",
        "    plt.xlabel(\"Fallecidos\")\n",
        "    plt.ylabel(y)\n",
        "    plt.show()\n"
      ],
      "execution_count": null,
      "outputs": [
        {
          "output_type": "display_data",
          "data": {
            "image/png": "[encoded data removed]",
            "text/plain": [
              "<Figure size 288x288 with 1 Axes>"
            ]
          },
          "metadata": {
            "needs_background": "light"
          }
        },
        {
          "output_type": "display_data",
          "data": {
            "image/png": "[encoded data removed]",
            "text/plain": [
              "<Figure size 288x288 with 1 Axes>"
            ]
          },
          "metadata": {
            "needs_background": "light"
          }
        },
        {
          "output_type": "display_data",
          "data": {
            "image/png": "[encoded data removed]",
            "text/plain": [
              "<Figure size 288x288 with 1 Axes>"
            ]
          },
          "metadata": {
            "needs_background": "light"
          }
        },
        {
          "output_type": "display_data",
          "data": {
            "image/png": "[encoded data removed]",
            "text/plain": [
              "<Figure size 288x288 with 1 Axes>"
            ]
          },
          "metadata": {
            "needs_background": "light"
          }
        },
        {
          "output_type": "display_data",
          "data": {
            "image/png": "[encoded data removed]",
            "text/plain": [
              "<Figure size 288x288 with 1 Axes>"
            ]
          },
          "metadata": {
            "needs_background": "light"
          }
        }
      ]
    },
    {
      "cell_type": "code",
      "metadata": {
        "pycharm": {
          "name": "#%%\n"
        },
        "id": "YfZgJVS7Bm5q",
        "outputId": "6bc5811b-a576-49cd-eac7-7550a2b69d00",
        "colab": {
          "base_uri": "https://localhost:8080/"
        }
      },
      "source": [
        "#### PASO 6. Construir un modelo de Máquina de Soporte Vectorial (classifier). Las variables predictoras son “diabetes”, “hipertensión”, “obesidad” y “tabaquismo”, además de la “edad” (X_test, X_train). La variable independiente es “fallecimiento” (y_test, y_train). Tomaremos en cuenta que la población está desbalanceada,por lo que prodemos con técnica de\n",
        "\n",
        "\n",
        "from collections import Counter\n",
        "#Creación de fallecidos\n",
        "#Separación de datos\n",
        "datos = positivos\n",
        "enfermedades = [\"DIABETES\",\"HIPERTENSION\",\"OBESIDAD\",\"TABAQUISMO\", \"EDAD\",\"Fallecidos\"]\n",
        "datos[\"Fallecidos\"] = np.where(datos[\"FECHA_DEF\"] == '9999-99-99',0,1)\n",
        "datos = datos.loc[(datos[\"DIABETES\"] <=2) & (datos[\"HIPERTENSION\"] <=2) & (datos[\"OBESIDAD\"] <=2) &\n",
        "                       (datos[\"TABAQUISMO\"] <=2) ]\n",
        "X = datos.loc[:,enfermedades]\n",
        "y = datos['Fallecidos']\n",
        "X.drop('Fallecidos', axis = 1,inplace = True)\n",
        "print(Counter(y))\n",
        "X_train, X_test, y_train, y_test = train_test_split(X, y, test_size = 0.98, random_state = 0)\n",
        "print(Counter(y_train))\n",
        "print(Counter(y_test))"
      ],
      "execution_count": null,
      "outputs": [
        {
          "output_type": "stream",
          "name": "stderr",
          "text": [
            "/usr/local/lib/python3.7/dist-packages/ipykernel_launcher.py:9: SettingWithCopyWarning: \n",
            "A value is trying to be set on a copy of a slice from a DataFrame.\n",
            "Try using .loc[row_indexer,col_indexer] = value instead\n",
            "\n",
            "See the caveats in the documentation: https://pandas.pydata.org/pandas-docs/stable/user_guide/indexing.html#returning-a-view-versus-a-copy\n",
            "  if __name__ == '__main__':\n"
          ]
        },
        {
          "output_type": "stream",
          "name": "stdout",
          "text": [
            "Counter({0: 3611211, 1: 294596})\n",
            "Counter({0: 72106, 1: 6010})\n",
            "Counter({0: 3539105, 1: 288586})\n"
          ]
        }
      ]
    },
    {
      "cell_type": "code",
      "metadata": {
        "pycharm": {
          "name": "#%%\n"
        },
        "id": "fFUeMFDiBm5r",
        "outputId": "64a18bda-9870-45d0-9168-b33101efbfef",
        "colab": {
          "base_uri": "https://localhost:8080/",
          "height": 419
        }
      },
      "source": [
        "X_test"
      ],
      "execution_count": null,
      "outputs": [
        {
          "output_type": "execute_result",
          "data": {
            "text/html": [
              "<div>\n",
              "<style scoped>\n",
              "    .dataframe tbody tr th:only-of-type {\n",
              "        vertical-align: middle;\n",
              "    }\n",
              "\n",
              "    .dataframe tbody tr th {\n",
              "        vertical-align: top;\n",
              "    }\n",
              "\n",
              "    .dataframe thead th {\n",
              "        text-align: right;\n",
              "    }\n",
              "</style>\n",
              "<table border=\"1\" class=\"dataframe\">\n",
              "  <thead>\n",
              "    <tr style=\"text-align: right;\">\n",
              "      <th></th>\n",
              "      <th>DIABETES</th>\n",
              "      <th>HIPERTENSION</th>\n",
              "      <th>OBESIDAD</th>\n",
              "      <th>TABAQUISMO</th>\n",
              "      <th>EDAD</th>\n",
              "    </tr>\n",
              "  </thead>\n",
              "  <tbody>\n",
              "    <tr>\n",
              "      <th>4000375</th>\n",
              "      <td>0</td>\n",
              "      <td>0</td>\n",
              "      <td>0</td>\n",
              "      <td>0</td>\n",
              "      <td>74</td>\n",
              "    </tr>\n",
              "    <tr>\n",
              "      <th>8989465</th>\n",
              "      <td>0</td>\n",
              "      <td>0</td>\n",
              "      <td>0</td>\n",
              "      <td>0</td>\n",
              "      <td>61</td>\n",
              "    </tr>\n",
              "    <tr>\n",
              "      <th>9809702</th>\n",
              "      <td>0</td>\n",
              "      <td>0</td>\n",
              "      <td>0</td>\n",
              "      <td>0</td>\n",
              "      <td>36</td>\n",
              "    </tr>\n",
              "    <tr>\n",
              "      <th>1494517</th>\n",
              "      <td>0</td>\n",
              "      <td>0</td>\n",
              "      <td>0</td>\n",
              "      <td>0</td>\n",
              "      <td>39</td>\n",
              "    </tr>\n",
              "    <tr>\n",
              "      <th>4301618</th>\n",
              "      <td>0</td>\n",
              "      <td>0</td>\n",
              "      <td>0</td>\n",
              "      <td>0</td>\n",
              "      <td>46</td>\n",
              "    </tr>\n",
              "    <tr>\n",
              "      <th>...</th>\n",
              "      <td>...</td>\n",
              "      <td>...</td>\n",
              "      <td>...</td>\n",
              "      <td>...</td>\n",
              "      <td>...</td>\n",
              "    </tr>\n",
              "    <tr>\n",
              "      <th>580962</th>\n",
              "      <td>0</td>\n",
              "      <td>0</td>\n",
              "      <td>0</td>\n",
              "      <td>0</td>\n",
              "      <td>65</td>\n",
              "    </tr>\n",
              "    <tr>\n",
              "      <th>3351172</th>\n",
              "      <td>0</td>\n",
              "      <td>0</td>\n",
              "      <td>0</td>\n",
              "      <td>0</td>\n",
              "      <td>28</td>\n",
              "    </tr>\n",
              "    <tr>\n",
              "      <th>2966029</th>\n",
              "      <td>0</td>\n",
              "      <td>0</td>\n",
              "      <td>0</td>\n",
              "      <td>0</td>\n",
              "      <td>76</td>\n",
              "    </tr>\n",
              "    <tr>\n",
              "      <th>3823160</th>\n",
              "      <td>0</td>\n",
              "      <td>0</td>\n",
              "      <td>0</td>\n",
              "      <td>0</td>\n",
              "      <td>36</td>\n",
              "    </tr>\n",
              "    <tr>\n",
              "      <th>470430</th>\n",
              "      <td>0</td>\n",
              "      <td>0</td>\n",
              "      <td>0</td>\n",
              "      <td>0</td>\n",
              "      <td>28</td>\n",
              "    </tr>\n",
              "  </tbody>\n",
              "</table>\n",
              "<p>3827691 rows × 5 columns</p>\n",
              "</div>"
            ],
            "text/plain": [
              "         DIABETES  HIPERTENSION  OBESIDAD  TABAQUISMO  EDAD\n",
              "4000375         0             0         0           0    74\n",
              "8989465         0             0         0           0    61\n",
              "9809702         0             0         0           0    36\n",
              "1494517         0             0         0           0    39\n",
              "4301618         0             0         0           0    46\n",
              "...           ...           ...       ...         ...   ...\n",
              "580962          0             0         0           0    65\n",
              "3351172         0             0         0           0    28\n",
              "2966029         0             0         0           0    76\n",
              "3823160         0             0         0           0    36\n",
              "470430          0             0         0           0    28\n",
              "\n",
              "[3827691 rows x 5 columns]"
            ]
          },
          "metadata": {},
          "execution_count": 25
        }
      ]
    },
    {
      "cell_type": "code",
      "metadata": {
        "pycharm": {
          "name": "#%%\n"
        },
        "id": "Z-LfUDj_Bm5s",
        "outputId": "f5220549-b5a4-4c4e-8ebf-bcd4bd202b00",
        "colab": {
          "base_uri": "https://localhost:8080/"
        }
      },
      "source": [
        "param_grid = {'C': [1,0.1,0.01], 'gamma': [1,0.1,0.01,0.001],'kernel': ['rbf','sigmoid']}\n",
        "grid = GridSearchCV(SVC(),param_grid,refit=True,verbose=2,cv=4)\n",
        "grid.fit(X_train,y_train)"
      ],
      "execution_count": null,
      "outputs": [
        {
          "output_type": "stream",
          "name": "stdout",
          "text": [
            "Fitting 4 folds for each of 24 candidates, totalling 96 fits\n",
            "[CV] END ...........................C=1, gamma=1, kernel=rbf; total time=  39.3s\n",
            "[CV] END ...........................C=1, gamma=1, kernel=rbf; total time=  39.0s\n",
            "[CV] END ...........................C=1, gamma=1, kernel=rbf; total time=  39.0s\n",
            "[CV] END ...........................C=1, gamma=1, kernel=rbf; total time=  38.9s\n",
            "[CV] END .......................C=1, gamma=1, kernel=sigmoid; total time=  19.7s\n",
            "[CV] END .......................C=1, gamma=1, kernel=sigmoid; total time=  19.7s\n",
            "[CV] END .......................C=1, gamma=1, kernel=sigmoid; total time=  19.7s\n",
            "[CV] END .......................C=1, gamma=1, kernel=sigmoid; total time=  19.7s\n",
            "[CV] END .........................C=1, gamma=0.1, kernel=rbf; total time=  35.6s\n",
            "[CV] END .........................C=1, gamma=0.1, kernel=rbf; total time=  36.9s\n",
            "[CV] END .........................C=1, gamma=0.1, kernel=rbf; total time=  35.7s\n",
            "[CV] END .........................C=1, gamma=0.1, kernel=rbf; total time=  35.6s\n",
            "[CV] END .....................C=1, gamma=0.1, kernel=sigmoid; total time=  23.4s\n",
            "[CV] END .....................C=1, gamma=0.1, kernel=sigmoid; total time=  23.4s\n",
            "[CV] END .....................C=1, gamma=0.1, kernel=sigmoid; total time=  23.4s\n",
            "[CV] END .....................C=1, gamma=0.1, kernel=sigmoid; total time=  23.4s\n",
            "[CV] END ........................C=1, gamma=0.01, kernel=rbf; total time=  35.1s\n",
            "[CV] END ........................C=1, gamma=0.01, kernel=rbf; total time=  35.1s\n",
            "[CV] END ........................C=1, gamma=0.01, kernel=rbf; total time=  35.1s\n",
            "[CV] END ........................C=1, gamma=0.01, kernel=rbf; total time=  35.2s\n",
            "[CV] END ....................C=1, gamma=0.01, kernel=sigmoid; total time=  45.0s\n",
            "[CV] END ....................C=1, gamma=0.01, kernel=sigmoid; total time=  44.8s\n",
            "[CV] END ....................C=1, gamma=0.01, kernel=sigmoid; total time=  44.9s\n",
            "[CV] END ....................C=1, gamma=0.01, kernel=sigmoid; total time=  44.8s\n",
            "[CV] END .......................C=1, gamma=0.001, kernel=rbf; total time=  35.1s\n",
            "[CV] END .......................C=1, gamma=0.001, kernel=rbf; total time=  34.9s\n",
            "[CV] END .......................C=1, gamma=0.001, kernel=rbf; total time=  35.0s\n",
            "[CV] END .......................C=1, gamma=0.001, kernel=rbf; total time=  35.1s\n",
            "[CV] END ...................C=1, gamma=0.001, kernel=sigmoid; total time=  51.8s\n",
            "[CV] END ...................C=1, gamma=0.001, kernel=sigmoid; total time=  51.8s\n",
            "[CV] END ...................C=1, gamma=0.001, kernel=sigmoid; total time=  51.7s\n",
            "[CV] END ...................C=1, gamma=0.001, kernel=sigmoid; total time=  51.9s\n",
            "[CV] END .........................C=0.1, gamma=1, kernel=rbf; total time=  39.2s\n",
            "[CV] END .........................C=0.1, gamma=1, kernel=rbf; total time=  38.9s\n",
            "[CV] END .........................C=0.1, gamma=1, kernel=rbf; total time=  38.8s\n",
            "[CV] END .........................C=0.1, gamma=1, kernel=rbf; total time=  38.9s\n",
            "[CV] END .....................C=0.1, gamma=1, kernel=sigmoid; total time=  19.7s\n",
            "[CV] END .....................C=0.1, gamma=1, kernel=sigmoid; total time=  19.7s\n",
            "[CV] END .....................C=0.1, gamma=1, kernel=sigmoid; total time=  19.7s\n",
            "[CV] END .....................C=0.1, gamma=1, kernel=sigmoid; total time=  19.7s\n",
            "[CV] END .......................C=0.1, gamma=0.1, kernel=rbf; total time=  35.1s\n",
            "[CV] END .......................C=0.1, gamma=0.1, kernel=rbf; total time=  35.4s\n",
            "[CV] END .......................C=0.1, gamma=0.1, kernel=rbf; total time=  35.1s\n",
            "[CV] END .......................C=0.1, gamma=0.1, kernel=rbf; total time=  35.1s\n",
            "[CV] END ...................C=0.1, gamma=0.1, kernel=sigmoid; total time=  23.3s\n",
            "[CV] END ...................C=0.1, gamma=0.1, kernel=sigmoid; total time=  23.5s\n",
            "[CV] END ...................C=0.1, gamma=0.1, kernel=sigmoid; total time=  23.4s\n",
            "[CV] END ...................C=0.1, gamma=0.1, kernel=sigmoid; total time=  23.4s\n",
            "[CV] END ......................C=0.1, gamma=0.01, kernel=rbf; total time=  34.8s\n",
            "[CV] END ......................C=0.1, gamma=0.01, kernel=rbf; total time=  34.9s\n",
            "[CV] END ......................C=0.1, gamma=0.01, kernel=rbf; total time=  34.7s\n",
            "[CV] END ......................C=0.1, gamma=0.01, kernel=rbf; total time=  34.9s\n",
            "[CV] END ..................C=0.1, gamma=0.01, kernel=sigmoid; total time=  45.1s\n",
            "[CV] END ..................C=0.1, gamma=0.01, kernel=sigmoid; total time=  45.0s\n",
            "[CV] END ..................C=0.1, gamma=0.01, kernel=sigmoid; total time=  45.0s\n",
            "[CV] END ..................C=0.1, gamma=0.01, kernel=sigmoid; total time=  45.0s\n",
            "[CV] END .....................C=0.1, gamma=0.001, kernel=rbf; total time=  35.0s\n",
            "[CV] END .....................C=0.1, gamma=0.001, kernel=rbf; total time=  34.9s\n",
            "[CV] END .....................C=0.1, gamma=0.001, kernel=rbf; total time=  35.2s\n",
            "[CV] END .....................C=0.1, gamma=0.001, kernel=rbf; total time=  35.1s\n",
            "[CV] END .................C=0.1, gamma=0.001, kernel=sigmoid; total time=  51.8s\n",
            "[CV] END .................C=0.1, gamma=0.001, kernel=sigmoid; total time=  51.7s\n",
            "[CV] END .................C=0.1, gamma=0.001, kernel=sigmoid; total time=  51.6s\n",
            "[CV] END .................C=0.1, gamma=0.001, kernel=sigmoid; total time=  51.9s\n",
            "[CV] END ........................C=0.01, gamma=1, kernel=rbf; total time=  38.7s\n",
            "[CV] END ........................C=0.01, gamma=1, kernel=rbf; total time=  39.0s\n",
            "[CV] END ........................C=0.01, gamma=1, kernel=rbf; total time=  38.8s\n",
            "[CV] END ........................C=0.01, gamma=1, kernel=rbf; total time=  38.8s\n",
            "[CV] END ....................C=0.01, gamma=1, kernel=sigmoid; total time=  19.8s\n",
            "[CV] END ....................C=0.01, gamma=1, kernel=sigmoid; total time=  19.8s\n",
            "[CV] END ....................C=0.01, gamma=1, kernel=sigmoid; total time=  19.8s\n",
            "[CV] END ....................C=0.01, gamma=1, kernel=sigmoid; total time=  19.9s\n",
            "[CV] END ......................C=0.01, gamma=0.1, kernel=rbf; total time=  35.0s\n",
            "[CV] END ......................C=0.01, gamma=0.1, kernel=rbf; total time=  35.1s\n",
            "[CV] END ......................C=0.01, gamma=0.1, kernel=rbf; total time=  35.2s\n",
            "[CV] END ......................C=0.01, gamma=0.1, kernel=rbf; total time=  35.1s\n",
            "[CV] END ..................C=0.01, gamma=0.1, kernel=sigmoid; total time=  23.5s\n",
            "[CV] END ..................C=0.01, gamma=0.1, kernel=sigmoid; total time=  23.8s\n",
            "[CV] END ..................C=0.01, gamma=0.1, kernel=sigmoid; total time=  23.7s\n",
            "[CV] END ..................C=0.01, gamma=0.1, kernel=sigmoid; total time=  23.7s\n",
            "[CV] END .....................C=0.01, gamma=0.01, kernel=rbf; total time=  35.0s\n",
            "[CV] END .....................C=0.01, gamma=0.01, kernel=rbf; total time=  35.3s\n",
            "[CV] END .....................C=0.01, gamma=0.01, kernel=rbf; total time=  34.9s\n",
            "[CV] END .....................C=0.01, gamma=0.01, kernel=rbf; total time=  34.8s\n",
            "[CV] END .................C=0.01, gamma=0.01, kernel=sigmoid; total time=  45.6s\n",
            "[CV] END .................C=0.01, gamma=0.01, kernel=sigmoid; total time=  45.3s\n",
            "[CV] END .................C=0.01, gamma=0.01, kernel=sigmoid; total time=  45.2s\n",
            "[CV] END .................C=0.01, gamma=0.01, kernel=sigmoid; total time=  45.2s\n",
            "[CV] END ....................C=0.01, gamma=0.001, kernel=rbf; total time=  35.0s\n",
            "[CV] END ....................C=0.01, gamma=0.001, kernel=rbf; total time=  34.9s\n",
            "[CV] END ....................C=0.01, gamma=0.001, kernel=rbf; total time=  34.9s\n",
            "[CV] END ....................C=0.01, gamma=0.001, kernel=rbf; total time=  35.1s\n",
            "[CV] END ................C=0.01, gamma=0.001, kernel=sigmoid; total time=  52.1s\n",
            "[CV] END ................C=0.01, gamma=0.001, kernel=sigmoid; total time=  51.8s\n",
            "[CV] END ................C=0.01, gamma=0.001, kernel=sigmoid; total time=  51.7s\n",
            "[CV] END ................C=0.01, gamma=0.001, kernel=sigmoid; total time=  51.6s\n"
          ]
        },
        {
          "output_type": "execute_result",
          "data": {
            "text/plain": [
              "GridSearchCV(cv=4, estimator=SVC(),\n",
              "             param_grid={'C': [1, 0.1, 0.01], 'gamma': [1, 0.1, 0.01, 0.001],\n",
              "                         'kernel': ['rbf', 'sigmoid']},\n",
              "             verbose=2)"
            ]
          },
          "metadata": {},
          "execution_count": 26
        }
      ]
    },
    {
      "cell_type": "code",
      "metadata": {
        "pycharm": {
          "name": "#%%\n"
        },
        "id": "azhVTg8nBm5t",
        "colab": {
          "base_uri": "https://localhost:8080/"
        },
        "outputId": "f54bb01d-8e9d-4068-929b-173afffdd267"
      },
      "source": [
        "print(grid.best_estimator_)\n"
      ],
      "execution_count": null,
      "outputs": [
        {
          "output_type": "stream",
          "name": "stdout",
          "text": [
            "SVC(C=1, gamma=0.1)\n"
          ]
        }
      ]
    },
    {
      "cell_type": "code",
      "source": [
        "#### PASO 7. Hacer el “Tuneo” del modelo antes con la función “param_grid”"
      ],
      "metadata": {
        "id": "9BupOofyJol4"
      },
      "execution_count": null,
      "outputs": []
    },
    {
      "cell_type": "code",
      "metadata": {
        "pycharm": {
          "name": "#%%\n"
        },
        "id": "MA8tjHw4Bm5u"
      },
      "source": [
        "classifier_svm = SVC(kernel='sigmoid',C = 1,gamma = 1,probability=True).fit(X_train, y_train)\n"
      ],
      "execution_count": null,
      "outputs": []
    },
    {
      "cell_type": "code",
      "metadata": {
        "pycharm": {
          "name": "#%%\n"
        },
        "id": "NoXOVo5VBm5u"
      },
      "source": [
        "y_pred_svm = classifier_svm.predict(X_test)\n"
      ],
      "execution_count": null,
      "outputs": []
    },
    {
      "cell_type": "code",
      "metadata": {
        "pycharm": {
          "name": "#%%\n"
        },
        "id": "RM4HeOpBBm5v",
        "colab": {
          "base_uri": "https://localhost:8080/"
        },
        "outputId": "e6834218-e0c8-416e-8676-c592f8bbd98b"
      },
      "source": [
        "confusion_matrix(y_test, y_pred_svm)\n"
      ],
      "execution_count": null,
      "outputs": [
        {
          "output_type": "execute_result",
          "data": {
            "text/plain": [
              "array([[3527594,   11511],\n",
              "       [ 288423,     163]])"
            ]
          },
          "metadata": {},
          "execution_count": 31
        }
      ]
    },
    {
      "cell_type": "code",
      "metadata": {
        "pycharm": {
          "name": "#%%\n"
        },
        "id": "tq_Yxm00Bm5w",
        "colab": {
          "base_uri": "https://localhost:8080/",
          "height": 383
        },
        "outputId": "0f505704-1d44-49d5-f801-474d95d0245a"
      },
      "source": [
        "disp = plot_confusion_matrix(classifier_svm, X_test, y_test,\n",
        "                             #display_labels=y_test,\n",
        "                             cmap=plt.cm.Blues,\n",
        "                             normalize='true')\n",
        "disp.ax_.set_title('Matriz de confusión')\n",
        "print(disp.confusion_matrix)\n",
        "plt.show()\n"
      ],
      "execution_count": null,
      "outputs": [
        {
          "output_type": "stream",
          "name": "stderr",
          "text": [
            "/usr/local/lib/python3.7/dist-packages/sklearn/utils/deprecation.py:87: FutureWarning: Function plot_confusion_matrix is deprecated; Function `plot_confusion_matrix` is deprecated in 1.0 and will be removed in 1.2. Use one of the class methods: ConfusionMatrixDisplay.from_predictions or ConfusionMatrixDisplay.from_estimator.\n",
            "  warnings.warn(msg, category=FutureWarning)\n"
          ]
        },
        {
          "output_type": "stream",
          "name": "stdout",
          "text": [
            "[[9.96747483e-01 3.25251723e-03]\n",
            " [9.99435177e-01 5.64822964e-04]]\n"
          ]
        },
        {
          "output_type": "display_data",
          "data": {
            "image/png": "[encoded data removed]",
            "text/plain": [
              "<Figure size 432x288 with 2 Axes>"
            ]
          },
          "metadata": {
            "needs_background": "light"
          }
        }
      ]
    },
    {
      "cell_type": "code",
      "metadata": {
        "pycharm": {
          "name": "#%%\n"
        },
        "id": "-IGBkXILBm5x"
      },
      "source": [
        "y_pred_prob_svm = classifier_svm.predict_proba(X_test)"
      ],
      "execution_count": null,
      "outputs": []
    },
    {
      "cell_type": "code",
      "metadata": {
        "pycharm": {
          "name": "#%%\n"
        },
        "id": "vK8D5YfVBm5y"
      },
      "source": [
        "roc_auc_svm = roc_auc_score(y_test, y_pred_svm)\n",
        "fpr, tpr, thresholds = roc_curve(y_test, y_pred_prob_svm[:,1])\n",
        "plt.figure()\n",
        "plt.plot(fpr, tpr, label='Logistic Regression (area = %0.4f)' % roc_auc_svm)\n",
        "plt.plot([0, 1], [0, 1],'r--')\n",
        "plt.xlim([0.0, 1.0])\n",
        "plt.ylim([0.0, 1.05])\n",
        "plt.xlabel('False Positive Rate')\n",
        "plt.ylabel('True Positive Rate')\n",
        "plt.title('Receiver operating characteristic for SVM')\n",
        "plt.legend(loc=\"lower right\")\n",
        "plt.savefig('Log_ROC')\n",
        "plt.show()"
      ],
      "execution_count": null,
      "outputs": []
    },
    {
      "cell_type": "code",
      "metadata": {
        "pycharm": {
          "name": "#%%\n"
        },
        "id": "lBglnrTMBm5y",
        "colab": {
          "base_uri": "https://localhost:8080/"
        },
        "outputId": "40b5b99f-dff0-46d2-835a-b840137bd09b"
      },
      "source": [
        "from sklearn.metrics import mean_squared_error\n",
        "print(mean_squared_error(y_test,y_pred_svm))"
      ],
      "execution_count": null,
      "outputs": [
        {
          "output_type": "stream",
          "name": "stdout",
          "text": [
            "0.07835898979306323\n"
          ]
        }
      ]
    },
    {
      "cell_type": "code",
      "source": [
        "#### PASO 8. Modelo de redes neuronales"
      ],
      "metadata": {
        "id": "WQh6acjvJxcO"
      },
      "execution_count": null,
      "outputs": []
    },
    {
      "cell_type": "code",
      "metadata": {
        "pycharm": {
          "name": "#%%\n"
        },
        "id": "J93R5iuEBm50"
      },
      "source": [
        "enfermedades = [\"DIABETES\",\"HIPERTENSION\",\"OBESIDAD\",\"TABAQUISMO\", \"EDAD\",\"Fallecidos\"]\n",
        "X = datos.loc[:,enfermedades]\n",
        "y = datos['Fallecidos']\n",
        "X.drop('Fallecidos', axis = 1,inplace = True)\n",
        "X_train, X_test, y_train, y_test = train_test_split(X, y, test_size = 0.98, random_state = 0)\n",
        "#Tuning\n",
        "param_grid = {\n",
        "    'hidden_layer_sizes': [(25,25,25),(5,3,5)],\n",
        "    'activation': ['tanh', 'relu'],\n",
        "    'solver': ['sgd', 'adam'],\n",
        "    'alpha': [0.0001, 0.05],\n",
        "    'learning_rate': ['constant','adaptive'],\n",
        "}"
      ],
      "execution_count": null,
      "outputs": []
    },
    {
      "cell_type": "code",
      "metadata": {
        "pycharm": {
          "name": "#%%\n"
        },
        "id": "-AcJD_HtBm50",
        "colab": {
          "base_uri": "https://localhost:8080/"
        },
        "outputId": "ee2a009e-15ab-4950-e7b6-e9c657744833"
      },
      "source": [
        "grid = GridSearchCV(MLPClassifier(max_iter=500),param_grid,refit=True,verbose=2,cv=4)\n",
        "grid.fit(X_train,y_train)"
      ],
      "execution_count": null,
      "outputs": [
        {
          "output_type": "stream",
          "name": "stdout",
          "text": [
            "Fitting 4 folds for each of 32 candidates, totalling 128 fits\n",
            "[CV] END activation=tanh, alpha=0.0001, hidden_layer_sizes=(25, 25, 25), learning_rate=constant, solver=sgd; total time=   5.6s\n",
            "[CV] END activation=tanh, alpha=0.0001, hidden_layer_sizes=(25, 25, 25), learning_rate=constant, solver=sgd; total time=  11.2s\n",
            "[CV] END activation=tanh, alpha=0.0001, hidden_layer_sizes=(25, 25, 25), learning_rate=constant, solver=sgd; total time=  12.8s\n",
            "[CV] END activation=tanh, alpha=0.0001, hidden_layer_sizes=(25, 25, 25), learning_rate=constant, solver=sgd; total time=   8.8s\n",
            "[CV] END activation=tanh, alpha=0.0001, hidden_layer_sizes=(25, 25, 25), learning_rate=constant, solver=adam; total time=   5.4s\n",
            "[CV] END activation=tanh, alpha=0.0001, hidden_layer_sizes=(25, 25, 25), learning_rate=constant, solver=adam; total time=  10.5s\n",
            "[CV] END activation=tanh, alpha=0.0001, hidden_layer_sizes=(25, 25, 25), learning_rate=constant, solver=adam; total time=   5.8s\n",
            "[CV] END activation=tanh, alpha=0.0001, hidden_layer_sizes=(25, 25, 25), learning_rate=constant, solver=adam; total time=   5.3s\n",
            "[CV] END activation=tanh, alpha=0.0001, hidden_layer_sizes=(25, 25, 25), learning_rate=adaptive, solver=sgd; total time=  36.0s\n",
            "[CV] END activation=tanh, alpha=0.0001, hidden_layer_sizes=(25, 25, 25), learning_rate=adaptive, solver=sgd; total time=  28.6s\n",
            "[CV] END activation=tanh, alpha=0.0001, hidden_layer_sizes=(25, 25, 25), learning_rate=adaptive, solver=sgd; total time=  33.9s\n",
            "[CV] END activation=tanh, alpha=0.0001, hidden_layer_sizes=(25, 25, 25), learning_rate=adaptive, solver=sgd; total time=  26.8s\n",
            "[CV] END activation=tanh, alpha=0.0001, hidden_layer_sizes=(25, 25, 25), learning_rate=adaptive, solver=adam; total time=   7.3s\n",
            "[CV] END activation=tanh, alpha=0.0001, hidden_layer_sizes=(25, 25, 25), learning_rate=adaptive, solver=adam; total time=  10.5s\n",
            "[CV] END activation=tanh, alpha=0.0001, hidden_layer_sizes=(25, 25, 25), learning_rate=adaptive, solver=adam; total time=   5.2s\n",
            "[CV] END activation=tanh, alpha=0.0001, hidden_layer_sizes=(25, 25, 25), learning_rate=adaptive, solver=adam; total time=   4.8s\n",
            "[CV] END activation=tanh, alpha=0.0001, hidden_layer_sizes=(5, 3, 5), learning_rate=constant, solver=sgd; total time=   2.4s\n",
            "[CV] END activation=tanh, alpha=0.0001, hidden_layer_sizes=(5, 3, 5), learning_rate=constant, solver=sgd; total time=   2.5s\n",
            "[CV] END activation=tanh, alpha=0.0001, hidden_layer_sizes=(5, 3, 5), learning_rate=constant, solver=sgd; total time=   2.3s\n",
            "[CV] END activation=tanh, alpha=0.0001, hidden_layer_sizes=(5, 3, 5), learning_rate=constant, solver=sgd; total time=   2.5s\n",
            "[CV] END activation=tanh, alpha=0.0001, hidden_layer_sizes=(5, 3, 5), learning_rate=constant, solver=adam; total time=   4.6s\n",
            "[CV] END activation=tanh, alpha=0.0001, hidden_layer_sizes=(5, 3, 5), learning_rate=constant, solver=adam; total time=   5.7s\n",
            "[CV] END activation=tanh, alpha=0.0001, hidden_layer_sizes=(5, 3, 5), learning_rate=constant, solver=adam; total time=   5.5s\n",
            "[CV] END activation=tanh, alpha=0.0001, hidden_layer_sizes=(5, 3, 5), learning_rate=constant, solver=adam; total time=   5.2s\n",
            "[CV] END activation=tanh, alpha=0.0001, hidden_layer_sizes=(5, 3, 5), learning_rate=adaptive, solver=sgd; total time=  11.1s\n",
            "[CV] END activation=tanh, alpha=0.0001, hidden_layer_sizes=(5, 3, 5), learning_rate=adaptive, solver=sgd; total time=  11.2s\n",
            "[CV] END activation=tanh, alpha=0.0001, hidden_layer_sizes=(5, 3, 5), learning_rate=adaptive, solver=sgd; total time=  11.0s\n",
            "[CV] END activation=tanh, alpha=0.0001, hidden_layer_sizes=(5, 3, 5), learning_rate=adaptive, solver=sgd; total time=  11.3s\n",
            "[CV] END activation=tanh, alpha=0.0001, hidden_layer_sizes=(5, 3, 5), learning_rate=adaptive, solver=adam; total time=   8.9s\n",
            "[CV] END activation=tanh, alpha=0.0001, hidden_layer_sizes=(5, 3, 5), learning_rate=adaptive, solver=adam; total time=   6.8s\n",
            "[CV] END activation=tanh, alpha=0.0001, hidden_layer_sizes=(5, 3, 5), learning_rate=adaptive, solver=adam; total time=   2.7s\n",
            "[CV] END activation=tanh, alpha=0.0001, hidden_layer_sizes=(5, 3, 5), learning_rate=adaptive, solver=adam; total time=   7.7s\n",
            "[CV] END activation=tanh, alpha=0.05, hidden_layer_sizes=(25, 25, 25), learning_rate=constant, solver=sgd; total time=  18.3s\n",
            "[CV] END activation=tanh, alpha=0.05, hidden_layer_sizes=(25, 25, 25), learning_rate=constant, solver=sgd; total time=  12.2s\n",
            "[CV] END activation=tanh, alpha=0.05, hidden_layer_sizes=(25, 25, 25), learning_rate=constant, solver=sgd; total time=  13.1s\n",
            "[CV] END activation=tanh, alpha=0.05, hidden_layer_sizes=(25, 25, 25), learning_rate=constant, solver=sgd; total time=  16.6s\n",
            "[CV] END activation=tanh, alpha=0.05, hidden_layer_sizes=(25, 25, 25), learning_rate=constant, solver=adam; total time=  16.6s\n",
            "[CV] END activation=tanh, alpha=0.05, hidden_layer_sizes=(25, 25, 25), learning_rate=constant, solver=adam; total time=  12.0s\n",
            "[CV] END activation=tanh, alpha=0.05, hidden_layer_sizes=(25, 25, 25), learning_rate=constant, solver=adam; total time=  19.1s\n",
            "[CV] END activation=tanh, alpha=0.05, hidden_layer_sizes=(25, 25, 25), learning_rate=constant, solver=adam; total time=  18.6s\n",
            "[CV] END activation=tanh, alpha=0.05, hidden_layer_sizes=(25, 25, 25), learning_rate=adaptive, solver=sgd; total time=  30.1s\n",
            "[CV] END activation=tanh, alpha=0.05, hidden_layer_sizes=(25, 25, 25), learning_rate=adaptive, solver=sgd; total time=  42.9s\n",
            "[CV] END activation=tanh, alpha=0.05, hidden_layer_sizes=(25, 25, 25), learning_rate=adaptive, solver=sgd; total time=  33.4s\n",
            "[CV] END activation=tanh, alpha=0.05, hidden_layer_sizes=(25, 25, 25), learning_rate=adaptive, solver=sgd; total time=  30.6s\n",
            "[CV] END activation=tanh, alpha=0.05, hidden_layer_sizes=(25, 25, 25), learning_rate=adaptive, solver=adam; total time=  18.3s\n",
            "[CV] END activation=tanh, alpha=0.05, hidden_layer_sizes=(25, 25, 25), learning_rate=adaptive, solver=adam; total time=  18.4s\n",
            "[CV] END activation=tanh, alpha=0.05, hidden_layer_sizes=(25, 25, 25), learning_rate=adaptive, solver=adam; total time=  12.0s\n",
            "[CV] END activation=tanh, alpha=0.05, hidden_layer_sizes=(25, 25, 25), learning_rate=adaptive, solver=adam; total time=  19.5s\n",
            "[CV] END activation=tanh, alpha=0.05, hidden_layer_sizes=(5, 3, 5), learning_rate=constant, solver=sgd; total time=   8.8s\n",
            "[CV] END activation=tanh, alpha=0.05, hidden_layer_sizes=(5, 3, 5), learning_rate=constant, solver=sgd; total time=   2.4s\n",
            "[CV] END activation=tanh, alpha=0.05, hidden_layer_sizes=(5, 3, 5), learning_rate=constant, solver=sgd; total time=   2.3s\n",
            "[CV] END activation=tanh, alpha=0.05, hidden_layer_sizes=(5, 3, 5), learning_rate=constant, solver=sgd; total time=   2.5s\n",
            "[CV] END activation=tanh, alpha=0.05, hidden_layer_sizes=(5, 3, 5), learning_rate=constant, solver=adam; total time=   2.8s\n",
            "[CV] END activation=tanh, alpha=0.05, hidden_layer_sizes=(5, 3, 5), learning_rate=constant, solver=adam; total time=   6.1s\n",
            "[CV] END activation=tanh, alpha=0.05, hidden_layer_sizes=(5, 3, 5), learning_rate=constant, solver=adam; total time=   6.4s\n",
            "[CV] END activation=tanh, alpha=0.05, hidden_layer_sizes=(5, 3, 5), learning_rate=constant, solver=adam; total time=   6.7s\n",
            "[CV] END activation=tanh, alpha=0.05, hidden_layer_sizes=(5, 3, 5), learning_rate=adaptive, solver=sgd; total time=  11.0s\n",
            "[CV] END activation=tanh, alpha=0.05, hidden_layer_sizes=(5, 3, 5), learning_rate=adaptive, solver=sgd; total time=  11.2s\n",
            "[CV] END activation=tanh, alpha=0.05, hidden_layer_sizes=(5, 3, 5), learning_rate=adaptive, solver=sgd; total time=  11.0s\n",
            "[CV] END activation=tanh, alpha=0.05, hidden_layer_sizes=(5, 3, 5), learning_rate=adaptive, solver=sgd; total time=  21.5s\n",
            "[CV] END activation=tanh, alpha=0.05, hidden_layer_sizes=(5, 3, 5), learning_rate=adaptive, solver=adam; total time=   8.1s\n",
            "[CV] END activation=tanh, alpha=0.05, hidden_layer_sizes=(5, 3, 5), learning_rate=adaptive, solver=adam; total time=   8.9s\n",
            "[CV] END activation=tanh, alpha=0.05, hidden_layer_sizes=(5, 3, 5), learning_rate=adaptive, solver=adam; total time=   3.7s\n",
            "[CV] END activation=tanh, alpha=0.05, hidden_layer_sizes=(5, 3, 5), learning_rate=adaptive, solver=adam; total time=   6.3s\n",
            "[CV] END activation=relu, alpha=0.0001, hidden_layer_sizes=(25, 25, 25), learning_rate=constant, solver=sgd; total time=  18.2s\n",
            "[CV] END activation=relu, alpha=0.0001, hidden_layer_sizes=(25, 25, 25), learning_rate=constant, solver=sgd; total time=  14.9s\n",
            "[CV] END activation=relu, alpha=0.0001, hidden_layer_sizes=(25, 25, 25), learning_rate=constant, solver=sgd; total time=  17.2s\n",
            "[CV] END activation=relu, alpha=0.0001, hidden_layer_sizes=(25, 25, 25), learning_rate=constant, solver=sgd; total time=  12.7s\n",
            "[CV] END activation=relu, alpha=0.0001, hidden_layer_sizes=(25, 25, 25), learning_rate=constant, solver=adam; total time=   3.3s\n",
            "[CV] END activation=relu, alpha=0.0001, hidden_layer_sizes=(25, 25, 25), learning_rate=constant, solver=adam; total time=   7.2s\n",
            "[CV] END activation=relu, alpha=0.0001, hidden_layer_sizes=(25, 25, 25), learning_rate=constant, solver=adam; total time=   9.2s\n",
            "[CV] END activation=relu, alpha=0.0001, hidden_layer_sizes=(25, 25, 25), learning_rate=constant, solver=adam; total time=  10.0s\n",
            "[CV] END activation=relu, alpha=0.0001, hidden_layer_sizes=(25, 25, 25), learning_rate=adaptive, solver=sgd; total time=  26.7s\n",
            "[CV] END activation=relu, alpha=0.0001, hidden_layer_sizes=(25, 25, 25), learning_rate=adaptive, solver=sgd; total time=  27.0s\n",
            "[CV] END activation=relu, alpha=0.0001, hidden_layer_sizes=(25, 25, 25), learning_rate=adaptive, solver=sgd; total time=  23.9s\n",
            "[CV] END activation=relu, alpha=0.0001, hidden_layer_sizes=(25, 25, 25), learning_rate=adaptive, solver=sgd; total time=  26.6s\n",
            "[CV] END activation=relu, alpha=0.0001, hidden_layer_sizes=(25, 25, 25), learning_rate=adaptive, solver=adam; total time=   9.6s\n",
            "[CV] END activation=relu, alpha=0.0001, hidden_layer_sizes=(25, 25, 25), learning_rate=adaptive, solver=adam; total time=   5.4s\n",
            "[CV] END activation=relu, alpha=0.0001, hidden_layer_sizes=(25, 25, 25), learning_rate=adaptive, solver=adam; total time=   8.0s\n",
            "[CV] END activation=relu, alpha=0.0001, hidden_layer_sizes=(25, 25, 25), learning_rate=adaptive, solver=adam; total time=   5.2s\n",
            "[CV] END activation=relu, alpha=0.0001, hidden_layer_sizes=(5, 3, 5), learning_rate=constant, solver=sgd; total time=   2.3s\n",
            "[CV] END activation=relu, alpha=0.0001, hidden_layer_sizes=(5, 3, 5), learning_rate=constant, solver=sgd; total time=   6.2s\n",
            "[CV] END activation=relu, alpha=0.0001, hidden_layer_sizes=(5, 3, 5), learning_rate=constant, solver=sgd; total time=   5.8s\n",
            "[CV] END activation=relu, alpha=0.0001, hidden_layer_sizes=(5, 3, 5), learning_rate=constant, solver=sgd; total time=   9.5s\n",
            "[CV] END activation=relu, alpha=0.0001, hidden_layer_sizes=(5, 3, 5), learning_rate=constant, solver=adam; total time=   4.2s\n",
            "[CV] END activation=relu, alpha=0.0001, hidden_layer_sizes=(5, 3, 5), learning_rate=constant, solver=adam; total time=   3.2s\n",
            "[CV] END activation=relu, alpha=0.0001, hidden_layer_sizes=(5, 3, 5), learning_rate=constant, solver=adam; total time=   4.9s\n",
            "[CV] END activation=relu, alpha=0.0001, hidden_layer_sizes=(5, 3, 5), learning_rate=constant, solver=adam; total time=   3.0s\n",
            "[CV] END activation=relu, alpha=0.0001, hidden_layer_sizes=(5, 3, 5), learning_rate=adaptive, solver=sgd; total time=   9.9s\n",
            "[CV] END activation=relu, alpha=0.0001, hidden_layer_sizes=(5, 3, 5), learning_rate=adaptive, solver=sgd; total time=  22.9s\n",
            "[CV] END activation=relu, alpha=0.0001, hidden_layer_sizes=(5, 3, 5), learning_rate=adaptive, solver=sgd; total time=  16.2s\n",
            "[CV] END activation=relu, alpha=0.0001, hidden_layer_sizes=(5, 3, 5), learning_rate=adaptive, solver=sgd; total time=  21.3s\n",
            "[CV] END activation=relu, alpha=0.0001, hidden_layer_sizes=(5, 3, 5), learning_rate=adaptive, solver=adam; total time=   4.0s\n",
            "[CV] END activation=relu, alpha=0.0001, hidden_layer_sizes=(5, 3, 5), learning_rate=adaptive, solver=adam; total time=   4.7s\n",
            "[CV] END activation=relu, alpha=0.0001, hidden_layer_sizes=(5, 3, 5), learning_rate=adaptive, solver=adam; total time=   4.4s\n",
            "[CV] END activation=relu, alpha=0.0001, hidden_layer_sizes=(5, 3, 5), learning_rate=adaptive, solver=adam; total time=   5.3s\n",
            "[CV] END activation=relu, alpha=0.05, hidden_layer_sizes=(25, 25, 25), learning_rate=constant, solver=sgd; total time=  20.3s\n",
            "[CV] END activation=relu, alpha=0.05, hidden_layer_sizes=(25, 25, 25), learning_rate=constant, solver=sgd; total time=  14.2s\n",
            "[CV] END activation=relu, alpha=0.05, hidden_layer_sizes=(25, 25, 25), learning_rate=constant, solver=sgd; total time=  11.3s\n",
            "[CV] END activation=relu, alpha=0.05, hidden_layer_sizes=(25, 25, 25), learning_rate=constant, solver=sgd; total time=  14.8s\n",
            "[CV] END activation=relu, alpha=0.05, hidden_layer_sizes=(25, 25, 25), learning_rate=constant, solver=adam; total time=  23.1s\n",
            "[CV] END activation=relu, alpha=0.05, hidden_layer_sizes=(25, 25, 25), learning_rate=constant, solver=adam; total time=  22.8s\n",
            "[CV] END activation=relu, alpha=0.05, hidden_layer_sizes=(25, 25, 25), learning_rate=constant, solver=adam; total time=  42.6s\n",
            "[CV] END activation=relu, alpha=0.05, hidden_layer_sizes=(25, 25, 25), learning_rate=constant, solver=adam; total time=  18.5s\n",
            "[CV] END activation=relu, alpha=0.05, hidden_layer_sizes=(25, 25, 25), learning_rate=adaptive, solver=sgd; total time=  29.5s\n",
            "[CV] END activation=relu, alpha=0.05, hidden_layer_sizes=(25, 25, 25), learning_rate=adaptive, solver=sgd; total time=  26.2s\n",
            "[CV] END activation=relu, alpha=0.05, hidden_layer_sizes=(25, 25, 25), learning_rate=adaptive, solver=sgd; total time=  27.3s\n",
            "[CV] END activation=relu, alpha=0.05, hidden_layer_sizes=(25, 25, 25), learning_rate=adaptive, solver=sgd; total time=  26.8s\n",
            "[CV] END activation=relu, alpha=0.05, hidden_layer_sizes=(25, 25, 25), learning_rate=adaptive, solver=adam; total time=   4.7s\n",
            "[CV] END activation=relu, alpha=0.05, hidden_layer_sizes=(25, 25, 25), learning_rate=adaptive, solver=adam; total time=  26.9s\n",
            "[CV] END activation=relu, alpha=0.05, hidden_layer_sizes=(25, 25, 25), learning_rate=adaptive, solver=adam; total time=  16.2s\n",
            "[CV] END activation=relu, alpha=0.05, hidden_layer_sizes=(25, 25, 25), learning_rate=adaptive, solver=adam; total time=   3.5s\n",
            "[CV] END activation=relu, alpha=0.05, hidden_layer_sizes=(5, 3, 5), learning_rate=constant, solver=sgd; total time=   7.0s\n",
            "[CV] END activation=relu, alpha=0.05, hidden_layer_sizes=(5, 3, 5), learning_rate=constant, solver=sgd; total time=  13.4s\n",
            "[CV] END activation=relu, alpha=0.05, hidden_layer_sizes=(5, 3, 5), learning_rate=constant, solver=sgd; total time=   2.5s\n",
            "[CV] END activation=relu, alpha=0.05, hidden_layer_sizes=(5, 3, 5), learning_rate=constant, solver=sgd; total time=  12.2s\n",
            "[CV] END activation=relu, alpha=0.05, hidden_layer_sizes=(5, 3, 5), learning_rate=constant, solver=adam; total time=   5.7s\n",
            "[CV] END activation=relu, alpha=0.05, hidden_layer_sizes=(5, 3, 5), learning_rate=constant, solver=adam; total time=   7.1s\n",
            "[CV] END activation=relu, alpha=0.05, hidden_layer_sizes=(5, 3, 5), learning_rate=constant, solver=adam; total time=   3.4s\n",
            "[CV] END activation=relu, alpha=0.05, hidden_layer_sizes=(5, 3, 5), learning_rate=constant, solver=adam; total time=   4.9s\n",
            "[CV] END activation=relu, alpha=0.05, hidden_layer_sizes=(5, 3, 5), learning_rate=adaptive, solver=sgd; total time=  13.8s\n",
            "[CV] END activation=relu, alpha=0.05, hidden_layer_sizes=(5, 3, 5), learning_rate=adaptive, solver=sgd; total time=  10.2s\n",
            "[CV] END activation=relu, alpha=0.05, hidden_layer_sizes=(5, 3, 5), learning_rate=adaptive, solver=sgd; total time=  20.1s\n",
            "[CV] END activation=relu, alpha=0.05, hidden_layer_sizes=(5, 3, 5), learning_rate=adaptive, solver=sgd; total time=  10.3s\n",
            "[CV] END activation=relu, alpha=0.05, hidden_layer_sizes=(5, 3, 5), learning_rate=adaptive, solver=adam; total time=   5.8s\n",
            "[CV] END activation=relu, alpha=0.05, hidden_layer_sizes=(5, 3, 5), learning_rate=adaptive, solver=adam; total time=   5.0s\n",
            "[CV] END activation=relu, alpha=0.05, hidden_layer_sizes=(5, 3, 5), learning_rate=adaptive, solver=adam; total time=   3.0s\n",
            "[CV] END activation=relu, alpha=0.05, hidden_layer_sizes=(5, 3, 5), learning_rate=adaptive, solver=adam; total time=   6.7s\n"
          ]
        },
        {
          "output_type": "execute_result",
          "data": {
            "text/plain": [
              "GridSearchCV(cv=4, estimator=MLPClassifier(max_iter=500),\n",
              "             param_grid={'activation': ['tanh', 'relu'],\n",
              "                         'alpha': [0.0001, 0.05],\n",
              "                         'hidden_layer_sizes': [(25, 25, 25), (5, 3, 5)],\n",
              "                         'learning_rate': ['constant', 'adaptive'],\n",
              "                         'solver': ['sgd', 'adam']},\n",
              "             verbose=2)"
            ]
          },
          "metadata": {},
          "execution_count": 37
        }
      ]
    },
    {
      "cell_type": "code",
      "metadata": {
        "pycharm": {
          "name": "#%%\n"
        },
        "id": "uGOhI1eYBm51",
        "colab": {
          "base_uri": "https://localhost:8080/"
        },
        "outputId": "9481e8b7-59bc-44e0-ccd5-846697efbfb8"
      },
      "source": [
        "print(grid.best_estimator_)"
      ],
      "execution_count": null,
      "outputs": [
        {
          "output_type": "stream",
          "name": "stdout",
          "text": [
            "MLPClassifier(activation='tanh', alpha=0.05, hidden_layer_sizes=(5, 3, 5),\n",
            "              max_iter=500)\n"
          ]
        }
      ]
    },
    {
      "cell_type": "code",
      "metadata": {
        "pycharm": {
          "name": "#%%\n"
        },
        "id": "zQkZSKRDBm52"
      },
      "source": [
        "classifier_NN = MLPClassifier(activation='tanh', hidden_layer_sizes=(25, 25, 25), solver='sgd', max_iter=500).fit(X_train, y_train)"
      ],
      "execution_count": null,
      "outputs": []
    },
    {
      "cell_type": "code",
      "metadata": {
        "pycharm": {
          "name": "#%%\n"
        },
        "id": "tw2XuapyBm53"
      },
      "source": [
        "y_pre_NN = classifier_NN.predict(X_test)"
      ],
      "execution_count": null,
      "outputs": []
    },
    {
      "cell_type": "code",
      "metadata": {
        "pycharm": {
          "name": "#%%\n"
        },
        "id": "qozBeUuOBm55",
        "colab": {
          "base_uri": "https://localhost:8080/"
        },
        "outputId": "b005ee8c-b72c-4436-c974-75d5ba02b090"
      },
      "source": [
        "confusion_matrix(y_test, y_pre_NN)"
      ],
      "execution_count": null,
      "outputs": [
        {
          "output_type": "execute_result",
          "data": {
            "text/plain": [
              "array([[3539105,       0],\n",
              "       [ 288586,       0]])"
            ]
          },
          "metadata": {},
          "execution_count": 41
        }
      ]
    },
    {
      "cell_type": "code",
      "metadata": {
        "pycharm": {
          "name": "#%%\n"
        },
        "id": "duZ1dTKrBm58",
        "colab": {
          "base_uri": "https://localhost:8080/",
          "height": 383
        },
        "outputId": "2b10f41b-a500-4c85-c797-f1bd20905b13"
      },
      "source": [
        "disp = plot_confusion_matrix(classifier_NN, X_test, y_test,\n",
        "                             #display_labels=y_test,\n",
        "                             cmap=plt.cm.Blues,\n",
        "                             normalize='true')\n",
        "disp.ax_.set_title('Matriz de confusión')\n",
        "print(disp.confusion_matrix)\n",
        "plt.show()"
      ],
      "execution_count": null,
      "outputs": [
        {
          "output_type": "stream",
          "name": "stderr",
          "text": [
            "/usr/local/lib/python3.7/dist-packages/sklearn/utils/deprecation.py:87: FutureWarning: Function plot_confusion_matrix is deprecated; Function `plot_confusion_matrix` is deprecated in 1.0 and will be removed in 1.2. Use one of the class methods: ConfusionMatrixDisplay.from_predictions or ConfusionMatrixDisplay.from_estimator.\n",
            "  warnings.warn(msg, category=FutureWarning)\n"
          ]
        },
        {
          "output_type": "stream",
          "name": "stdout",
          "text": [
            "[[1. 0.]\n",
            " [1. 0.]]\n"
          ]
        },
        {
          "output_type": "display_data",
          "data": {
            "image/png": "[encoded data removed]",
            "text/plain": [
              "<Figure size 432x288 with 2 Axes>"
            ]
          },
          "metadata": {
            "needs_background": "light"
          }
        }
      ]
    },
    {
      "cell_type": "code",
      "metadata": {
        "pycharm": {
          "name": "#%%\n"
        },
        "id": "IpKlN19sBm5-",
        "colab": {
          "base_uri": "https://localhost:8080/",
          "height": 295
        },
        "outputId": "001acfb8-3eed-4cc2-a615-9b292c98c636"
      },
      "source": [
        "from sklearn.metrics import roc_auc_score\n",
        "from sklearn.metrics import roc_curve\n",
        "y_pred_prob_NN = classifier_NN.predict_proba(X_test)\n",
        "roc_auc_NN = roc_auc_score(y_test, y_pre_NN)\n",
        "fpr, tpr, thresholds = roc_curve(y_test, y_pred_prob_NN[:,1])\n",
        "plt.figure()\n",
        "plt.plot(fpr, tpr, label='Logistic Regression (area = %0.4f)' % roc_auc_NN)\n",
        "plt.plot([0, 1], [0, 1],'r--')\n",
        "plt.xlim([0.0, 1.0])\n",
        "plt.ylim([0.0, 1.05])\n",
        "plt.xlabel('False Positive Rate')\n",
        "plt.ylabel('True Positive Rate')\n",
        "plt.title('Receiver operating characteristic for NN')\n",
        "plt.legend(loc=\"lower right\")\n",
        "plt.savefig('Log_ROC')\n",
        "plt.show()"
      ],
      "execution_count": null,
      "outputs": [
        {
          "output_type": "display_data",
          "data": {
            "image/png": "[encoded data removed]",
            "text/plain": [
              "<Figure size 432x288 with 1 Axes>"
            ]
          },
          "metadata": {
            "needs_background": "light"
          }
        }
      ]
    },
    {
      "cell_type": "code",
      "metadata": {
        "pycharm": {
          "name": "#%%\n"
        },
        "id": "uzgDHW3XBm5_",
        "colab": {
          "base_uri": "https://localhost:8080/"
        },
        "outputId": "d39b0e62-e4e5-4756-8d3a-33ee50beb4d8"
      },
      "source": [
        "print(mean_squared_error(y_test,y_pre_NN))\n"
      ],
      "execution_count": null,
      "outputs": [
        {
          "output_type": "stream",
          "name": "stdout",
          "text": [
            "0.07539427816926705\n"
          ]
        }
      ]
    },
    {
      "cell_type": "code",
      "metadata": {
        "pycharm": {
          "name": "#%%\n"
        },
        "id": "rLjz_eDJBm6A"
      },
      "source": [
        "data = [[1,2,2,2,10],\n",
        "        [2,1,2,2,20],\n",
        "        [2,2,1,2,30],\n",
        "        [2,2,2,1,40],\n",
        "        [1,1,2,2,50],\n",
        "        [2,1,1,2,60],\n",
        "        [2,2,1,1,70],\n",
        "        [2,1,2,1,40],\n",
        "        [1,1,1,1,33],]\n",
        "X_escenario = pd.DataFrame(data,columns=[\"DIABETES\", \"HIPERTENSION\", \"OBESIDAD\", \"TABAQUISMO\", \"EDAD\"])"
      ],
      "execution_count": null,
      "outputs": []
    },
    {
      "cell_type": "code",
      "metadata": {
        "pycharm": {
          "name": "#%%\n"
        },
        "id": "DjK9HnGaBm6B"
      },
      "source": [
        "y_escenario_prob = classifier_NN.predict_proba(X_escenario)\n"
      ],
      "execution_count": null,
      "outputs": []
    },
    {
      "cell_type": "code",
      "metadata": {
        "pycharm": {
          "name": "#%%\n"
        },
        "id": "HwKWVyD_Bm6C",
        "colab": {
          "base_uri": "https://localhost:8080/"
        },
        "outputId": "8968f0bb-10bf-4763-e683-a299a35219fa"
      },
      "source": [
        "y_escenario_prob"
      ],
      "execution_count": null,
      "outputs": [
        {
          "output_type": "execute_result",
          "data": {
            "text/plain": [
              "array([[0.98171017, 0.01828983],\n",
              "       [0.98938268, 0.01061732],\n",
              "       [0.97011199, 0.02988801],\n",
              "       [0.93470187, 0.06529813],\n",
              "       [0.91275782, 0.08724218],\n",
              "       [0.86788033, 0.13211967],\n",
              "       [0.76120589, 0.23879411],\n",
              "       [0.95386553, 0.04613447],\n",
              "       [0.96774303, 0.03225697]])"
            ]
          },
          "metadata": {},
          "execution_count": 47
        }
      ]
    }
  ]
}