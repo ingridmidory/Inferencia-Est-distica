{
  "nbformat": 4,
  "nbformat_minor": 0,
  "metadata": {
    "colab": {
      "provenance": [],
      "include_colab_link": true
    },
    "kernelspec": {
      "name": "python3",
      "display_name": "Python 3"
    },
    "language_info": {
      "name": "python"
    }
  },
  "cells": [
    {
      "cell_type": "markdown",
      "metadata": {
        "id": "view-in-github",
        "colab_type": "text"
      },
      "source": [
        "<a href=\"https://colab.research.google.com/github/ingridmidory/Inferencia-Est-distica/blob/main/Tarea3_MonterrosoAlfaro.ipynb\" target=\"_parent\"><img src=\"https://colab.research.google.com/assets/colab-badge.svg\" alt=\"Open In Colab\"/></a>"
      ]
    },
    {
      "cell_type": "code",
      "metadata": {
        "colab": {
          "base_uri": "https://localhost:8080/"
        },
        "id": "tGdrv5VgKz_5",
        "outputId": "72003216-7dd7-4e0f-e11d-06e5f115bcf9"
      },
      "source": [
        "### Paso 1. Leer la base de datos de COVID de México\n",
        "#### https://buomsoo-kim.github.io/colab/2020/05/04/Colab-downloading-files-from-web-2.md/\n",
        "!wget --timeout=300 --tries=1 \"http://datosabiertos.salud.gob.mx/gobmx/salud/datos_abiertos/datos_abiertos_covid19.zip\""
      ],
      "execution_count": null,
      "outputs": [
        {
          "output_type": "stream",
          "name": "stdout",
          "text": [
            "--2021-10-21 22:09:43--  http://datosabiertos.salud.gob.mx/gobmx/salud/datos_abiertos/datos_abiertos_covid19.zip\n",
            "Resolving datosabiertos.salud.gob.mx (datosabiertos.salud.gob.mx)... 187.210.186.146\n",
            "Connecting to datosabiertos.salud.gob.mx (datosabiertos.salud.gob.mx)|187.210.186.146|:80... connected.\n",
            "HTTP request sent, awaiting response... 200 OK\n",
            "Length: 224000623 (214M) [application/x-zip-compressed]\n",
            "Saving to: ‘datos_abiertos_covid19.zip’\n",
            "\n",
            "datos_abiertos_covi 100%[===================>] 213.62M  14.4MB/s    in 15s     \n",
            "\n",
            "2021-10-21 22:09:58 (14.6 MB/s) - ‘datos_abiertos_covid19.zip’ saved [224000623/224000623]\n",
            "\n"
          ]
        }
      ]
    },
    {
      "cell_type": "code",
      "metadata": {
        "colab": {
          "base_uri": "https://localhost:8080/"
        },
        "id": "dMFM8fwqLGRG",
        "outputId": "2f2999f0-68e1-4715-8746-2d62d464d6db"
      },
      "source": [
        "#### PASO 2. Convertir a pandas el archibo Zip descagardo de la SS\n",
        "#####\n",
        "import pandas as pd\n",
        "import zipfile\n",
        "\n",
        "#pandas support zip file reads\n",
        "covidMx = pd.read_csv(\"/content/datos_abiertos_covid19.zip\", encoding='latin-1')"
      ],
      "execution_count": null,
      "outputs": [
        {
          "output_type": "stream",
          "name": "stderr",
          "text": [
            "/usr/local/lib/python3.7/dist-packages/IPython/core/interactiveshell.py:2718: DtypeWarning: Columns (38) have mixed types.Specify dtype option on import or set low_memory=False.\n",
            "  interactivity=interactivity, compiler=compiler, result=result)\n"
          ]
        }
      ]
    },
    {
      "cell_type": "markdown",
      "metadata": {
        "id": "McEXnGxFnygy"
      },
      "source": [
        "1. Pacientes positivos\n",
        "\n",
        "---\n",
        "\n"
      ]
    },
    {
      "cell_type": "code",
      "metadata": {
        "colab": {
          "base_uri": "https://localhost:8080/"
        },
        "id": "bn8IKVwSLQes",
        "outputId": "152d2a5c-21c3-4121-cc3b-0487abe9e04e"
      },
      "source": [
        "####  filtrar por positivos\n",
        "\n",
        "positivosMx  = covidMx[covidMx['CLASIFICACION_FINAL']<=3]\n",
        "len(positivosMx)"
      ],
      "execution_count": null,
      "outputs": [
        {
          "output_type": "execute_result",
          "data": {
            "text/plain": [
              "3772556"
            ]
          },
          "metadata": {},
          "execution_count": 4
        }
      ]
    },
    {
      "cell_type": "code",
      "metadata": {
        "colab": {
          "base_uri": "https://localhost:8080/"
        },
        "id": "9OE4zuPZNQYK",
        "outputId": "91fecb07-fcfc-4c6c-c360-3d7aeabff0e1"
      },
      "source": [
        "positivosMx.columns"
      ],
      "execution_count": null,
      "outputs": [
        {
          "output_type": "execute_result",
          "data": {
            "text/plain": [
              "Index(['FECHA_ACTUALIZACION', 'ID_REGISTRO', 'ORIGEN', 'SECTOR', 'ENTIDAD_UM',\n",
              "       'SEXO', 'ENTIDAD_NAC', 'ENTIDAD_RES', 'MUNICIPIO_RES', 'TIPO_PACIENTE',\n",
              "       'FECHA_INGRESO', 'FECHA_SINTOMAS', 'FECHA_DEF', 'INTUBADO', 'NEUMONIA',\n",
              "       'EDAD', 'NACIONALIDAD', 'EMBARAZO', 'HABLA_LENGUA_INDIG', 'INDIGENA',\n",
              "       'DIABETES', 'EPOC', 'ASMA', 'INMUSUPR', 'HIPERTENSION', 'OTRA_COM',\n",
              "       'CARDIOVASCULAR', 'OBESIDAD', 'RENAL_CRONICA', 'TABAQUISMO',\n",
              "       'OTRO_CASO', 'TOMA_MUESTRA_LAB', 'RESULTADO_LAB',\n",
              "       'TOMA_MUESTRA_ANTIGENO', 'RESULTADO_ANTIGENO', 'CLASIFICACION_FINAL',\n",
              "       'MIGRANTE', 'PAIS_NACIONALIDAD', 'PAIS_ORIGEN', 'UCI'],\n",
              "      dtype='object')"
            ]
          },
          "metadata": {},
          "execution_count": 5
        }
      ]
    },
    {
      "cell_type": "markdown",
      "metadata": {
        "id": "fZCXJgcDn-us"
      },
      "source": [
        "2. Filtro con las variables “NEUMONIA”, “DIABETES”, “EPOC”, “ASMA”, “HIPERTENSION”, “OBESIDAD”, “CARDIOVASCULAR”, “OTRA_COM” y “FECHA_DEF”\n",
        "\n",
        "\n",
        "---\n",
        "\n"
      ]
    },
    {
      "cell_type": "code",
      "metadata": {
        "colab": {
          "base_uri": "https://localhost:8080/",
          "height": 439
        },
        "id": "M1RAgNN6qCxB",
        "outputId": "695f7416-becf-45d8-a7e0-996dd745f7b3"
      },
      "source": [
        "vars = ['NEUMONIA', 'DIABETES', 'EPOC', 'ASMA', 'HIPERTENSION', 'OBESIDAD', 'CARDIOVASCULAR', 'OTRA_COM' , 'FECHA_DEF']\n",
        "positivos2 = positivosMx[vars]\n",
        "positivos2"
      ],
      "execution_count": null,
      "outputs": [
        {
          "output_type": "execute_result",
          "data": {
            "text/html": [
              "<div>\n",
              "<style scoped>\n",
              "    .dataframe tbody tr th:only-of-type {\n",
              "        vertical-align: middle;\n",
              "    }\n",
              "\n",
              "    .dataframe tbody tr th {\n",
              "        vertical-align: top;\n",
              "    }\n",
              "\n",
              "    .dataframe thead th {\n",
              "        text-align: right;\n",
              "    }\n",
              "</style>\n",
              "<table border=\"1\" class=\"dataframe\">\n",
              "  <thead>\n",
              "    <tr style=\"text-align: right;\">\n",
              "      <th></th>\n",
              "      <th>NEUMONIA</th>\n",
              "      <th>DIABETES</th>\n",
              "      <th>EPOC</th>\n",
              "      <th>ASMA</th>\n",
              "      <th>HIPERTENSION</th>\n",
              "      <th>OBESIDAD</th>\n",
              "      <th>CARDIOVASCULAR</th>\n",
              "      <th>OTRA_COM</th>\n",
              "      <th>FECHA_DEF</th>\n",
              "    </tr>\n",
              "  </thead>\n",
              "  <tbody>\n",
              "    <tr>\n",
              "      <th>0</th>\n",
              "      <td>2</td>\n",
              "      <td>2</td>\n",
              "      <td>2</td>\n",
              "      <td>2</td>\n",
              "      <td>2</td>\n",
              "      <td>2</td>\n",
              "      <td>2</td>\n",
              "      <td>2</td>\n",
              "      <td>9999-99-99</td>\n",
              "    </tr>\n",
              "    <tr>\n",
              "      <th>1</th>\n",
              "      <td>1</td>\n",
              "      <td>1</td>\n",
              "      <td>2</td>\n",
              "      <td>2</td>\n",
              "      <td>1</td>\n",
              "      <td>1</td>\n",
              "      <td>2</td>\n",
              "      <td>2</td>\n",
              "      <td>2020-07-21</td>\n",
              "    </tr>\n",
              "    <tr>\n",
              "      <th>8</th>\n",
              "      <td>2</td>\n",
              "      <td>1</td>\n",
              "      <td>2</td>\n",
              "      <td>2</td>\n",
              "      <td>2</td>\n",
              "      <td>2</td>\n",
              "      <td>2</td>\n",
              "      <td>2</td>\n",
              "      <td>9999-99-99</td>\n",
              "    </tr>\n",
              "    <tr>\n",
              "      <th>14</th>\n",
              "      <td>2</td>\n",
              "      <td>2</td>\n",
              "      <td>2</td>\n",
              "      <td>2</td>\n",
              "      <td>2</td>\n",
              "      <td>2</td>\n",
              "      <td>2</td>\n",
              "      <td>2</td>\n",
              "      <td>9999-99-99</td>\n",
              "    </tr>\n",
              "    <tr>\n",
              "      <th>15</th>\n",
              "      <td>2</td>\n",
              "      <td>2</td>\n",
              "      <td>2</td>\n",
              "      <td>2</td>\n",
              "      <td>2</td>\n",
              "      <td>2</td>\n",
              "      <td>2</td>\n",
              "      <td>2</td>\n",
              "      <td>9999-99-99</td>\n",
              "    </tr>\n",
              "    <tr>\n",
              "      <th>...</th>\n",
              "      <td>...</td>\n",
              "      <td>...</td>\n",
              "      <td>...</td>\n",
              "      <td>...</td>\n",
              "      <td>...</td>\n",
              "      <td>...</td>\n",
              "      <td>...</td>\n",
              "      <td>...</td>\n",
              "      <td>...</td>\n",
              "    </tr>\n",
              "    <tr>\n",
              "      <th>11158417</th>\n",
              "      <td>99</td>\n",
              "      <td>2</td>\n",
              "      <td>2</td>\n",
              "      <td>2</td>\n",
              "      <td>2</td>\n",
              "      <td>2</td>\n",
              "      <td>2</td>\n",
              "      <td>98</td>\n",
              "      <td>9999-99-99</td>\n",
              "    </tr>\n",
              "    <tr>\n",
              "      <th>11158418</th>\n",
              "      <td>99</td>\n",
              "      <td>2</td>\n",
              "      <td>2</td>\n",
              "      <td>2</td>\n",
              "      <td>2</td>\n",
              "      <td>2</td>\n",
              "      <td>2</td>\n",
              "      <td>98</td>\n",
              "      <td>9999-99-99</td>\n",
              "    </tr>\n",
              "    <tr>\n",
              "      <th>11158430</th>\n",
              "      <td>99</td>\n",
              "      <td>2</td>\n",
              "      <td>2</td>\n",
              "      <td>2</td>\n",
              "      <td>2</td>\n",
              "      <td>2</td>\n",
              "      <td>2</td>\n",
              "      <td>98</td>\n",
              "      <td>9999-99-99</td>\n",
              "    </tr>\n",
              "    <tr>\n",
              "      <th>11158432</th>\n",
              "      <td>99</td>\n",
              "      <td>2</td>\n",
              "      <td>2</td>\n",
              "      <td>2</td>\n",
              "      <td>2</td>\n",
              "      <td>2</td>\n",
              "      <td>2</td>\n",
              "      <td>98</td>\n",
              "      <td>9999-99-99</td>\n",
              "    </tr>\n",
              "    <tr>\n",
              "      <th>11158445</th>\n",
              "      <td>99</td>\n",
              "      <td>2</td>\n",
              "      <td>2</td>\n",
              "      <td>2</td>\n",
              "      <td>2</td>\n",
              "      <td>2</td>\n",
              "      <td>2</td>\n",
              "      <td>98</td>\n",
              "      <td>9999-99-99</td>\n",
              "    </tr>\n",
              "  </tbody>\n",
              "</table>\n",
              "<p>3772556 rows × 9 columns</p>\n",
              "</div>"
            ],
            "text/plain": [
              "          NEUMONIA  DIABETES  EPOC  ...  CARDIOVASCULAR  OTRA_COM   FECHA_DEF\n",
              "0                2         2     2  ...               2         2  9999-99-99\n",
              "1                1         1     2  ...               2         2  2020-07-21\n",
              "8                2         1     2  ...               2         2  9999-99-99\n",
              "14               2         2     2  ...               2         2  9999-99-99\n",
              "15               2         2     2  ...               2         2  9999-99-99\n",
              "...            ...       ...   ...  ...             ...       ...         ...\n",
              "11158417        99         2     2  ...               2        98  9999-99-99\n",
              "11158418        99         2     2  ...               2        98  9999-99-99\n",
              "11158430        99         2     2  ...               2        98  9999-99-99\n",
              "11158432        99         2     2  ...               2        98  9999-99-99\n",
              "11158445        99         2     2  ...               2        98  9999-99-99\n",
              "\n",
              "[3772556 rows x 9 columns]"
            ]
          },
          "metadata": {},
          "execution_count": 6
        }
      ]
    },
    {
      "cell_type": "markdown",
      "metadata": {
        "id": "r5XBe3DYpGVD"
      },
      "source": [
        "3. Calculo de fallecidos al día de hoy\n",
        "\n",
        "\n",
        "---\n",
        "\n",
        "\n",
        "\n"
      ]
    },
    {
      "cell_type": "code",
      "metadata": {
        "id": "Kte-hOxYOEF8"
      },
      "source": [
        "##### Calcular el número de personas fallecidas al 20-oct.21\n",
        "fallecidos = positivosMx[positivosMx['FECHA_DEF']!=\"9999-99-99\"]"
      ],
      "execution_count": null,
      "outputs": []
    },
    {
      "cell_type": "code",
      "metadata": {
        "colab": {
          "base_uri": "https://localhost:8080/",
          "height": 317
        },
        "id": "2S1ggNj_OaT4",
        "outputId": "78bd7f49-9859-4db0-b6ea-73a517aef5f5"
      },
      "source": [
        "fallecidos.describe()"
      ],
      "execution_count": null,
      "outputs": [
        {
          "output_type": "execute_result",
          "data": {
            "text/html": [
              "<div>\n",
              "<style scoped>\n",
              "    .dataframe tbody tr th:only-of-type {\n",
              "        vertical-align: middle;\n",
              "    }\n",
              "\n",
              "    .dataframe tbody tr th {\n",
              "        vertical-align: top;\n",
              "    }\n",
              "\n",
              "    .dataframe thead th {\n",
              "        text-align: right;\n",
              "    }\n",
              "</style>\n",
              "<table border=\"1\" class=\"dataframe\">\n",
              "  <thead>\n",
              "    <tr style=\"text-align: right;\">\n",
              "      <th></th>\n",
              "      <th>ORIGEN</th>\n",
              "      <th>SECTOR</th>\n",
              "      <th>ENTIDAD_UM</th>\n",
              "      <th>SEXO</th>\n",
              "      <th>ENTIDAD_NAC</th>\n",
              "      <th>ENTIDAD_RES</th>\n",
              "      <th>MUNICIPIO_RES</th>\n",
              "      <th>TIPO_PACIENTE</th>\n",
              "      <th>INTUBADO</th>\n",
              "      <th>NEUMONIA</th>\n",
              "      <th>EDAD</th>\n",
              "      <th>NACIONALIDAD</th>\n",
              "      <th>EMBARAZO</th>\n",
              "      <th>HABLA_LENGUA_INDIG</th>\n",
              "      <th>INDIGENA</th>\n",
              "      <th>DIABETES</th>\n",
              "      <th>EPOC</th>\n",
              "      <th>ASMA</th>\n",
              "      <th>INMUSUPR</th>\n",
              "      <th>HIPERTENSION</th>\n",
              "      <th>OTRA_COM</th>\n",
              "      <th>CARDIOVASCULAR</th>\n",
              "      <th>OBESIDAD</th>\n",
              "      <th>RENAL_CRONICA</th>\n",
              "      <th>TABAQUISMO</th>\n",
              "      <th>OTRO_CASO</th>\n",
              "      <th>TOMA_MUESTRA_LAB</th>\n",
              "      <th>RESULTADO_LAB</th>\n",
              "      <th>TOMA_MUESTRA_ANTIGENO</th>\n",
              "      <th>RESULTADO_ANTIGENO</th>\n",
              "      <th>CLASIFICACION_FINAL</th>\n",
              "      <th>MIGRANTE</th>\n",
              "      <th>UCI</th>\n",
              "    </tr>\n",
              "  </thead>\n",
              "  <tbody>\n",
              "    <tr>\n",
              "      <th>count</th>\n",
              "      <td>285669.000000</td>\n",
              "      <td>285669.000000</td>\n",
              "      <td>285669.000000</td>\n",
              "      <td>285669.000000</td>\n",
              "      <td>285669.000000</td>\n",
              "      <td>285669.000000</td>\n",
              "      <td>285669.000000</td>\n",
              "      <td>285669.000000</td>\n",
              "      <td>285669.000000</td>\n",
              "      <td>285669.000000</td>\n",
              "      <td>285669.000000</td>\n",
              "      <td>285669.000000</td>\n",
              "      <td>285669.000000</td>\n",
              "      <td>285669.000000</td>\n",
              "      <td>285669.000000</td>\n",
              "      <td>285669.000000</td>\n",
              "      <td>285669.000000</td>\n",
              "      <td>285669.000000</td>\n",
              "      <td>285669.000000</td>\n",
              "      <td>285669.000000</td>\n",
              "      <td>285669.000000</td>\n",
              "      <td>285669.000000</td>\n",
              "      <td>285669.000000</td>\n",
              "      <td>285669.000000</td>\n",
              "      <td>285669.000000</td>\n",
              "      <td>285669.000000</td>\n",
              "      <td>285669.000000</td>\n",
              "      <td>285669.000000</td>\n",
              "      <td>285669.000000</td>\n",
              "      <td>285669.000000</td>\n",
              "      <td>285669.000000</td>\n",
              "      <td>285669.000000</td>\n",
              "      <td>285669.000000</td>\n",
              "    </tr>\n",
              "    <tr>\n",
              "      <th>mean</th>\n",
              "      <td>1.451691</td>\n",
              "      <td>6.755042</td>\n",
              "      <td>15.870900</td>\n",
              "      <td>1.618047</td>\n",
              "      <td>16.748174</td>\n",
              "      <td>16.119008</td>\n",
              "      <td>43.725378</td>\n",
              "      <td>1.925235</td>\n",
              "      <td>9.768508</td>\n",
              "      <td>1.285806</td>\n",
              "      <td>62.861977</td>\n",
              "      <td>1.001862</td>\n",
              "      <td>60.770469</td>\n",
              "      <td>4.176925</td>\n",
              "      <td>4.091998</td>\n",
              "      <td>2.132335</td>\n",
              "      <td>2.446485</td>\n",
              "      <td>2.454225</td>\n",
              "      <td>2.464597</td>\n",
              "      <td>2.037347</td>\n",
              "      <td>2.864028</td>\n",
              "      <td>2.449601</td>\n",
              "      <td>2.211651</td>\n",
              "      <td>2.418253</td>\n",
              "      <td>2.431457</td>\n",
              "      <td>16.427138</td>\n",
              "      <td>1.195530</td>\n",
              "      <td>19.836458</td>\n",
              "      <td>1.762211</td>\n",
              "      <td>74.214507</td>\n",
              "      <td>2.891252</td>\n",
              "      <td>98.863475</td>\n",
              "      <td>9.898029</td>\n",
              "    </tr>\n",
              "    <tr>\n",
              "      <th>std</th>\n",
              "      <td>0.497662</td>\n",
              "      <td>3.596905</td>\n",
              "      <td>7.963711</td>\n",
              "      <td>0.485866</td>\n",
              "      <td>8.670350</td>\n",
              "      <td>7.840371</td>\n",
              "      <td>54.265309</td>\n",
              "      <td>0.263012</td>\n",
              "      <td>26.469932</td>\n",
              "      <td>0.520264</td>\n",
              "      <td>14.653425</td>\n",
              "      <td>0.043114</td>\n",
              "      <td>46.145459</td>\n",
              "      <td>14.412382</td>\n",
              "      <td>14.142543</td>\n",
              "      <td>6.937343</td>\n",
              "      <td>6.837442</td>\n",
              "      <td>6.713675</td>\n",
              "      <td>6.818197</td>\n",
              "      <td>6.795896</td>\n",
              "      <td>9.326780</td>\n",
              "      <td>6.901074</td>\n",
              "      <td>6.404039</td>\n",
              "      <td>6.817425</td>\n",
              "      <td>6.957636</td>\n",
              "      <td>34.788092</td>\n",
              "      <td>0.396609</td>\n",
              "      <td>38.044642</td>\n",
              "      <td>0.425730</td>\n",
              "      <td>40.794839</td>\n",
              "      <td>0.393972</td>\n",
              "      <td>3.641432</td>\n",
              "      <td>26.434160</td>\n",
              "    </tr>\n",
              "    <tr>\n",
              "      <th>min</th>\n",
              "      <td>1.000000</td>\n",
              "      <td>1.000000</td>\n",
              "      <td>1.000000</td>\n",
              "      <td>1.000000</td>\n",
              "      <td>1.000000</td>\n",
              "      <td>1.000000</td>\n",
              "      <td>1.000000</td>\n",
              "      <td>1.000000</td>\n",
              "      <td>1.000000</td>\n",
              "      <td>1.000000</td>\n",
              "      <td>0.000000</td>\n",
              "      <td>1.000000</td>\n",
              "      <td>1.000000</td>\n",
              "      <td>1.000000</td>\n",
              "      <td>1.000000</td>\n",
              "      <td>1.000000</td>\n",
              "      <td>1.000000</td>\n",
              "      <td>1.000000</td>\n",
              "      <td>1.000000</td>\n",
              "      <td>1.000000</td>\n",
              "      <td>1.000000</td>\n",
              "      <td>1.000000</td>\n",
              "      <td>1.000000</td>\n",
              "      <td>1.000000</td>\n",
              "      <td>1.000000</td>\n",
              "      <td>1.000000</td>\n",
              "      <td>1.000000</td>\n",
              "      <td>1.000000</td>\n",
              "      <td>1.000000</td>\n",
              "      <td>1.000000</td>\n",
              "      <td>1.000000</td>\n",
              "      <td>1.000000</td>\n",
              "      <td>1.000000</td>\n",
              "    </tr>\n",
              "    <tr>\n",
              "      <th>25%</th>\n",
              "      <td>1.000000</td>\n",
              "      <td>4.000000</td>\n",
              "      <td>9.000000</td>\n",
              "      <td>1.000000</td>\n",
              "      <td>9.000000</td>\n",
              "      <td>9.000000</td>\n",
              "      <td>9.000000</td>\n",
              "      <td>2.000000</td>\n",
              "      <td>2.000000</td>\n",
              "      <td>1.000000</td>\n",
              "      <td>54.000000</td>\n",
              "      <td>1.000000</td>\n",
              "      <td>2.000000</td>\n",
              "      <td>2.000000</td>\n",
              "      <td>2.000000</td>\n",
              "      <td>1.000000</td>\n",
              "      <td>2.000000</td>\n",
              "      <td>2.000000</td>\n",
              "      <td>2.000000</td>\n",
              "      <td>1.000000</td>\n",
              "      <td>2.000000</td>\n",
              "      <td>2.000000</td>\n",
              "      <td>2.000000</td>\n",
              "      <td>2.000000</td>\n",
              "      <td>2.000000</td>\n",
              "      <td>2.000000</td>\n",
              "      <td>1.000000</td>\n",
              "      <td>1.000000</td>\n",
              "      <td>2.000000</td>\n",
              "      <td>97.000000</td>\n",
              "      <td>3.000000</td>\n",
              "      <td>99.000000</td>\n",
              "      <td>2.000000</td>\n",
              "    </tr>\n",
              "    <tr>\n",
              "      <th>50%</th>\n",
              "      <td>1.000000</td>\n",
              "      <td>4.000000</td>\n",
              "      <td>15.000000</td>\n",
              "      <td>2.000000</td>\n",
              "      <td>15.000000</td>\n",
              "      <td>15.000000</td>\n",
              "      <td>28.000000</td>\n",
              "      <td>2.000000</td>\n",
              "      <td>2.000000</td>\n",
              "      <td>1.000000</td>\n",
              "      <td>64.000000</td>\n",
              "      <td>1.000000</td>\n",
              "      <td>97.000000</td>\n",
              "      <td>2.000000</td>\n",
              "      <td>2.000000</td>\n",
              "      <td>2.000000</td>\n",
              "      <td>2.000000</td>\n",
              "      <td>2.000000</td>\n",
              "      <td>2.000000</td>\n",
              "      <td>2.000000</td>\n",
              "      <td>2.000000</td>\n",
              "      <td>2.000000</td>\n",
              "      <td>2.000000</td>\n",
              "      <td>2.000000</td>\n",
              "      <td>2.000000</td>\n",
              "      <td>2.000000</td>\n",
              "      <td>1.000000</td>\n",
              "      <td>1.000000</td>\n",
              "      <td>2.000000</td>\n",
              "      <td>97.000000</td>\n",
              "      <td>3.000000</td>\n",
              "      <td>99.000000</td>\n",
              "      <td>2.000000</td>\n",
              "    </tr>\n",
              "    <tr>\n",
              "      <th>75%</th>\n",
              "      <td>2.000000</td>\n",
              "      <td>12.000000</td>\n",
              "      <td>21.000000</td>\n",
              "      <td>2.000000</td>\n",
              "      <td>22.000000</td>\n",
              "      <td>21.000000</td>\n",
              "      <td>57.000000</td>\n",
              "      <td>2.000000</td>\n",
              "      <td>2.000000</td>\n",
              "      <td>2.000000</td>\n",
              "      <td>73.000000</td>\n",
              "      <td>1.000000</td>\n",
              "      <td>97.000000</td>\n",
              "      <td>2.000000</td>\n",
              "      <td>2.000000</td>\n",
              "      <td>2.000000</td>\n",
              "      <td>2.000000</td>\n",
              "      <td>2.000000</td>\n",
              "      <td>2.000000</td>\n",
              "      <td>2.000000</td>\n",
              "      <td>2.000000</td>\n",
              "      <td>2.000000</td>\n",
              "      <td>2.000000</td>\n",
              "      <td>2.000000</td>\n",
              "      <td>2.000000</td>\n",
              "      <td>2.000000</td>\n",
              "      <td>1.000000</td>\n",
              "      <td>1.000000</td>\n",
              "      <td>2.000000</td>\n",
              "      <td>97.000000</td>\n",
              "      <td>3.000000</td>\n",
              "      <td>99.000000</td>\n",
              "      <td>2.000000</td>\n",
              "    </tr>\n",
              "    <tr>\n",
              "      <th>max</th>\n",
              "      <td>2.000000</td>\n",
              "      <td>13.000000</td>\n",
              "      <td>32.000000</td>\n",
              "      <td>2.000000</td>\n",
              "      <td>99.000000</td>\n",
              "      <td>32.000000</td>\n",
              "      <td>999.000000</td>\n",
              "      <td>2.000000</td>\n",
              "      <td>99.000000</td>\n",
              "      <td>99.000000</td>\n",
              "      <td>121.000000</td>\n",
              "      <td>2.000000</td>\n",
              "      <td>98.000000</td>\n",
              "      <td>99.000000</td>\n",
              "      <td>99.000000</td>\n",
              "      <td>98.000000</td>\n",
              "      <td>98.000000</td>\n",
              "      <td>98.000000</td>\n",
              "      <td>98.000000</td>\n",
              "      <td>98.000000</td>\n",
              "      <td>98.000000</td>\n",
              "      <td>98.000000</td>\n",
              "      <td>98.000000</td>\n",
              "      <td>98.000000</td>\n",
              "      <td>98.000000</td>\n",
              "      <td>99.000000</td>\n",
              "      <td>2.000000</td>\n",
              "      <td>97.000000</td>\n",
              "      <td>2.000000</td>\n",
              "      <td>97.000000</td>\n",
              "      <td>3.000000</td>\n",
              "      <td>99.000000</td>\n",
              "      <td>99.000000</td>\n",
              "    </tr>\n",
              "  </tbody>\n",
              "</table>\n",
              "</div>"
            ],
            "text/plain": [
              "              ORIGEN         SECTOR  ...       MIGRANTE            UCI\n",
              "count  285669.000000  285669.000000  ...  285669.000000  285669.000000\n",
              "mean        1.451691       6.755042  ...      98.863475       9.898029\n",
              "std         0.497662       3.596905  ...       3.641432      26.434160\n",
              "min         1.000000       1.000000  ...       1.000000       1.000000\n",
              "25%         1.000000       4.000000  ...      99.000000       2.000000\n",
              "50%         1.000000       4.000000  ...      99.000000       2.000000\n",
              "75%         2.000000      12.000000  ...      99.000000       2.000000\n",
              "max         2.000000      13.000000  ...      99.000000      99.000000\n",
              "\n",
              "[8 rows x 33 columns]"
            ]
          },
          "metadata": {},
          "execution_count": 8
        }
      ]
    },
    {
      "cell_type": "code",
      "metadata": {
        "colab": {
          "base_uri": "https://localhost:8080/"
        },
        "id": "oOtdBINQ62Mb",
        "outputId": "58cdf89c-072a-4315-aad1-d7a5d1fd14e2"
      },
      "source": [
        "temp = positivosMx[[\"NEUMONIA\", \"DIABETES\",\"EPOC\", \"ASMA\",\"HIPERTENSION\",\"OBESIDAD\",\"CARDIOVASCULAR\",\"OTRA_COM\",\"FECHA_DEF\"]]\n",
        "temp.head()\n",
        "temp.shape"
      ],
      "execution_count": null,
      "outputs": [
        {
          "output_type": "execute_result",
          "data": {
            "text/plain": [
              "(3772556, 9)"
            ]
          },
          "metadata": {},
          "execution_count": 14
        }
      ]
    },
    {
      "cell_type": "code",
      "metadata": {
        "colab": {
          "base_uri": "https://localhost:8080/"
        },
        "id": "jndppozvaz59",
        "outputId": "6e661505-61e3-4b37-9fed-d67cd5f04d33"
      },
      "source": [
        "temp = positivosMx[[\"NEUMONIA\", \"DIABETES\",\"EPOC\", \"ASMA\",\"HIPERTENSION\",\"OBESIDAD\",\"CARDIOVASCULAR\",\"OTRA_COM\",\"FECHA_DEF\"]]\n",
        "temp.head()\n",
        "temp.shape"
      ],
      "execution_count": null,
      "outputs": [
        {
          "output_type": "execute_result",
          "data": {
            "text/plain": [
              "(3772556, 9)"
            ]
          },
          "metadata": {},
          "execution_count": 15
        }
      ]
    },
    {
      "cell_type": "code",
      "metadata": {
        "colab": {
          "base_uri": "https://localhost:8080/"
        },
        "id": "-RVJHvnparsC",
        "outputId": "73f3d56d-4a1a-4139-acd2-4a79fce1163f"
      },
      "source": [
        "temp[temp[\"FECHA_DEF\"] != \"9999-99-99\"].shape"
      ],
      "execution_count": null,
      "outputs": [
        {
          "output_type": "execute_result",
          "data": {
            "text/plain": [
              "(285669, 9)"
            ]
          },
          "metadata": {},
          "execution_count": 16
        }
      ]
    },
    {
      "cell_type": "markdown",
      "metadata": {
        "id": "x7aUHlL4bSFz"
      },
      "source": [
        "El número de fallecidos es 285,669 al 20 de octubre de 2021\n"
      ]
    },
    {
      "cell_type": "code",
      "metadata": {
        "id": "-UzGBI8wQla7"
      },
      "source": [
        "### filtrar los positivos en SI=1  y NO=0.  Hay 573,991 casos \n",
        "fallecidos = fallecidos[fallecidos['NEUMONIA']<=2]\n",
        "fallecidos = fallecidos[fallecidos['EPOC']<=2]\n",
        "fallecidos = fallecidos[fallecidos['DIABETES']<=2]\n",
        "fallecidos = fallecidos[fallecidos['OBESIDAD']<=2]\n",
        "fallecidos = fallecidos[fallecidos['HIPERTENSION']<=2]\n",
        "fallecidos = fallecidos[fallecidos['ASMA']<=2]\n",
        "fallecidos = fallecidos[fallecidos['CARDIOVASCULAR']<=2]\n",
        "fallecidos = fallecidos[fallecidos['OTRA_COM']<=2]"
      ],
      "execution_count": null,
      "outputs": []
    },
    {
      "cell_type": "code",
      "metadata": {
        "id": "EzIyjAhePWQK"
      },
      "source": [
        "##### la variable de respuesta Y debe estar [0-1]\n",
        "fallecidos['NEUMONIA'] = fallecidos['NEUMONIA'].replace(1,0)\n",
        "fallecidos['DIABETES'] = fallecidos['DIABETES'].replace(2,0)\n",
        "fallecidos['ASMA'] = fallecidos['ASMA'].replace(2,0)\n",
        "fallecidos['HIPERTENSION'] = fallecidos['HIPERTENSION'].replace(2,0)\n",
        "fallecidos['OBESIDAD'] = fallecidos['OBESIDAD'].replace(2,0)\n",
        "fallecidos['CARDIOVASCULAR'] = fallecidos['CARDIOVASCULAR'].replace(2,0)\n",
        "fallecidos['OTRA_COM'] = fallecidos['OTRA_COM'].replace(2,0)"
      ],
      "execution_count": null,
      "outputs": []
    },
    {
      "cell_type": "code",
      "metadata": {
        "colab": {
          "base_uri": "https://localhost:8080/",
          "height": 317
        },
        "id": "axaUVSQWQVtE",
        "outputId": "01d3bf61-e1dd-4b8f-f930-5d8422e0c64a"
      },
      "source": [
        "fallecidos.describe()"
      ],
      "execution_count": null,
      "outputs": [
        {
          "output_type": "execute_result",
          "data": {
            "text/html": [
              "<div>\n",
              "<style scoped>\n",
              "    .dataframe tbody tr th:only-of-type {\n",
              "        vertical-align: middle;\n",
              "    }\n",
              "\n",
              "    .dataframe tbody tr th {\n",
              "        vertical-align: top;\n",
              "    }\n",
              "\n",
              "    .dataframe thead th {\n",
              "        text-align: right;\n",
              "    }\n",
              "</style>\n",
              "<table border=\"1\" class=\"dataframe\">\n",
              "  <thead>\n",
              "    <tr style=\"text-align: right;\">\n",
              "      <th></th>\n",
              "      <th>ORIGEN</th>\n",
              "      <th>SECTOR</th>\n",
              "      <th>ENTIDAD_UM</th>\n",
              "      <th>SEXO</th>\n",
              "      <th>ENTIDAD_NAC</th>\n",
              "      <th>ENTIDAD_RES</th>\n",
              "      <th>MUNICIPIO_RES</th>\n",
              "      <th>TIPO_PACIENTE</th>\n",
              "      <th>INTUBADO</th>\n",
              "      <th>NEUMONIA</th>\n",
              "      <th>EDAD</th>\n",
              "      <th>NACIONALIDAD</th>\n",
              "      <th>EMBARAZO</th>\n",
              "      <th>HABLA_LENGUA_INDIG</th>\n",
              "      <th>INDIGENA</th>\n",
              "      <th>DIABETES</th>\n",
              "      <th>EPOC</th>\n",
              "      <th>ASMA</th>\n",
              "      <th>INMUSUPR</th>\n",
              "      <th>HIPERTENSION</th>\n",
              "      <th>OTRA_COM</th>\n",
              "      <th>CARDIOVASCULAR</th>\n",
              "      <th>OBESIDAD</th>\n",
              "      <th>RENAL_CRONICA</th>\n",
              "      <th>TABAQUISMO</th>\n",
              "      <th>OTRO_CASO</th>\n",
              "      <th>TOMA_MUESTRA_LAB</th>\n",
              "      <th>RESULTADO_LAB</th>\n",
              "      <th>TOMA_MUESTRA_ANTIGENO</th>\n",
              "      <th>RESULTADO_ANTIGENO</th>\n",
              "      <th>CLASIFICACION_FINAL</th>\n",
              "      <th>MIGRANTE</th>\n",
              "      <th>UCI</th>\n",
              "    </tr>\n",
              "  </thead>\n",
              "  <tbody>\n",
              "    <tr>\n",
              "      <th>count</th>\n",
              "      <td>282259.000000</td>\n",
              "      <td>282259.000000</td>\n",
              "      <td>282259.000000</td>\n",
              "      <td>282259.000000</td>\n",
              "      <td>282259.000000</td>\n",
              "      <td>282259.000000</td>\n",
              "      <td>282259.000000</td>\n",
              "      <td>282259.000000</td>\n",
              "      <td>282259.000000</td>\n",
              "      <td>282259.000000</td>\n",
              "      <td>282259.000000</td>\n",
              "      <td>282259.000000</td>\n",
              "      <td>282259.000000</td>\n",
              "      <td>282259.000000</td>\n",
              "      <td>282259.000000</td>\n",
              "      <td>282259.000000</td>\n",
              "      <td>282259.000000</td>\n",
              "      <td>282259.000000</td>\n",
              "      <td>282259.000000</td>\n",
              "      <td>282259.000000</td>\n",
              "      <td>282259.000000</td>\n",
              "      <td>282259.000000</td>\n",
              "      <td>282259.000000</td>\n",
              "      <td>282259.000000</td>\n",
              "      <td>282259.000000</td>\n",
              "      <td>282259.000000</td>\n",
              "      <td>282259.000000</td>\n",
              "      <td>282259.000000</td>\n",
              "      <td>282259.000000</td>\n",
              "      <td>282259.000000</td>\n",
              "      <td>282259.000000</td>\n",
              "      <td>282259.000000</td>\n",
              "      <td>282259.000000</td>\n",
              "    </tr>\n",
              "    <tr>\n",
              "      <th>mean</th>\n",
              "      <td>1.451908</td>\n",
              "      <td>6.714333</td>\n",
              "      <td>15.893091</td>\n",
              "      <td>1.617734</td>\n",
              "      <td>16.761000</td>\n",
              "      <td>16.140325</td>\n",
              "      <td>43.634311</td>\n",
              "      <td>1.925884</td>\n",
              "      <td>9.706493</td>\n",
              "      <td>0.572814</td>\n",
              "      <td>62.865939</td>\n",
              "      <td>1.001817</td>\n",
              "      <td>60.734946</td>\n",
              "      <td>4.100620</td>\n",
              "      <td>4.020853</td>\n",
              "      <td>0.366766</td>\n",
              "      <td>1.957723</td>\n",
              "      <td>0.017317</td>\n",
              "      <td>1.991547</td>\n",
              "      <td>0.440996</td>\n",
              "      <td>0.049777</td>\n",
              "      <td>0.048091</td>\n",
              "      <td>0.213938</td>\n",
              "      <td>1.950963</td>\n",
              "      <td>1.963300</td>\n",
              "      <td>16.215894</td>\n",
              "      <td>1.195211</td>\n",
              "      <td>19.805725</td>\n",
              "      <td>1.760713</td>\n",
              "      <td>74.071062</td>\n",
              "      <td>2.892964</td>\n",
              "      <td>98.868033</td>\n",
              "      <td>9.836051</td>\n",
              "    </tr>\n",
              "    <tr>\n",
              "      <th>std</th>\n",
              "      <td>0.497683</td>\n",
              "      <td>3.585012</td>\n",
              "      <td>7.977367</td>\n",
              "      <td>0.485942</td>\n",
              "      <td>8.661064</td>\n",
              "      <td>7.853302</td>\n",
              "      <td>54.263736</td>\n",
              "      <td>0.261961</td>\n",
              "      <td>26.374908</td>\n",
              "      <td>0.904166</td>\n",
              "      <td>14.649870</td>\n",
              "      <td>0.042593</td>\n",
              "      <td>46.154037</td>\n",
              "      <td>14.164838</td>\n",
              "      <td>13.907054</td>\n",
              "      <td>0.481923</td>\n",
              "      <td>0.201220</td>\n",
              "      <td>0.130452</td>\n",
              "      <td>1.137996</td>\n",
              "      <td>0.496507</td>\n",
              "      <td>0.217484</td>\n",
              "      <td>0.213958</td>\n",
              "      <td>0.410084</td>\n",
              "      <td>1.352091</td>\n",
              "      <td>1.905619</td>\n",
              "      <td>34.578789</td>\n",
              "      <td>0.396364</td>\n",
              "      <td>38.021114</td>\n",
              "      <td>0.426649</td>\n",
              "      <td>40.882716</td>\n",
              "      <td>0.390321</td>\n",
              "      <td>3.580153</td>\n",
              "      <td>26.339362</td>\n",
              "    </tr>\n",
              "    <tr>\n",
              "      <th>min</th>\n",
              "      <td>1.000000</td>\n",
              "      <td>1.000000</td>\n",
              "      <td>1.000000</td>\n",
              "      <td>1.000000</td>\n",
              "      <td>1.000000</td>\n",
              "      <td>1.000000</td>\n",
              "      <td>1.000000</td>\n",
              "      <td>1.000000</td>\n",
              "      <td>1.000000</td>\n",
              "      <td>0.000000</td>\n",
              "      <td>0.000000</td>\n",
              "      <td>1.000000</td>\n",
              "      <td>1.000000</td>\n",
              "      <td>1.000000</td>\n",
              "      <td>1.000000</td>\n",
              "      <td>0.000000</td>\n",
              "      <td>1.000000</td>\n",
              "      <td>0.000000</td>\n",
              "      <td>1.000000</td>\n",
              "      <td>0.000000</td>\n",
              "      <td>0.000000</td>\n",
              "      <td>0.000000</td>\n",
              "      <td>0.000000</td>\n",
              "      <td>1.000000</td>\n",
              "      <td>1.000000</td>\n",
              "      <td>1.000000</td>\n",
              "      <td>1.000000</td>\n",
              "      <td>1.000000</td>\n",
              "      <td>1.000000</td>\n",
              "      <td>1.000000</td>\n",
              "      <td>1.000000</td>\n",
              "      <td>1.000000</td>\n",
              "      <td>1.000000</td>\n",
              "    </tr>\n",
              "    <tr>\n",
              "      <th>25%</th>\n",
              "      <td>1.000000</td>\n",
              "      <td>4.000000</td>\n",
              "      <td>9.000000</td>\n",
              "      <td>1.000000</td>\n",
              "      <td>9.000000</td>\n",
              "      <td>9.000000</td>\n",
              "      <td>9.000000</td>\n",
              "      <td>2.000000</td>\n",
              "      <td>2.000000</td>\n",
              "      <td>0.000000</td>\n",
              "      <td>54.000000</td>\n",
              "      <td>1.000000</td>\n",
              "      <td>2.000000</td>\n",
              "      <td>2.000000</td>\n",
              "      <td>2.000000</td>\n",
              "      <td>0.000000</td>\n",
              "      <td>2.000000</td>\n",
              "      <td>0.000000</td>\n",
              "      <td>2.000000</td>\n",
              "      <td>0.000000</td>\n",
              "      <td>0.000000</td>\n",
              "      <td>0.000000</td>\n",
              "      <td>0.000000</td>\n",
              "      <td>2.000000</td>\n",
              "      <td>2.000000</td>\n",
              "      <td>2.000000</td>\n",
              "      <td>1.000000</td>\n",
              "      <td>1.000000</td>\n",
              "      <td>2.000000</td>\n",
              "      <td>97.000000</td>\n",
              "      <td>3.000000</td>\n",
              "      <td>99.000000</td>\n",
              "      <td>2.000000</td>\n",
              "    </tr>\n",
              "    <tr>\n",
              "      <th>50%</th>\n",
              "      <td>1.000000</td>\n",
              "      <td>4.000000</td>\n",
              "      <td>15.000000</td>\n",
              "      <td>2.000000</td>\n",
              "      <td>15.000000</td>\n",
              "      <td>15.000000</td>\n",
              "      <td>28.000000</td>\n",
              "      <td>2.000000</td>\n",
              "      <td>2.000000</td>\n",
              "      <td>0.000000</td>\n",
              "      <td>64.000000</td>\n",
              "      <td>1.000000</td>\n",
              "      <td>97.000000</td>\n",
              "      <td>2.000000</td>\n",
              "      <td>2.000000</td>\n",
              "      <td>0.000000</td>\n",
              "      <td>2.000000</td>\n",
              "      <td>0.000000</td>\n",
              "      <td>2.000000</td>\n",
              "      <td>0.000000</td>\n",
              "      <td>0.000000</td>\n",
              "      <td>0.000000</td>\n",
              "      <td>0.000000</td>\n",
              "      <td>2.000000</td>\n",
              "      <td>2.000000</td>\n",
              "      <td>2.000000</td>\n",
              "      <td>1.000000</td>\n",
              "      <td>1.000000</td>\n",
              "      <td>2.000000</td>\n",
              "      <td>97.000000</td>\n",
              "      <td>3.000000</td>\n",
              "      <td>99.000000</td>\n",
              "      <td>2.000000</td>\n",
              "    </tr>\n",
              "    <tr>\n",
              "      <th>75%</th>\n",
              "      <td>2.000000</td>\n",
              "      <td>12.000000</td>\n",
              "      <td>22.000000</td>\n",
              "      <td>2.000000</td>\n",
              "      <td>22.000000</td>\n",
              "      <td>22.000000</td>\n",
              "      <td>57.000000</td>\n",
              "      <td>2.000000</td>\n",
              "      <td>2.000000</td>\n",
              "      <td>2.000000</td>\n",
              "      <td>73.000000</td>\n",
              "      <td>1.000000</td>\n",
              "      <td>97.000000</td>\n",
              "      <td>2.000000</td>\n",
              "      <td>2.000000</td>\n",
              "      <td>1.000000</td>\n",
              "      <td>2.000000</td>\n",
              "      <td>0.000000</td>\n",
              "      <td>2.000000</td>\n",
              "      <td>1.000000</td>\n",
              "      <td>0.000000</td>\n",
              "      <td>0.000000</td>\n",
              "      <td>0.000000</td>\n",
              "      <td>2.000000</td>\n",
              "      <td>2.000000</td>\n",
              "      <td>2.000000</td>\n",
              "      <td>1.000000</td>\n",
              "      <td>1.000000</td>\n",
              "      <td>2.000000</td>\n",
              "      <td>97.000000</td>\n",
              "      <td>3.000000</td>\n",
              "      <td>99.000000</td>\n",
              "      <td>2.000000</td>\n",
              "    </tr>\n",
              "    <tr>\n",
              "      <th>max</th>\n",
              "      <td>2.000000</td>\n",
              "      <td>13.000000</td>\n",
              "      <td>32.000000</td>\n",
              "      <td>2.000000</td>\n",
              "      <td>99.000000</td>\n",
              "      <td>32.000000</td>\n",
              "      <td>999.000000</td>\n",
              "      <td>2.000000</td>\n",
              "      <td>99.000000</td>\n",
              "      <td>2.000000</td>\n",
              "      <td>121.000000</td>\n",
              "      <td>2.000000</td>\n",
              "      <td>98.000000</td>\n",
              "      <td>99.000000</td>\n",
              "      <td>99.000000</td>\n",
              "      <td>1.000000</td>\n",
              "      <td>2.000000</td>\n",
              "      <td>1.000000</td>\n",
              "      <td>98.000000</td>\n",
              "      <td>1.000000</td>\n",
              "      <td>1.000000</td>\n",
              "      <td>1.000000</td>\n",
              "      <td>1.000000</td>\n",
              "      <td>98.000000</td>\n",
              "      <td>98.000000</td>\n",
              "      <td>99.000000</td>\n",
              "      <td>2.000000</td>\n",
              "      <td>97.000000</td>\n",
              "      <td>2.000000</td>\n",
              "      <td>97.000000</td>\n",
              "      <td>3.000000</td>\n",
              "      <td>99.000000</td>\n",
              "      <td>99.000000</td>\n",
              "    </tr>\n",
              "  </tbody>\n",
              "</table>\n",
              "</div>"
            ],
            "text/plain": [
              "              ORIGEN         SECTOR  ...       MIGRANTE            UCI\n",
              "count  282259.000000  282259.000000  ...  282259.000000  282259.000000\n",
              "mean        1.451908       6.714333  ...      98.868033       9.836051\n",
              "std         0.497683       3.585012  ...       3.580153      26.339362\n",
              "min         1.000000       1.000000  ...       1.000000       1.000000\n",
              "25%         1.000000       4.000000  ...      99.000000       2.000000\n",
              "50%         1.000000       4.000000  ...      99.000000       2.000000\n",
              "75%         2.000000      12.000000  ...      99.000000       2.000000\n",
              "max         2.000000      13.000000  ...      99.000000      99.000000\n",
              "\n",
              "[8 rows x 33 columns]"
            ]
          },
          "metadata": {},
          "execution_count": 19
        }
      ]
    },
    {
      "cell_type": "markdown",
      "metadata": {
        "id": "brOdr-nVbjta"
      },
      "source": [
        "4. Tablas cruzadas\n",
        "\n",
        "\n",
        "---\n",
        "\n"
      ]
    },
    {
      "cell_type": "code",
      "metadata": {
        "colab": {
          "base_uri": "https://localhost:8080/",
          "height": 326
        },
        "id": "VUpjXSVDa_55",
        "outputId": "f76ddeea-e0da-4307-b6cb-9cce58116a2f"
      },
      "source": [
        "import numpy as np\n",
        "temp[\"Fallecidos\"] = np.where(temp[\"FECHA_DEF\"] == '9999-99-99',0,1)\n",
        "temp.head()"
      ],
      "execution_count": null,
      "outputs": [
        {
          "output_type": "stream",
          "name": "stderr",
          "text": [
            "/usr/local/lib/python3.7/dist-packages/ipykernel_launcher.py:2: SettingWithCopyWarning: \n",
            "A value is trying to be set on a copy of a slice from a DataFrame.\n",
            "Try using .loc[row_indexer,col_indexer] = value instead\n",
            "\n",
            "See the caveats in the documentation: https://pandas.pydata.org/pandas-docs/stable/user_guide/indexing.html#returning-a-view-versus-a-copy\n",
            "  \n"
          ]
        },
        {
          "output_type": "execute_result",
          "data": {
            "text/html": [
              "<div>\n",
              "<style scoped>\n",
              "    .dataframe tbody tr th:only-of-type {\n",
              "        vertical-align: middle;\n",
              "    }\n",
              "\n",
              "    .dataframe tbody tr th {\n",
              "        vertical-align: top;\n",
              "    }\n",
              "\n",
              "    .dataframe thead th {\n",
              "        text-align: right;\n",
              "    }\n",
              "</style>\n",
              "<table border=\"1\" class=\"dataframe\">\n",
              "  <thead>\n",
              "    <tr style=\"text-align: right;\">\n",
              "      <th></th>\n",
              "      <th>NEUMONIA</th>\n",
              "      <th>DIABETES</th>\n",
              "      <th>EPOC</th>\n",
              "      <th>ASMA</th>\n",
              "      <th>HIPERTENSION</th>\n",
              "      <th>OBESIDAD</th>\n",
              "      <th>CARDIOVASCULAR</th>\n",
              "      <th>OTRA_COM</th>\n",
              "      <th>FECHA_DEF</th>\n",
              "      <th>Fallecidos</th>\n",
              "    </tr>\n",
              "  </thead>\n",
              "  <tbody>\n",
              "    <tr>\n",
              "      <th>0</th>\n",
              "      <td>2</td>\n",
              "      <td>2</td>\n",
              "      <td>2</td>\n",
              "      <td>2</td>\n",
              "      <td>2</td>\n",
              "      <td>2</td>\n",
              "      <td>2</td>\n",
              "      <td>2</td>\n",
              "      <td>9999-99-99</td>\n",
              "      <td>0</td>\n",
              "    </tr>\n",
              "    <tr>\n",
              "      <th>1</th>\n",
              "      <td>1</td>\n",
              "      <td>1</td>\n",
              "      <td>2</td>\n",
              "      <td>2</td>\n",
              "      <td>1</td>\n",
              "      <td>1</td>\n",
              "      <td>2</td>\n",
              "      <td>2</td>\n",
              "      <td>2020-07-21</td>\n",
              "      <td>1</td>\n",
              "    </tr>\n",
              "    <tr>\n",
              "      <th>8</th>\n",
              "      <td>2</td>\n",
              "      <td>1</td>\n",
              "      <td>2</td>\n",
              "      <td>2</td>\n",
              "      <td>2</td>\n",
              "      <td>2</td>\n",
              "      <td>2</td>\n",
              "      <td>2</td>\n",
              "      <td>9999-99-99</td>\n",
              "      <td>0</td>\n",
              "    </tr>\n",
              "    <tr>\n",
              "      <th>14</th>\n",
              "      <td>2</td>\n",
              "      <td>2</td>\n",
              "      <td>2</td>\n",
              "      <td>2</td>\n",
              "      <td>2</td>\n",
              "      <td>2</td>\n",
              "      <td>2</td>\n",
              "      <td>2</td>\n",
              "      <td>9999-99-99</td>\n",
              "      <td>0</td>\n",
              "    </tr>\n",
              "    <tr>\n",
              "      <th>15</th>\n",
              "      <td>2</td>\n",
              "      <td>2</td>\n",
              "      <td>2</td>\n",
              "      <td>2</td>\n",
              "      <td>2</td>\n",
              "      <td>2</td>\n",
              "      <td>2</td>\n",
              "      <td>2</td>\n",
              "      <td>9999-99-99</td>\n",
              "      <td>0</td>\n",
              "    </tr>\n",
              "  </tbody>\n",
              "</table>\n",
              "</div>"
            ],
            "text/plain": [
              "    NEUMONIA  DIABETES  EPOC  ...  OTRA_COM   FECHA_DEF  Fallecidos\n",
              "0          2         2     2  ...         2  9999-99-99           0\n",
              "1          1         1     2  ...         2  2020-07-21           1\n",
              "8          2         1     2  ...         2  9999-99-99           0\n",
              "14         2         2     2  ...         2  9999-99-99           0\n",
              "15         2         2     2  ...         2  9999-99-99           0\n",
              "\n",
              "[5 rows x 10 columns]"
            ]
          },
          "metadata": {},
          "execution_count": 21
        }
      ]
    },
    {
      "cell_type": "code",
      "metadata": {
        "colab": {
          "base_uri": "https://localhost:8080/",
          "height": 224
        },
        "id": "ZPcUbUa-bCzV",
        "outputId": "d7a98267-6e2b-4d89-c92b-f48004f7cbe7"
      },
      "source": [
        "data = temp.loc[(temp[\"DIABETES\"] <=2) & (temp[\"HIPERTENSION\"] <=2) & (temp[\"OBESIDAD\"] <=2) &\n",
        "                       (temp[\"CARDIOVASCULAR\"] <=2) & (temp[\"NEUMONIA\"] <=2) & (temp[\"EPOC\"] <=2) &\n",
        "                (temp[\"ASMA\"]<=2) & (temp[\"OTRA_COM\"] <=2)]\n",
        "data.head()"
      ],
      "execution_count": null,
      "outputs": [
        {
          "output_type": "execute_result",
          "data": {
            "text/html": [
              "<div>\n",
              "<style scoped>\n",
              "    .dataframe tbody tr th:only-of-type {\n",
              "        vertical-align: middle;\n",
              "    }\n",
              "\n",
              "    .dataframe tbody tr th {\n",
              "        vertical-align: top;\n",
              "    }\n",
              "\n",
              "    .dataframe thead th {\n",
              "        text-align: right;\n",
              "    }\n",
              "</style>\n",
              "<table border=\"1\" class=\"dataframe\">\n",
              "  <thead>\n",
              "    <tr style=\"text-align: right;\">\n",
              "      <th></th>\n",
              "      <th>NEUMONIA</th>\n",
              "      <th>DIABETES</th>\n",
              "      <th>EPOC</th>\n",
              "      <th>ASMA</th>\n",
              "      <th>HIPERTENSION</th>\n",
              "      <th>OBESIDAD</th>\n",
              "      <th>CARDIOVASCULAR</th>\n",
              "      <th>OTRA_COM</th>\n",
              "      <th>FECHA_DEF</th>\n",
              "      <th>Fallecidos</th>\n",
              "    </tr>\n",
              "  </thead>\n",
              "  <tbody>\n",
              "    <tr>\n",
              "      <th>0</th>\n",
              "      <td>2</td>\n",
              "      <td>2</td>\n",
              "      <td>2</td>\n",
              "      <td>2</td>\n",
              "      <td>2</td>\n",
              "      <td>2</td>\n",
              "      <td>2</td>\n",
              "      <td>2</td>\n",
              "      <td>9999-99-99</td>\n",
              "      <td>0</td>\n",
              "    </tr>\n",
              "    <tr>\n",
              "      <th>1</th>\n",
              "      <td>1</td>\n",
              "      <td>1</td>\n",
              "      <td>2</td>\n",
              "      <td>2</td>\n",
              "      <td>1</td>\n",
              "      <td>1</td>\n",
              "      <td>2</td>\n",
              "      <td>2</td>\n",
              "      <td>2020-07-21</td>\n",
              "      <td>1</td>\n",
              "    </tr>\n",
              "    <tr>\n",
              "      <th>8</th>\n",
              "      <td>2</td>\n",
              "      <td>1</td>\n",
              "      <td>2</td>\n",
              "      <td>2</td>\n",
              "      <td>2</td>\n",
              "      <td>2</td>\n",
              "      <td>2</td>\n",
              "      <td>2</td>\n",
              "      <td>9999-99-99</td>\n",
              "      <td>0</td>\n",
              "    </tr>\n",
              "    <tr>\n",
              "      <th>14</th>\n",
              "      <td>2</td>\n",
              "      <td>2</td>\n",
              "      <td>2</td>\n",
              "      <td>2</td>\n",
              "      <td>2</td>\n",
              "      <td>2</td>\n",
              "      <td>2</td>\n",
              "      <td>2</td>\n",
              "      <td>9999-99-99</td>\n",
              "      <td>0</td>\n",
              "    </tr>\n",
              "    <tr>\n",
              "      <th>15</th>\n",
              "      <td>2</td>\n",
              "      <td>2</td>\n",
              "      <td>2</td>\n",
              "      <td>2</td>\n",
              "      <td>2</td>\n",
              "      <td>2</td>\n",
              "      <td>2</td>\n",
              "      <td>2</td>\n",
              "      <td>9999-99-99</td>\n",
              "      <td>0</td>\n",
              "    </tr>\n",
              "  </tbody>\n",
              "</table>\n",
              "</div>"
            ],
            "text/plain": [
              "    NEUMONIA  DIABETES  EPOC  ...  OTRA_COM   FECHA_DEF  Fallecidos\n",
              "0          2         2     2  ...         2  9999-99-99           0\n",
              "1          1         1     2  ...         2  2020-07-21           1\n",
              "8          2         1     2  ...         2  9999-99-99           0\n",
              "14         2         2     2  ...         2  9999-99-99           0\n",
              "15         2         2     2  ...         2  9999-99-99           0\n",
              "\n",
              "[5 rows x 10 columns]"
            ]
          },
          "metadata": {},
          "execution_count": 22
        }
      ]
    },
    {
      "cell_type": "code",
      "metadata": {
        "colab": {
          "base_uri": "https://localhost:8080/"
        },
        "id": "4Bf9X999bG6t",
        "outputId": "051684e1-29d7-40d1-d52a-bd57084ce00e"
      },
      "source": [
        "enfermedades = [\"NEUMONIA\", \"DIABETES\",\"EPOC\", \"ASMA\",\"HIPERTENSION\",\"OBESIDAD\",\"CARDIOVASCULAR\",\"OTRA_COM\"]\n",
        "for x in enfermedades:\n",
        "    data[x] = data[x].replace(1,0)\n",
        "    data[x] = data[x].replace(2,1)\n",
        "    "
      ],
      "execution_count": null,
      "outputs": [
        {
          "output_type": "stream",
          "name": "stderr",
          "text": [
            "/usr/local/lib/python3.7/dist-packages/ipykernel_launcher.py:3: SettingWithCopyWarning: \n",
            "A value is trying to be set on a copy of a slice from a DataFrame.\n",
            "Try using .loc[row_indexer,col_indexer] = value instead\n",
            "\n",
            "See the caveats in the documentation: https://pandas.pydata.org/pandas-docs/stable/user_guide/indexing.html#returning-a-view-versus-a-copy\n",
            "  This is separate from the ipykernel package so we can avoid doing imports until\n",
            "/usr/local/lib/python3.7/dist-packages/ipykernel_launcher.py:4: SettingWithCopyWarning: \n",
            "A value is trying to be set on a copy of a slice from a DataFrame.\n",
            "Try using .loc[row_indexer,col_indexer] = value instead\n",
            "\n",
            "See the caveats in the documentation: https://pandas.pydata.org/pandas-docs/stable/user_guide/indexing.html#returning-a-view-versus-a-copy\n",
            "  after removing the cwd from sys.path.\n"
          ]
        }
      ]
    },
    {
      "cell_type": "markdown",
      "metadata": {
        "id": "8ysSKl2TbrPh"
      },
      "source": [
        "Diabetes \n",
        "\n",
        "---\n",
        "\n"
      ]
    },
    {
      "cell_type": "code",
      "metadata": {
        "colab": {
          "base_uri": "https://localhost:8080/",
          "height": 361
        },
        "id": "Oytkkv78buyK",
        "outputId": "8eb7e055-71e4-423a-ab0a-376c955cd8c0"
      },
      "source": [
        "diabetes = pd.crosstab(data.DIABETES, data.Fallecidos)\n",
        "print(diabetes)\n",
        "diabetes.div(diabetes.sum(1).astype(float), axis=0).plot.bar(stacked=\"True\")\n"
      ],
      "execution_count": null,
      "outputs": [
        {
          "output_type": "stream",
          "name": "stdout",
          "text": [
            "Fallecidos        0       1\n",
            "DIABETES                   \n",
            "0            315348  103523\n",
            "1           3151206  178736\n"
          ]
        },
        {
          "output_type": "execute_result",
          "data": {
            "text/plain": [
              "<matplotlib.axes._subplots.AxesSubplot at 0x7f69feee8ed0>"
            ]
          },
          "metadata": {},
          "execution_count": 24
        },
        {
          "output_type": "display_data",
          "data": {
            "image/png": "[encoded data removed]",
            "text/plain": [
              "<Figure size 432x288 with 1 Axes>"
            ]
          },
          "metadata": {
            "needs_background": "light"
          }
        }
      ]
    },
    {
      "cell_type": "markdown",
      "metadata": {
        "id": "7JVtMgnpbzWW"
      },
      "source": [
        "Hipertensión \n",
        "\n",
        "---\n",
        "\n"
      ]
    },
    {
      "cell_type": "code",
      "metadata": {
        "colab": {
          "base_uri": "https://localhost:8080/",
          "height": 361
        },
        "id": "Y0vEQ6ERb6JX",
        "outputId": "f53d9ca1-0bc0-44f3-f90f-8bcf6012b555"
      },
      "source": [
        "hipertension = pd.crosstab(data.HIPERTENSION, data.Fallecidos)\n",
        "print(hipertension)\n",
        "hipertension.div(hipertension.sum(1).astype(float), axis=0).plot.bar(stacked=\"True\")"
      ],
      "execution_count": null,
      "outputs": [
        {
          "output_type": "stream",
          "name": "stdout",
          "text": [
            "Fallecidos          0       1\n",
            "HIPERTENSION                 \n",
            "0              417905  124475\n",
            "1             3048649  157784\n"
          ]
        },
        {
          "output_type": "execute_result",
          "data": {
            "text/plain": [
              "<matplotlib.axes._subplots.AxesSubplot at 0x7f69fee0df10>"
            ]
          },
          "metadata": {},
          "execution_count": 25
        },
        {
          "output_type": "display_data",
          "data": {
            "image/png": "[encoded data removed]",
            "text/plain": [
              "<Figure size 432x288 with 1 Axes>"
            ]
          },
          "metadata": {
            "needs_background": "light"
          }
        }
      ]
    },
    {
      "cell_type": "markdown",
      "metadata": {
        "id": "4JHKR2nib8bf"
      },
      "source": [
        "Obesidad \n",
        "\n",
        "---\n",
        "\n"
      ]
    },
    {
      "cell_type": "code",
      "metadata": {
        "colab": {
          "base_uri": "https://localhost:8080/",
          "height": 293
        },
        "id": "L9y5scrHb-vD",
        "outputId": "4183667b-2b89-41ee-fd19-78c21a5ff368"
      },
      "source": [
        "obesidad = pd.crosstab(data.OBESIDAD, data.Fallecidos)\n",
        "obesidad.div(obesidad.sum(1).astype(float), axis=0).plot.bar(stacked=\"True\")"
      ],
      "execution_count": null,
      "outputs": [
        {
          "output_type": "execute_result",
          "data": {
            "text/plain": [
              "<matplotlib.axes._subplots.AxesSubplot at 0x7f69fe989590>"
            ]
          },
          "metadata": {},
          "execution_count": 26
        },
        {
          "output_type": "display_data",
          "data": {
            "image/png": "[encoded data removed]",
            "text/plain": [
              "<Figure size 432x288 with 1 Axes>"
            ]
          },
          "metadata": {
            "needs_background": "light"
          }
        }
      ]
    },
    {
      "cell_type": "markdown",
      "metadata": {
        "id": "Ife1sUmCcAss"
      },
      "source": [
        "Cardiovascular \n",
        "\n",
        "---\n",
        "\n"
      ]
    },
    {
      "cell_type": "code",
      "metadata": {
        "colab": {
          "base_uri": "https://localhost:8080/",
          "height": 361
        },
        "id": "Eypr9EzwcD3d",
        "outputId": "a5c3e877-5c38-4f0f-975a-ae0a7aeca327"
      },
      "source": [
        "cardio = pd.crosstab(data.CARDIOVASCULAR, data. Fallecidos)\n",
        "print(cardio)\n",
        "cardio.div(cardio.sum(1).astype(float), axis=0).plot.bar(stacked=\"True\")"
      ],
      "execution_count": null,
      "outputs": [
        {
          "output_type": "stream",
          "name": "stdout",
          "text": [
            "Fallecidos            0       1\n",
            "CARDIOVASCULAR                 \n",
            "0                 32831   13574\n",
            "1               3433723  268685\n"
          ]
        },
        {
          "output_type": "execute_result",
          "data": {
            "text/plain": [
              "<matplotlib.axes._subplots.AxesSubplot at 0x7f69fe965b10>"
            ]
          },
          "metadata": {},
          "execution_count": 27
        },
        {
          "output_type": "display_data",
          "data": {
            "image/png": "[encoded data removed]",
            "text/plain": [
              "<Figure size 432x288 with 1 Axes>"
            ]
          },
          "metadata": {
            "needs_background": "light"
          }
        }
      ]
    },
    {
      "cell_type": "markdown",
      "metadata": {
        "id": "DRuSGcpicGDD"
      },
      "source": [
        "5. Regresion Logística \n",
        "\n",
        "---\n",
        "\n"
      ]
    },
    {
      "cell_type": "code",
      "metadata": {
        "colab": {
          "base_uri": "https://localhost:8080/"
        },
        "id": "CIYjS03zcKJC",
        "outputId": "45e0e847-a0b4-4ada-8cee-d8ccf0697a15"
      },
      "source": [
        "data[\"FECHA_DEF\"] = data[\"FECHA_DEF\"].replace(\"9999-99-99\",\"2050-12-31\")"
      ],
      "execution_count": null,
      "outputs": [
        {
          "output_type": "stream",
          "name": "stderr",
          "text": [
            "/usr/local/lib/python3.7/dist-packages/ipykernel_launcher.py:1: SettingWithCopyWarning: \n",
            "A value is trying to be set on a copy of a slice from a DataFrame.\n",
            "Try using .loc[row_indexer,col_indexer] = value instead\n",
            "\n",
            "See the caveats in the documentation: https://pandas.pydata.org/pandas-docs/stable/user_guide/indexing.html#returning-a-view-versus-a-copy\n",
            "  \"\"\"Entry point for launching an IPython kernel.\n"
          ]
        }
      ]
    },
    {
      "cell_type": "code",
      "metadata": {
        "colab": {
          "base_uri": "https://localhost:8080/",
          "height": 326
        },
        "id": "_hvbgQLgcMpS",
        "outputId": "901d2534-4869-47b4-f34e-c305ca07117a"
      },
      "source": [
        "import datetime\n",
        "epoch = datetime.datetime(2020,2,28)\n",
        "epoch_seconds = epoch.timestamp()\n",
        "data[\"FECHA_DEF\"] = pd.to_datetime(data[\"FECHA_DEF\"], yearfirst=True).apply(lambda x: x.timestamp() - epoch_seconds)\n",
        "data.head()"
      ],
      "execution_count": null,
      "outputs": [
        {
          "output_type": "stream",
          "name": "stderr",
          "text": [
            "/usr/local/lib/python3.7/dist-packages/ipykernel_launcher.py:4: SettingWithCopyWarning: \n",
            "A value is trying to be set on a copy of a slice from a DataFrame.\n",
            "Try using .loc[row_indexer,col_indexer] = value instead\n",
            "\n",
            "See the caveats in the documentation: https://pandas.pydata.org/pandas-docs/stable/user_guide/indexing.html#returning-a-view-versus-a-copy\n",
            "  after removing the cwd from sys.path.\n"
          ]
        },
        {
          "output_type": "execute_result",
          "data": {
            "text/html": [
              "<div>\n",
              "<style scoped>\n",
              "    .dataframe tbody tr th:only-of-type {\n",
              "        vertical-align: middle;\n",
              "    }\n",
              "\n",
              "    .dataframe tbody tr th {\n",
              "        vertical-align: top;\n",
              "    }\n",
              "\n",
              "    .dataframe thead th {\n",
              "        text-align: right;\n",
              "    }\n",
              "</style>\n",
              "<table border=\"1\" class=\"dataframe\">\n",
              "  <thead>\n",
              "    <tr style=\"text-align: right;\">\n",
              "      <th></th>\n",
              "      <th>NEUMONIA</th>\n",
              "      <th>DIABETES</th>\n",
              "      <th>EPOC</th>\n",
              "      <th>ASMA</th>\n",
              "      <th>HIPERTENSION</th>\n",
              "      <th>OBESIDAD</th>\n",
              "      <th>CARDIOVASCULAR</th>\n",
              "      <th>OTRA_COM</th>\n",
              "      <th>FECHA_DEF</th>\n",
              "      <th>Fallecidos</th>\n",
              "    </tr>\n",
              "  </thead>\n",
              "  <tbody>\n",
              "    <tr>\n",
              "      <th>0</th>\n",
              "      <td>1</td>\n",
              "      <td>1</td>\n",
              "      <td>1</td>\n",
              "      <td>1</td>\n",
              "      <td>1</td>\n",
              "      <td>1</td>\n",
              "      <td>1</td>\n",
              "      <td>1</td>\n",
              "      <td>-1.582848e+09</td>\n",
              "      <td>0</td>\n",
              "    </tr>\n",
              "    <tr>\n",
              "      <th>1</th>\n",
              "      <td>0</td>\n",
              "      <td>0</td>\n",
              "      <td>1</td>\n",
              "      <td>1</td>\n",
              "      <td>0</td>\n",
              "      <td>0</td>\n",
              "      <td>1</td>\n",
              "      <td>1</td>\n",
              "      <td>-1.582848e+09</td>\n",
              "      <td>1</td>\n",
              "    </tr>\n",
              "    <tr>\n",
              "      <th>8</th>\n",
              "      <td>1</td>\n",
              "      <td>0</td>\n",
              "      <td>1</td>\n",
              "      <td>1</td>\n",
              "      <td>1</td>\n",
              "      <td>1</td>\n",
              "      <td>1</td>\n",
              "      <td>1</td>\n",
              "      <td>-1.582848e+09</td>\n",
              "      <td>0</td>\n",
              "    </tr>\n",
              "    <tr>\n",
              "      <th>14</th>\n",
              "      <td>1</td>\n",
              "      <td>1</td>\n",
              "      <td>1</td>\n",
              "      <td>1</td>\n",
              "      <td>1</td>\n",
              "      <td>1</td>\n",
              "      <td>1</td>\n",
              "      <td>1</td>\n",
              "      <td>-1.582848e+09</td>\n",
              "      <td>0</td>\n",
              "    </tr>\n",
              "    <tr>\n",
              "      <th>15</th>\n",
              "      <td>1</td>\n",
              "      <td>1</td>\n",
              "      <td>1</td>\n",
              "      <td>1</td>\n",
              "      <td>1</td>\n",
              "      <td>1</td>\n",
              "      <td>1</td>\n",
              "      <td>1</td>\n",
              "      <td>-1.582848e+09</td>\n",
              "      <td>0</td>\n",
              "    </tr>\n",
              "  </tbody>\n",
              "</table>\n",
              "</div>"
            ],
            "text/plain": [
              "    NEUMONIA  DIABETES  EPOC  ...  OTRA_COM     FECHA_DEF  Fallecidos\n",
              "0          1         1     1  ...         1 -1.582848e+09           0\n",
              "1          0         0     1  ...         1 -1.582848e+09           1\n",
              "8          1         0     1  ...         1 -1.582848e+09           0\n",
              "14         1         1     1  ...         1 -1.582848e+09           0\n",
              "15         1         1     1  ...         1 -1.582848e+09           0\n",
              "\n",
              "[5 rows x 10 columns]"
            ]
          },
          "metadata": {},
          "execution_count": 30
        }
      ]
    },
    {
      "cell_type": "code",
      "metadata": {
        "id": "M77oAgYJeFCN"
      },
      "source": [
        "#data[\"Fallecidos\"] = data[\"Fallecidos\"].apply(str)"
      ],
      "execution_count": null,
      "outputs": []
    },
    {
      "cell_type": "code",
      "metadata": {
        "id": "2aJufYfucR4L"
      },
      "source": [
        "import seaborn as sb\n",
        "#sb.pairplot(data, hue=\"Fallecidos\", markers='o')"
      ],
      "execution_count": null,
      "outputs": []
    },
    {
      "cell_type": "code",
      "metadata": {
        "colab": {
          "base_uri": "https://localhost:8080/"
        },
        "id": "mrQIvb7ecUYP",
        "outputId": "bc05585a-7db6-461e-ee0e-a829d62f7e44"
      },
      "source": [
        "for x in enfermedades:\n",
        "    data[x] = data[x].apply(str)"
      ],
      "execution_count": null,
      "outputs": [
        {
          "output_type": "stream",
          "name": "stderr",
          "text": [
            "/usr/local/lib/python3.7/dist-packages/ipykernel_launcher.py:2: SettingWithCopyWarning: \n",
            "A value is trying to be set on a copy of a slice from a DataFrame.\n",
            "Try using .loc[row_indexer,col_indexer] = value instead\n",
            "\n",
            "See the caveats in the documentation: https://pandas.pydata.org/pandas-docs/stable/user_guide/indexing.html#returning-a-view-versus-a-copy\n",
            "  \n"
          ]
        }
      ]
    },
    {
      "cell_type": "code",
      "metadata": {
        "id": "iiagJjqJcYPC"
      },
      "source": [
        "import seaborn as sb\n",
        "#sb.pairplot(data, hue=\"Fallecidos\", markers='o')"
      ],
      "execution_count": null,
      "outputs": []
    },
    {
      "cell_type": "code",
      "metadata": {
        "id": "Z64harrScaRy"
      },
      "source": [
        "from sklearn.preprocessing import MinMaxScaler\n",
        "data_copy = data.copy()\n",
        "target = data_copy[\"Fallecidos\"]\n",
        "data_copy.drop(\"Fallecidos\", axis=1, inplace=True)\n",
        "#data_copy.drop(\"FECHA_DEF\", axis=1, inplace=True)\n",
        "features = data_copy\n",
        "#scaler = StandardScaler()\n",
        "#features = scaler.fit_transform(features)\n",
        "features = pd.DataFrame(features)"
      ],
      "execution_count": null,
      "outputs": []
    },
    {
      "cell_type": "code",
      "metadata": {
        "colab": {
          "base_uri": "https://localhost:8080/",
          "height": 224
        },
        "id": "LKWTNYiDcc1i",
        "outputId": "72efe835-2adb-482a-caba-c619b9da77b0"
      },
      "source": [
        "\n",
        "features = pd.get_dummies(features)\n",
        "features.head()"
      ],
      "execution_count": null,
      "outputs": [
        {
          "output_type": "execute_result",
          "data": {
            "text/html": [
              "<div>\n",
              "<style scoped>\n",
              "    .dataframe tbody tr th:only-of-type {\n",
              "        vertical-align: middle;\n",
              "    }\n",
              "\n",
              "    .dataframe tbody tr th {\n",
              "        vertical-align: top;\n",
              "    }\n",
              "\n",
              "    .dataframe thead th {\n",
              "        text-align: right;\n",
              "    }\n",
              "</style>\n",
              "<table border=\"1\" class=\"dataframe\">\n",
              "  <thead>\n",
              "    <tr style=\"text-align: right;\">\n",
              "      <th></th>\n",
              "      <th>FECHA_DEF</th>\n",
              "      <th>NEUMONIA_0</th>\n",
              "      <th>NEUMONIA_1</th>\n",
              "      <th>DIABETES_0</th>\n",
              "      <th>DIABETES_1</th>\n",
              "      <th>EPOC_0</th>\n",
              "      <th>EPOC_1</th>\n",
              "      <th>ASMA_0</th>\n",
              "      <th>ASMA_1</th>\n",
              "      <th>HIPERTENSION_0</th>\n",
              "      <th>HIPERTENSION_1</th>\n",
              "      <th>OBESIDAD_0</th>\n",
              "      <th>OBESIDAD_1</th>\n",
              "      <th>CARDIOVASCULAR_0</th>\n",
              "      <th>CARDIOVASCULAR_1</th>\n",
              "      <th>OTRA_COM_0</th>\n",
              "      <th>OTRA_COM_1</th>\n",
              "    </tr>\n",
              "  </thead>\n",
              "  <tbody>\n",
              "    <tr>\n",
              "      <th>0</th>\n",
              "      <td>-1.582848e+09</td>\n",
              "      <td>0</td>\n",
              "      <td>1</td>\n",
              "      <td>0</td>\n",
              "      <td>1</td>\n",
              "      <td>0</td>\n",
              "      <td>1</td>\n",
              "      <td>0</td>\n",
              "      <td>1</td>\n",
              "      <td>0</td>\n",
              "      <td>1</td>\n",
              "      <td>0</td>\n",
              "      <td>1</td>\n",
              "      <td>0</td>\n",
              "      <td>1</td>\n",
              "      <td>0</td>\n",
              "      <td>1</td>\n",
              "    </tr>\n",
              "    <tr>\n",
              "      <th>1</th>\n",
              "      <td>-1.582848e+09</td>\n",
              "      <td>1</td>\n",
              "      <td>0</td>\n",
              "      <td>1</td>\n",
              "      <td>0</td>\n",
              "      <td>0</td>\n",
              "      <td>1</td>\n",
              "      <td>0</td>\n",
              "      <td>1</td>\n",
              "      <td>1</td>\n",
              "      <td>0</td>\n",
              "      <td>1</td>\n",
              "      <td>0</td>\n",
              "      <td>0</td>\n",
              "      <td>1</td>\n",
              "      <td>0</td>\n",
              "      <td>1</td>\n",
              "    </tr>\n",
              "    <tr>\n",
              "      <th>8</th>\n",
              "      <td>-1.582848e+09</td>\n",
              "      <td>0</td>\n",
              "      <td>1</td>\n",
              "      <td>1</td>\n",
              "      <td>0</td>\n",
              "      <td>0</td>\n",
              "      <td>1</td>\n",
              "      <td>0</td>\n",
              "      <td>1</td>\n",
              "      <td>0</td>\n",
              "      <td>1</td>\n",
              "      <td>0</td>\n",
              "      <td>1</td>\n",
              "      <td>0</td>\n",
              "      <td>1</td>\n",
              "      <td>0</td>\n",
              "      <td>1</td>\n",
              "    </tr>\n",
              "    <tr>\n",
              "      <th>14</th>\n",
              "      <td>-1.582848e+09</td>\n",
              "      <td>0</td>\n",
              "      <td>1</td>\n",
              "      <td>0</td>\n",
              "      <td>1</td>\n",
              "      <td>0</td>\n",
              "      <td>1</td>\n",
              "      <td>0</td>\n",
              "      <td>1</td>\n",
              "      <td>0</td>\n",
              "      <td>1</td>\n",
              "      <td>0</td>\n",
              "      <td>1</td>\n",
              "      <td>0</td>\n",
              "      <td>1</td>\n",
              "      <td>0</td>\n",
              "      <td>1</td>\n",
              "    </tr>\n",
              "    <tr>\n",
              "      <th>15</th>\n",
              "      <td>-1.582848e+09</td>\n",
              "      <td>0</td>\n",
              "      <td>1</td>\n",
              "      <td>0</td>\n",
              "      <td>1</td>\n",
              "      <td>0</td>\n",
              "      <td>1</td>\n",
              "      <td>0</td>\n",
              "      <td>1</td>\n",
              "      <td>0</td>\n",
              "      <td>1</td>\n",
              "      <td>0</td>\n",
              "      <td>1</td>\n",
              "      <td>0</td>\n",
              "      <td>1</td>\n",
              "      <td>0</td>\n",
              "      <td>1</td>\n",
              "    </tr>\n",
              "  </tbody>\n",
              "</table>\n",
              "</div>"
            ],
            "text/plain": [
              "       FECHA_DEF  NEUMONIA_0  ...  OTRA_COM_0  OTRA_COM_1\n",
              "0  -1.582848e+09           0  ...           0           1\n",
              "1  -1.582848e+09           1  ...           0           1\n",
              "8  -1.582848e+09           0  ...           0           1\n",
              "14 -1.582848e+09           0  ...           0           1\n",
              "15 -1.582848e+09           0  ...           0           1\n",
              "\n",
              "[5 rows x 17 columns]"
            ]
          },
          "metadata": {},
          "execution_count": 36
        }
      ]
    },
    {
      "cell_type": "code",
      "metadata": {
        "id": "C4KdsCzOch40"
      },
      "source": [
        "from sklearn.model_selection import train_test_split\n",
        "x_train, x_holdout, y_train, y_holdout = train_test_split(features, target, test_size=0.3, random_state=5)"
      ],
      "execution_count": null,
      "outputs": []
    },
    {
      "cell_type": "code",
      "metadata": {
        "colab": {
          "base_uri": "https://localhost:8080/"
        },
        "id": "PfFf3s4_cqF8",
        "outputId": "9b06fd5b-7d61-43a0-b384-5cfe697158a4"
      },
      "source": [
        "from sklearn.linear_model import LogisticRegression\n",
        "from sklearn.pipeline import make_pipeline\n",
        "logreg = make_pipeline(MinMaxScaler(), LogisticRegression(C=1e9, penalty=\"none\"))\n",
        "logreg.fit(x_train,y_train)"
      ],
      "execution_count": null,
      "outputs": [
        {
          "output_type": "stream",
          "name": "stderr",
          "text": [
            "/usr/local/lib/python3.7/dist-packages/sklearn/linear_model/_logistic.py:1505: UserWarning: Setting penalty='none' will ignore the C and l1_ratio parameters\n",
            "  \"Setting penalty='none' will ignore the C and l1_ratio \"\n"
          ]
        },
        {
          "output_type": "execute_result",
          "data": {
            "text/plain": [
              "Pipeline(memory=None,\n",
              "         steps=[('minmaxscaler', MinMaxScaler(copy=True, feature_range=(0, 1))),\n",
              "                ('logisticregression',\n",
              "                 LogisticRegression(C=1000000000.0, class_weight=None,\n",
              "                                    dual=False, fit_intercept=True,\n",
              "                                    intercept_scaling=1, l1_ratio=None,\n",
              "                                    max_iter=100, multi_class='auto',\n",
              "                                    n_jobs=None, penalty='none',\n",
              "                                    random_state=None, solver='lbfgs',\n",
              "                                    tol=0.0001, verbose=0, warm_start=False))],\n",
              "         verbose=False)"
            ]
          },
          "metadata": {},
          "execution_count": 38
        }
      ]
    },
    {
      "cell_type": "code",
      "metadata": {
        "colab": {
          "base_uri": "https://localhost:8080/"
        },
        "id": "VXgk3DOQcv9F",
        "outputId": "9363dfe0-1c24-45e0-c224-641d30e9c20e"
      },
      "source": [
        "print(\"Accuracy del clasificador en el conjunto de entrenamiento\", round(logreg.score(x_train,y_train),4))\n",
        "print(\"Accuracy del clasificador en el conjunto de validación\", round(logreg.score(x_holdout,y_holdout),4))"
      ],
      "execution_count": null,
      "outputs": [
        {
          "output_type": "stream",
          "name": "stdout",
          "text": [
            "Accuracy del clasificador en el conjunto de entrenamiento 1.0\n",
            "Accuracy del clasificador en el conjunto de validación 1.0\n"
          ]
        }
      ]
    },
    {
      "cell_type": "code",
      "metadata": {
        "colab": {
          "base_uri": "https://localhost:8080/"
        },
        "id": "Dt0iAND_9059",
        "outputId": "218f24fa-08dd-43c8-ff6b-3bb38817abb2"
      },
      "source": [
        "x_train.info()\n",
        "print(logreg.named_steps['logisticregression'].coef_)"
      ],
      "execution_count": null,
      "outputs": [
        {
          "output_type": "stream",
          "name": "stdout",
          "text": [
            "<class 'pandas.core.frame.DataFrame'>\n",
            "Int64Index: 2624169 entries, 497709 to 3338255\n",
            "Data columns (total 17 columns):\n",
            " #   Column            Dtype  \n",
            "---  ------            -----  \n",
            " 0   FECHA_DEF         float64\n",
            " 1   NEUMONIA_0        uint8  \n",
            " 2   NEUMONIA_1        uint8  \n",
            " 3   DIABETES_0        uint8  \n",
            " 4   DIABETES_1        uint8  \n",
            " 5   EPOC_0            uint8  \n",
            " 6   EPOC_1            uint8  \n",
            " 7   ASMA_0            uint8  \n",
            " 8   ASMA_1            uint8  \n",
            " 9   HIPERTENSION_0    uint8  \n",
            " 10  HIPERTENSION_1    uint8  \n",
            " 11  OBESIDAD_0        uint8  \n",
            " 12  OBESIDAD_1        uint8  \n",
            " 13  CARDIOVASCULAR_0  uint8  \n",
            " 14  CARDIOVASCULAR_1  uint8  \n",
            " 15  OTRA_COM_0        uint8  \n",
            " 16  OTRA_COM_1        uint8  \n",
            "dtypes: float64(1), uint8(16)\n",
            "memory usage: 80.1 MB\n",
            "[[-47.40643565   3.30341454   1.20991744   2.55419578   1.9591362\n",
            "    2.02260732   2.49072466   1.47262567   3.04070631   2.66003793\n",
            "    1.85329405   2.28371144   2.22962054   1.99251739   2.52081459\n",
            "    2.1301596    2.38317238]]\n"
          ]
        }
      ]
    },
    {
      "cell_type": "markdown",
      "metadata": {
        "id": "73viH_rF96dE"
      },
      "source": [
        "6. Tabla de Coeficientes \n",
        "\n",
        "---\n",
        "\n"
      ]
    },
    {
      "cell_type": "code",
      "metadata": {
        "colab": {
          "base_uri": "https://localhost:8080/"
        },
        "id": "0m87XskG9_-J",
        "outputId": "3cbac619-7004-42bb-e6e6-af30fa8fd9b3"
      },
      "source": [
        "import statsmodels.api as sm\n",
        "x_train1 = x_train.copy()\n",
        "X_train_with_constant = sm.add_constant(x_train1)\n",
        "X_test_with_constant = sm.add_constant(x_holdout)\n",
        "#x_train1.drop(\"FECHA_DEF\", axis=1, inplace=True)\n",
        "np.asarray(y_train)\n",
        "logit_model=sm.Logit(y_train,X_train_with_constant)\n",
        "result=logit_model.fit()\n",
        "print(result.summary2())"
      ],
      "execution_count": null,
      "outputs": [
        {
          "output_type": "stream",
          "name": "stderr",
          "text": [
            "/usr/local/lib/python3.7/dist-packages/statsmodels/tools/_testing.py:19: FutureWarning: pandas.util.testing is deprecated. Use the functions in the public API at pandas.testing instead.\n",
            "  import pandas.util.testing as tm\n"
          ]
        },
        {
          "output_type": "stream",
          "name": "stdout",
          "text": [
            "Warning: Maximum number of iterations has been exceeded.\n",
            "         Current function value: 0.171440\n",
            "         Iterations: 35\n"
          ]
        },
        {
          "output_type": "stream",
          "name": "stderr",
          "text": [
            "/usr/local/lib/python3.7/dist-packages/statsmodels/base/model.py:512: ConvergenceWarning: Maximum Likelihood optimization failed to converge. Check mle_retvals\n",
            "  \"Check mle_retvals\", ConvergenceWarning)\n",
            "/usr/local/lib/python3.7/dist-packages/statsmodels/base/model.py:1286: RuntimeWarning: invalid value encountered in sqrt\n",
            "  bse_ = np.sqrt(np.diag(self.cov_params()))\n"
          ]
        },
        {
          "output_type": "stream",
          "name": "stdout",
          "text": [
            "                          Results: Logit\n",
            "==================================================================\n",
            "Model:              Logit            Pseudo R-squared: 0.359      \n",
            "Dependent Variable: Fallecidos       AIC:              899774.9857\n",
            "Date:               2021-10-21 22:28 BIC:              899787.7659\n",
            "No. Observations:   2624169          Log-Likelihood:   -4.4989e+05\n",
            "Df Model:           0                LL-Null:          -7.0141e+05\n",
            "Df Residuals:       2624168          LLR p-value:      nan        \n",
            "Converged:          0.0000           Scale:            1.0000     \n",
            "No. Iterations:     35.0000                                       \n",
            "-------------------------------------------------------------------\n",
            "                  Coef.   Std.Err.    z     P>|z|    [0.025  0.975]\n",
            "-------------------------------------------------------------------\n",
            "const             9.9901       nan     nan     nan      nan     nan\n",
            "FECHA_DEF         0.0000    0.0000  0.0083  0.9934  -0.0000  0.0000\n",
            "NEUMONIA_0        6.6128       nan     nan     nan      nan     nan\n",
            "NEUMONIA_1        3.3773       nan     nan     nan      nan     nan\n",
            "DIABETES_0        5.3496       nan     nan     nan      nan     nan\n",
            "DIABETES_1        4.6405       nan     nan     nan      nan     nan\n",
            "EPOC_0            5.4059       nan     nan     nan      nan     nan\n",
            "EPOC_1            4.5843       nan     nan     nan      nan     nan\n",
            "ASMA_0            4.8035       nan     nan     nan      nan     nan\n",
            "ASMA_1            5.1867       nan     nan     nan      nan     nan\n",
            "HIPERTENSION_0    5.4371       nan     nan     nan      nan     nan\n",
            "HIPERTENSION_1    4.5530       nan     nan     nan      nan     nan\n",
            "OBESIDAD_0        5.0468       nan     nan     nan      nan     nan\n",
            "OBESIDAD_1        4.9434       nan     nan     nan      nan     nan\n",
            "CARDIOVASCULAR_0  5.2255       nan     nan     nan      nan     nan\n",
            "CARDIOVASCULAR_1  4.7646       nan     nan     nan      nan     nan\n",
            "OTRA_COM_0        5.3560       nan     nan     nan      nan     nan\n",
            "OTRA_COM_1        4.6341       nan     nan     nan      nan     nan\n",
            "==================================================================\n",
            "\n"
          ]
        }
      ]
    },
    {
      "cell_type": "markdown",
      "metadata": {
        "id": "8t2TwbBZ-EHD"
      },
      "source": [
        "7. Matriz de Confusión \n",
        "\n",
        "---\n",
        "\n"
      ]
    },
    {
      "cell_type": "code",
      "metadata": {
        "colab": {
          "base_uri": "https://localhost:8080/"
        },
        "id": "k5ge4JFr-I7A",
        "outputId": "93c3b1f0-d081-41d9-c4ad-4cc068d675b0"
      },
      "source": [
        "from sklearn.metrics import confusion_matrix\n",
        "y_predicted = logreg.predict(x_holdout)\n",
        "matriz_confusion = confusion_matrix(y_holdout, y_predicted)\n",
        "print(matriz_confusion)"
      ],
      "execution_count": null,
      "outputs": [
        {
          "output_type": "stream",
          "name": "stdout",
          "text": [
            "[[1040144       0]\n",
            " [      0   84500]]\n"
          ]
        }
      ]
    },
    {
      "cell_type": "code",
      "metadata": {
        "colab": {
          "base_uri": "https://localhost:8080/",
          "height": 483
        },
        "id": "4gh_l1C3-QvS",
        "outputId": "5db43b8f-65b7-4303-88f9-9ec0f0c85985"
      },
      "source": [
        "import matplotlib.pyplot as plt\n",
        "fig, ax = plt.subplots(figsize=(8, 8))\n",
        "ax.imshow(matriz_confusion)\n",
        "ax.grid(False)\n",
        "ax.xaxis.set(ticks=(0, 1), ticklabels=('Predicted Dead', 'Predicted Alive'))\n",
        "ax.yaxis.set(ticks=(0, 1), ticklabels=('Actual Dead', 'Actual Alive'))\n",
        "ax.set_ylim(1.5, -0.5)\n",
        "for i in range(2):\n",
        "    for j in range(2):\n",
        "        ax.text(j, i, matriz_confusion[i, j], ha='center', va='center', color='red')\n",
        "plt.show()"
      ],
      "execution_count": null,
      "outputs": [
        {
          "output_type": "display_data",
          "data": {
            "image/png": "[encoded data removed]",
            "text/plain": [
              "<Figure size 576x576 with 1 Axes>"
            ]
          },
          "metadata": {
            "needs_background": "light"
          }
        }
      ]
    },
    {
      "cell_type": "markdown",
      "metadata": {
        "id": "QEL5MUo1-VI7"
      },
      "source": [
        "8. Curva Roc \n",
        "\n",
        "---\n",
        "\n"
      ]
    },
    {
      "cell_type": "code",
      "metadata": {
        "id": "O1DmZeDL-XbF",
        "colab": {
          "base_uri": "https://localhost:8080/",
          "height": 295
        },
        "outputId": "e8eae567-982c-48a1-cb8f-d86eb1ec9b6e"
      },
      "source": [
        "from sklearn.metrics import roc_auc_score\n",
        "from sklearn.metrics import roc_curve\n",
        "\n",
        "logit_roc_auc = roc_auc_score(y_holdout, logreg.predict(x_holdout))\n",
        "fpr, tpr, thresholds = roc_curve(y_holdout, logreg.predict_proba(x_holdout)[:,1])\n",
        "plt.figure()\n",
        "plt.plot(fpr, tpr, label='Logistic Regression (area = %0.2f)' % logit_roc_auc)\n",
        "plt.plot([0, 1], [0, 1],'r--')\n",
        "plt.xlim([0.0, 1.0])\n",
        "plt.ylim([0.0, 1.05])\n",
        "plt.xlabel('False Positive Rate')\n",
        "plt.ylabel('True Positive Rate')\n",
        "plt.title('Receiver operating characteristic')\n",
        "plt.legend(loc=\"lower right\")\n",
        "plt.savefig('Log_ROC')\n",
        "plt.show()"
      ],
      "execution_count": null,
      "outputs": [
        {
          "output_type": "display_data",
          "data": {
            "image/png": "[encoded data removed]",
            "text/plain": [
              "<Figure size 432x288 with 1 Axes>"
            ]
          },
          "metadata": {
            "needs_background": "light"
          }
        }
      ]
    }
  ]
}