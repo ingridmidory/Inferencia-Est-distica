{
  "nbformat": 4,
  "nbformat_minor": 0,
  "metadata": {
    "colab": {
      "provenance": [],
      "include_colab_link": true
    },
    "kernelspec": {
      "display_name": "Python 3 (ipykernel)",
      "language": "python",
      "name": "python3"
    },
    "language_info": {
      "codemirror_mode": {
        "name": "ipython",
        "version": 3
      },
      "file_extension": ".py",
      "mimetype": "text/x-python",
      "name": "python",
      "nbconvert_exporter": "python",
      "pygments_lexer": "ipython3",
      "version": "3.9.7"
    }
  },
  "cells": [
    {
      "cell_type": "markdown",
      "metadata": {
        "id": "view-in-github",
        "colab_type": "text"
      },
      "source": [
        "<a href=\"https://colab.research.google.com/github/ingridmidory/Inferencia-Est-distica/blob/main/Tarea_2_LinearRegression_MonterrosoAlfaroIngrid.ipynb\" target=\"_parent\"><img src=\"https://colab.research.google.com/assets/colab-badge.svg\" alt=\"Open In Colab\"/></a>"
      ]
    },
    {
      "cell_type": "code",
      "metadata": {
        "id": "lmOvyBMAc4lK"
      },
      "source": [
        "import pandas as pd\n",
        "\n",
        "precios = pd.read_csv('https://www.dropbox.com/s/my0o1wyai4r8otn/Base%20de%20datos%20INEGI%20Diaria.csv?dl=1' , encoding='latin-1')"
      ],
      "execution_count": null,
      "outputs": []
    },
    {
      "cell_type": "code",
      "metadata": {
        "colab": {
          "base_uri": "https://localhost:8080/",
          "height": 359
        },
        "id": "uhe8MM24dJ_q",
        "outputId": "06b010ee-c797-443e-9139-70301894141a"
      },
      "source": [
        "precios.tail(10)"
      ],
      "execution_count": null,
      "outputs": [
        {
          "output_type": "execute_result",
          "data": {
            "text/html": [
              "<div>\n",
              "<style scoped>\n",
              "    .dataframe tbody tr th:only-of-type {\n",
              "        vertical-align: middle;\n",
              "    }\n",
              "\n",
              "    .dataframe tbody tr th {\n",
              "        vertical-align: top;\n",
              "    }\n",
              "\n",
              "    .dataframe thead th {\n",
              "        text-align: right;\n",
              "    }\n",
              "</style>\n",
              "<table border=\"1\" class=\"dataframe\">\n",
              "  <thead>\n",
              "    <tr style=\"text-align: right;\">\n",
              "      <th></th>\n",
              "      <th>Period</th>\n",
              "      <th>D.Ext M.D</th>\n",
              "      <th>Gas_kg</th>\n",
              "      <th>Magna</th>\n",
              "      <th>Premium</th>\n",
              "      <th>Diesel</th>\n",
              "      <th>Crudo_Barril</th>\n",
              "      <th>USD_MXN</th>\n",
              "      <th>C.IPC</th>\n",
              "    </tr>\n",
              "  </thead>\n",
              "  <tbody>\n",
              "    <tr>\n",
              "      <th>5001</th>\n",
              "      <td>16/11/2016</td>\n",
              "      <td>177523.1</td>\n",
              "      <td>13.39</td>\n",
              "      <td>13.98</td>\n",
              "      <td>14.81</td>\n",
              "      <td>14.63</td>\n",
              "      <td>38.201426</td>\n",
              "      <td>20.0371</td>\n",
              "      <td>45315.96094</td>\n",
              "    </tr>\n",
              "    <tr>\n",
              "      <th>5002</th>\n",
              "      <td>17/11/2016</td>\n",
              "      <td>177523.1</td>\n",
              "      <td>13.39</td>\n",
              "      <td>13.98</td>\n",
              "      <td>14.81</td>\n",
              "      <td>14.63</td>\n",
              "      <td>38.201426</td>\n",
              "      <td>20.0371</td>\n",
              "      <td>45315.96094</td>\n",
              "    </tr>\n",
              "    <tr>\n",
              "      <th>5003</th>\n",
              "      <td>18/11/2016</td>\n",
              "      <td>177523.1</td>\n",
              "      <td>13.39</td>\n",
              "      <td>13.98</td>\n",
              "      <td>14.81</td>\n",
              "      <td>14.63</td>\n",
              "      <td>38.201426</td>\n",
              "      <td>20.0371</td>\n",
              "      <td>45315.96094</td>\n",
              "    </tr>\n",
              "    <tr>\n",
              "      <th>5004</th>\n",
              "      <td>22/11/2016</td>\n",
              "      <td>177523.1</td>\n",
              "      <td>13.39</td>\n",
              "      <td>13.98</td>\n",
              "      <td>14.81</td>\n",
              "      <td>14.63</td>\n",
              "      <td>38.201426</td>\n",
              "      <td>20.0371</td>\n",
              "      <td>45315.96094</td>\n",
              "    </tr>\n",
              "    <tr>\n",
              "      <th>5005</th>\n",
              "      <td>23/11/2016</td>\n",
              "      <td>177523.1</td>\n",
              "      <td>13.39</td>\n",
              "      <td>13.98</td>\n",
              "      <td>14.81</td>\n",
              "      <td>14.63</td>\n",
              "      <td>38.201426</td>\n",
              "      <td>20.0371</td>\n",
              "      <td>45315.96094</td>\n",
              "    </tr>\n",
              "    <tr>\n",
              "      <th>5006</th>\n",
              "      <td>24/11/2016</td>\n",
              "      <td>177523.1</td>\n",
              "      <td>13.39</td>\n",
              "      <td>13.98</td>\n",
              "      <td>14.81</td>\n",
              "      <td>14.63</td>\n",
              "      <td>38.201426</td>\n",
              "      <td>20.0371</td>\n",
              "      <td>45315.96094</td>\n",
              "    </tr>\n",
              "    <tr>\n",
              "      <th>5007</th>\n",
              "      <td>25/11/2016</td>\n",
              "      <td>177523.1</td>\n",
              "      <td>13.39</td>\n",
              "      <td>13.98</td>\n",
              "      <td>14.81</td>\n",
              "      <td>14.63</td>\n",
              "      <td>38.201426</td>\n",
              "      <td>20.0371</td>\n",
              "      <td>45315.96094</td>\n",
              "    </tr>\n",
              "    <tr>\n",
              "      <th>5008</th>\n",
              "      <td>28/11/2016</td>\n",
              "      <td>177523.1</td>\n",
              "      <td>13.39</td>\n",
              "      <td>13.98</td>\n",
              "      <td>14.81</td>\n",
              "      <td>14.63</td>\n",
              "      <td>38.201426</td>\n",
              "      <td>20.0371</td>\n",
              "      <td>45315.96094</td>\n",
              "    </tr>\n",
              "    <tr>\n",
              "      <th>5009</th>\n",
              "      <td>29/11/2016</td>\n",
              "      <td>177523.1</td>\n",
              "      <td>13.39</td>\n",
              "      <td>13.98</td>\n",
              "      <td>14.81</td>\n",
              "      <td>14.63</td>\n",
              "      <td>38.201426</td>\n",
              "      <td>20.0371</td>\n",
              "      <td>45315.96094</td>\n",
              "    </tr>\n",
              "    <tr>\n",
              "      <th>5010</th>\n",
              "      <td>30/11/2016</td>\n",
              "      <td>177523.1</td>\n",
              "      <td>13.39</td>\n",
              "      <td>13.98</td>\n",
              "      <td>14.81</td>\n",
              "      <td>14.63</td>\n",
              "      <td>38.201426</td>\n",
              "      <td>20.0371</td>\n",
              "      <td>45315.96094</td>\n",
              "    </tr>\n",
              "  </tbody>\n",
              "</table>\n",
              "</div>"
            ],
            "text/plain": [
              "          Period  D.Ext M.D  Gas_kg  ...  Crudo_Barril  USD_MXN        C.IPC\n",
              "5001  16/11/2016   177523.1   13.39  ...     38.201426  20.0371  45315.96094\n",
              "5002  17/11/2016   177523.1   13.39  ...     38.201426  20.0371  45315.96094\n",
              "5003  18/11/2016   177523.1   13.39  ...     38.201426  20.0371  45315.96094\n",
              "5004  22/11/2016   177523.1   13.39  ...     38.201426  20.0371  45315.96094\n",
              "5005  23/11/2016   177523.1   13.39  ...     38.201426  20.0371  45315.96094\n",
              "5006  24/11/2016   177523.1   13.39  ...     38.201426  20.0371  45315.96094\n",
              "5007  25/11/2016   177523.1   13.39  ...     38.201426  20.0371  45315.96094\n",
              "5008  28/11/2016   177523.1   13.39  ...     38.201426  20.0371  45315.96094\n",
              "5009  29/11/2016   177523.1   13.39  ...     38.201426  20.0371  45315.96094\n",
              "5010  30/11/2016   177523.1   13.39  ...     38.201426  20.0371  45315.96094\n",
              "\n",
              "[10 rows x 9 columns]"
            ]
          },
          "metadata": {},
          "execution_count": 9
        }
      ]
    },
    {
      "cell_type": "code",
      "metadata": {
        "colab": {
          "base_uri": "https://localhost:8080/",
          "height": 552
        },
        "id": "dDzbPSnJdQR-",
        "outputId": "b06e217d-5b22-4720-f4b2-f614bfc0023d"
      },
      "source": [
        "import numpy as np\n",
        "import matplotlib.pyplot as plt\n",
        "\n",
        "x = precios['USD_MXN']\n",
        "y = precios['Magna']\n",
        "\n",
        "x = pd.DataFrame(x)\n",
        "y = pd.DataFrame(y)\n",
        "\n",
        "# plot\n",
        "plt.figure(figsize=(12, 9))\n",
        "plt.scatter(x,y,s=1.5)\n",
        "plt.xlabel('USD_MXN')\n",
        "plt.ylabel('Magna')\n",
        "plt.show()"
      ],
      "execution_count": null,
      "outputs": [
        {
          "output_type": "display_data",
          "data": {
            "image/png": "[encoded data removed]",
            "text/plain": [
              "<Figure size 864x648 with 1 Axes>"
            ]
          },
          "metadata": {
            "needs_background": "light"
          }
        }
      ]
    },
    {
      "cell_type": "markdown",
      "metadata": {
        "id": "QyyiE7cOewis"
      },
      "source": [
        "Ilustración entre el valor real y estmado\n",
        "\n",
        "![image.png](data:image/png;base64,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)"
      ]
    },
    {
      "cell_type": "code",
      "metadata": {
        "id": "45ERvrYFe3WB"
      },
      "source": [
        "## https://scikit-learn.org/stable/auto_examples/linear_model/plot_ols.html#sphx-glr-auto-examples-linear-model-plot-ols-py\n",
        "# imports\n",
        "\n",
        "from sklearn.linear_model import LinearRegression\n",
        "from sklearn.metrics import mean_squared_error, r2_score"
      ],
      "execution_count": null,
      "outputs": []
    },
    {
      "cell_type": "code",
      "metadata": {
        "colab": {
          "base_uri": "https://localhost:8080/",
          "height": 620
        },
        "id": "wPxPe_CykX68",
        "outputId": "63a1d12d-847a-43af-9732-f7aa1f479b35"
      },
      "source": [
        "# sckit-learn implementation\n",
        "# Model initialization\n",
        "regression_model = LinearRegression()\n",
        "# Fit the data(train the model)\n",
        "regression_model.fit(x, y)\n",
        "# Predict\n",
        "y_predicted = regression_model.predict(x)\n",
        "\n",
        "# model evaluation\n",
        "rmse = mean_squared_error(y, y_predicted)\n",
        "r2 = r2_score(y, y_predicted)\n",
        "\n",
        "# printing values\n",
        "print('Slope:' ,regression_model.coef_)\n",
        "print('Intercept:', regression_model.intercept_)\n",
        "print('Root mean squared error: ', rmse)\n",
        "print('R2 score: ', r2)\n",
        "\n",
        "# plotting values\n",
        "\n",
        "# data points\n",
        "plt.figure(figsize=(12, 9))\n",
        "plt.scatter(x, y, s=10)\n",
        "plt.xlabel('USD_MEX')\n",
        "plt.ylabel('Magna')\n",
        "\n",
        "# predicted values\n",
        "plt.plot(x, y_predicted, color='r')\n",
        "plt.show()"
      ],
      "execution_count": null,
      "outputs": [
        {
          "output_type": "stream",
          "name": "stdout",
          "text": [
            "Slope: [[1.13213924]]\n",
            "Intercept: [-5.50319305]\n",
            "Root mean squared error:  1.8867649852254333\n",
            "R2 score:  0.8011742346905473\n"
          ]
        },
        {
          "output_type": "display_data",
          "data": {
            "image/png": "[encoded data removed]",
            "text/plain": [
              "<Figure size 864x648 with 1 Axes>"
            ]
          },
          "metadata": {
            "needs_background": "light"
          }
        }
      ]
    },
    {
      "cell_type": "markdown",
      "metadata": {
        "id": "71VAHwpLCHPY"
      },
      "source": [
        "**Tarea 2**\n",
        "\n",
        "---\n",
        "\n"
      ]
    },
    {
      "cell_type": "markdown",
      "metadata": {
        "id": "hl83fycTbywz"
      },
      "source": [
        "Regresión Lineal\n"
      ]
    },
    {
      "cell_type": "code",
      "metadata": {
        "colab": {
          "base_uri": "https://localhost:8080/"
        },
        "id": "rul0rQS8_lG1",
        "outputId": "5d29c694-2359-49e7-e7d7-8b2be3c1719a"
      },
      "source": [
        "import numpy as np\n",
        "import matplotlib.pyplot as plt\n",
        "from sklearn.model_selection import train_test_split\n",
        "datos = precios['Crudo_Barril']\n",
        "target = precios['C.IPC']\n",
        "x_train, x_test, y_train, y_test = map(pd.DataFrame,train_test_split(datos,target, test_size=0.2, random_state=5))\n",
        "\n",
        "print(x_train)\n",
        "print(y_train)"
      ],
      "execution_count": null,
      "outputs": [
        {
          "output_type": "stream",
          "name": "stdout",
          "text": [
            "      Crudo_Barril\n",
            "3191     64.734351\n",
            "2212     48.006953\n",
            "4721     37.458143\n",
            "424      10.882881\n",
            "994      19.911782\n",
            "...            ...\n",
            "3046     38.238622\n",
            "1725     24.934537\n",
            "4079    102.977620\n",
            "2254     45.087857\n",
            "2915    106.637018\n",
            "\n",
            "[4008 rows x 1 columns]\n",
            "             C.IPC\n",
            "3191  29232.240230\n",
            "2212  15759.730470\n",
            "4721  44542.761720\n",
            "424    3569.879883\n",
            "994    5652.189941\n",
            "...            ...\n",
            "3046  17752.179690\n",
            "1725   8554.480469\n",
            "4079  44077.089840\n",
            "2254  17802.710940\n",
            "2915  26290.990230\n",
            "\n",
            "[4008 rows x 1 columns]\n"
          ]
        }
      ]
    },
    {
      "cell_type": "code",
      "metadata": {
        "colab": {
          "base_uri": "https://localhost:8080/",
          "height": 282
        },
        "id": "khBZOXv2_qpr",
        "outputId": "87038139-ee72-4c42-e5f6-b233bc164d77"
      },
      "source": [
        "plt.figure()\n",
        "plt.scatter(x=x_train, y=y_train, s = 0.5)\n",
        "plt.xlabel('Precio de Barril de Crudo')\n",
        "plt.ylabel('Indice de Precios al Consumidor')\n",
        "plt.show()"
      ],
      "execution_count": null,
      "outputs": [
        {
          "output_type": "display_data",
          "data": {
            "image/png": "[encoded data removed]",
            "text/plain": [
              "<Figure size 432x288 with 1 Axes>"
            ]
          },
          "metadata": {
            "needs_background": "light"
          }
        }
      ]
    },
    {
      "cell_type": "code",
      "metadata": {
        "colab": {
          "base_uri": "https://localhost:8080/"
        },
        "id": "-h0kk2HK_q2Y",
        "outputId": "3f3dae88-052d-4b33-c32d-833f4a73c5f0"
      },
      "source": [
        "from sklearn import linear_model\n",
        "from sklearn.metrics import r2_score, mean_squared_error\n",
        "import statsmodels.api as sm\n",
        "reg = linear_model.LinearRegression()\n",
        "reg.fit(x_train,y_train)\n",
        "y_predicted = reg.predict(x_test)\n",
        "print('Coeficientesderegresión:', reg.coef_, reg.intercept_)\n",
        "print('Coeficientedeterminación: %.2f'%r2_score(y_test, y_predicted) )\n",
        "print('(RMSE): %.2f'%mean_squared_error(y_test,y_predicted,squared=False))\n",
        "\n",
        "X2 = sm.add_constant(x_train)\n",
        "est = sm.OLS(y_train, X2)\n",
        "est2 = est.fit()\n",
        "print(est2.summary())\n"
      ],
      "execution_count": null,
      "outputs": [
        {
          "output_type": "stream",
          "name": "stdout",
          "text": [
            "Coeficientesderegresión: [[372.08244786]] [3822.10511998]\n",
            "Coeficientedeterminación: 0.56\n",
            "(RMSE): 10227.73\n",
            "                            OLS Regression Results                            \n",
            "==============================================================================\n",
            "Dep. Variable:                  C.IPC   R-squared:                       0.594\n",
            "Model:                            OLS   Adj. R-squared:                  0.594\n",
            "Method:                 Least Squares   F-statistic:                     5857.\n",
            "Date:                Thu, 07 Oct 2021   Prob (F-statistic):               0.00\n",
            "Time:                        18:31:41   Log-Likelihood:                -42496.\n",
            "No. Observations:                4008   AIC:                         8.500e+04\n",
            "Df Residuals:                    4006   BIC:                         8.501e+04\n",
            "Df Model:                           1                                         \n",
            "Covariance Type:            nonrobust                                         \n",
            "================================================================================\n",
            "                   coef    std err          t      P>|t|      [0.025      0.975]\n",
            "--------------------------------------------------------------------------------\n",
            "const         3822.1051    288.398     13.253      0.000    3256.686    4387.525\n",
            "Crudo_Barril   372.0824      4.862     76.531      0.000     362.550     381.614\n",
            "==============================================================================\n",
            "Omnibus:                     1343.380   Durbin-Watson:                   2.023\n",
            "Prob(Omnibus):                  0.000   Jarque-Bera (JB):             3615.182\n",
            "Skew:                           1.822   Prob(JB):                         0.00\n",
            "Kurtosis:                       5.894   Cond. No.                         111.\n",
            "==============================================================================\n",
            "\n",
            "Warnings:\n",
            "[1] Standard Errors assume that the covariance matrix of the errors is correctly specified.\n"
          ]
        }
      ]
    },
    {
      "cell_type": "code",
      "metadata": {
        "colab": {
          "base_uri": "https://localhost:8080/"
        },
        "id": "C292fx1k_yHq",
        "outputId": "5e912e9f-250a-4f1f-ea72-77a3f2a6bd8f"
      },
      "source": [
        "reg = linear_model.LinearRegression()\n",
        "datos, target = pd.DataFrame(datos), pd.DataFrame(target)\n",
        "reg.fit(datos,target)\n",
        "y_predicted = reg.predict(datos)\n",
        "print('Coeficientesregresión:', reg.coef_, reg.intercept_)\n",
        "print('Coeficientedeterminación: %.2f'%r2_score(target, y_predicted) )\n",
        "print('(RMSE): %.2f'%mean_squared_error(target,y_predicted,squared=False))\n",
        "\n",
        "X2 = sm.add_constant(datos)\n",
        "est = sm.OLS(target, X2)\n",
        "est2 = est.fit()\n",
        "print(est2.summary())"
      ],
      "execution_count": null,
      "outputs": [
        {
          "output_type": "stream",
          "name": "stdout",
          "text": [
            "Coeficientesregresión: [[371.3946099]] [3903.89315085]\n",
            "Coeficientedeterminación: 0.59\n",
            "(RMSE): 9838.64\n",
            "                            OLS Regression Results                            \n",
            "==============================================================================\n",
            "Dep. Variable:                  C.IPC   R-squared:                       0.588\n",
            "Model:                            OLS   Adj. R-squared:                  0.588\n",
            "Method:                 Least Squares   F-statistic:                     7143.\n",
            "Date:                Thu, 07 Oct 2021   Prob (F-statistic):               0.00\n",
            "Time:                        18:31:41   Log-Likelihood:                -53182.\n",
            "No. Observations:                5011   AIC:                         1.064e+05\n",
            "Df Residuals:                    5009   BIC:                         1.064e+05\n",
            "Df Model:                           1                                         \n",
            "Covariance Type:            nonrobust                                         \n",
            "================================================================================\n",
            "                   coef    std err          t      P>|t|      [0.025      0.975]\n",
            "--------------------------------------------------------------------------------\n",
            "const         3903.8932    260.617     14.979      0.000    3392.970    4414.816\n",
            "Crudo_Barril   371.3946      4.394     84.517      0.000     362.780     380.009\n",
            "==============================================================================\n",
            "Omnibus:                     1648.590   Durbin-Watson:                   0.002\n",
            "Prob(Omnibus):                  0.000   Jarque-Bera (JB):             4334.548\n",
            "Skew:                           1.804   Prob(JB):                         0.00\n",
            "Kurtosis:                       5.781   Cond. No.                         111.\n",
            "==============================================================================\n",
            "\n",
            "Warnings:\n",
            "[1] Standard Errors assume that the covariance matrix of the errors is correctly specified.\n"
          ]
        }
      ]
    },
    {
      "cell_type": "markdown",
      "metadata": {
        "id": "roxcSdyG_7C1"
      },
      "source": [
        "Regresión Lineal Múltiple "
      ]
    },
    {
      "cell_type": "code",
      "metadata": {
        "colab": {
          "base_uri": "https://localhost:8080/"
        },
        "id": "l52vWaxb_y5-",
        "outputId": "218a511c-68cb-4c0c-e897-cce853a35985"
      },
      "source": [
        "datos = precios[['Gas_kg','C.IPC','USD_MXN', 'Crudo_Barril']]\n",
        "target = precios['Magna']\n",
        "reg = linear_model.LinearRegression()\n",
        "datos, target = pd.DataFrame(datos), pd.DataFrame(target)\n",
        "reg.fit(datos,target)\n",
        "y_predicted = reg.predict(datos)\n",
        "print('Coeficientesregresión:', reg.coef_, reg.intercept_)\n",
        "print('Coeficientedeterminación: %.2f'%r2_score(target, y_predicted) )\n",
        "print('(RMSE): %.2f'%mean_squared_error(target,y_predicted,squared=False))\n",
        "\n",
        "X2 = sm.add_constant(datos)\n",
        "est = sm.OLS(target, X2)\n",
        "est2 = est.fit()\n",
        "print(est2.summary())"
      ],
      "execution_count": null,
      "outputs": [
        {
          "output_type": "stream",
          "name": "stdout",
          "text": [
            "Coeficientesregresión: [[ 4.98342597e-01  7.77842680e-05  1.63557608e-01 -1.35257503e-02]] [0.42213427]\n",
            "Coeficientedeterminación: 0.94\n",
            "(RMSE): 0.73\n",
            "                            OLS Regression Results                            \n",
            "==============================================================================\n",
            "Dep. Variable:                  Magna   R-squared:                       0.944\n",
            "Model:                            OLS   Adj. R-squared:                  0.944\n",
            "Method:                 Least Squares   F-statistic:                 2.098e+04\n",
            "Date:                Thu, 07 Oct 2021   Prob (F-statistic):               0.00\n",
            "Time:                        18:31:41   Log-Likelihood:                -5539.3\n",
            "No. Observations:                5011   AIC:                         1.109e+04\n",
            "Df Residuals:                    5006   BIC:                         1.112e+04\n",
            "Df Model:                           4                                         \n",
            "Covariance Type:            nonrobust                                         \n",
            "================================================================================\n",
            "                   coef    std err          t      P>|t|      [0.025      0.975]\n",
            "--------------------------------------------------------------------------------\n",
            "const            0.4221      0.096      4.395      0.000       0.234       0.610\n",
            "Gas_kg           0.4983      0.011     46.134      0.000       0.477       0.520\n",
            "C.IPC         7.778e-05   2.71e-06     28.727      0.000    7.25e-05    8.31e-05\n",
            "USD_MXN          0.1636      0.011     14.246      0.000       0.141       0.186\n",
            "Crudo_Barril    -0.0135      0.001    -19.557      0.000      -0.015      -0.012\n",
            "==============================================================================\n",
            "Omnibus:                      361.281   Durbin-Watson:                   0.002\n",
            "Prob(Omnibus):                  0.000   Jarque-Bera (JB):              168.228\n",
            "Skew:                          -0.259   Prob(JB):                     2.95e-37\n",
            "Kurtosis:                       2.267   Cond. No.                     2.55e+05\n",
            "==============================================================================\n",
            "\n",
            "Warnings:\n",
            "[1] Standard Errors assume that the covariance matrix of the errors is correctly specified.\n",
            "[2] The condition number is large, 2.55e+05. This might indicate that there are\n",
            "strong multicollinearity or other numerical problems.\n"
          ]
        }
      ]
    },
    {
      "cell_type": "markdown",
      "metadata": {
        "id": "74DJPCUSAA2c"
      },
      "source": [
        "Matriz de Correlaciones "
      ]
    },
    {
      "cell_type": "code",
      "metadata": {
        "colab": {
          "base_uri": "https://localhost:8080/",
          "height": 372
        },
        "id": "b6rZUzln_zCk",
        "outputId": "b7874084-f9d5-4af8-bc8e-bda018fd2628"
      },
      "source": [
        "import seaborn as sb\n",
        "\n",
        "correlations = datos.corr()\n",
        "\n",
        "print(correlations)\n",
        "mask = np.triu(np.ones_like(correlations, dtype=np.bool))\n",
        "sb.heatmap(correlations, mask=mask, vmin=0,vmax=1, cmap='BrBG')\n"
      ],
      "execution_count": null,
      "outputs": [
        {
          "output_type": "stream",
          "name": "stdout",
          "text": [
            "                Gas_kg     C.IPC   USD_MXN  Crudo_Barril\n",
            "Gas_kg        1.000000  0.946258  0.874978      0.668956\n",
            "C.IPC         0.946258  1.000000  0.819035      0.766688\n",
            "USD_MXN       0.874978  0.819035  1.000000      0.381345\n",
            "Crudo_Barril  0.668956  0.766688  0.381345      1.000000\n"
          ]
        },
        {
          "output_type": "execute_result",
          "data": {
            "text/plain": [
              "<matplotlib.axes._subplots.AxesSubplot at 0x7f17bf1e8710>"
            ]
          },
          "metadata": {},
          "execution_count": 42
        },
        {
          "output_type": "display_data",
          "data": {
            "image/png": "[encoded data removed]",
            "text/plain": [
              "<Figure size 432x288 with 2 Axes>"
            ]
          },
          "metadata": {
            "needs_background": "light"
          }
        }
      ]
    },
    {
      "cell_type": "markdown",
      "metadata": {
        "id": "ZleJM-DQAI7r"
      },
      "source": [
        "Predecir Datos "
      ]
    },
    {
      "cell_type": "code",
      "metadata": {
        "id": "9ohrII7GGxjw",
        "outputId": "5aa387ad-b0a2-43de-9f50-0579640b18ef",
        "colab": {
          "base_uri": "https://localhost:8080/",
          "height": 620
        }
      },
      "source": [
        "# sckit-learn implementation\n",
        "# Model initialization\n",
        "regression_model = LinearRegression()\n",
        "# Fit the data(train the model)\n",
        "regression_model.fit(x, y)\n",
        "# Predict\n",
        "y_predicted = regression_model.predict(x)\n",
        "\n",
        "# model evaluation\n",
        "rmse = mean_squared_error(y, y_predicted)\n",
        "r2 = r2_score(y, y_predicted)\n",
        "\n",
        "# printing values\n",
        "print('Slope:' ,regression_model.coef_)\n",
        "print('Intercept:', regression_model.intercept_)\n",
        "print('Root mean squared error: ', rmse)\n",
        "print('R2 score: ', r2)\n",
        "\n",
        "# plotting values\n",
        "\n",
        "# data points\n",
        "plt.figure(figsize=(12, 9))\n",
        "plt.scatter(x, y, s=10)\n",
        "plt.xlabel('USD_MEX')\n",
        "plt.ylabel('Magna')\n",
        "\n",
        "# predicted values\n",
        "plt.plot(x, y_predicted, color='r')\n",
        "plt.show()"
      ],
      "execution_count": null,
      "outputs": [
        {
          "output_type": "stream",
          "name": "stdout",
          "text": [
            "Slope: [[1.13213924]]\n",
            "Intercept: [-5.50319305]\n",
            "Root mean squared error:  1.8867649852254333\n",
            "R2 score:  0.8011742346905473\n"
          ]
        },
        {
          "output_type": "display_data",
          "data": {
            "image/png": "[encoded data removed]",
            "text/plain": [
              "<Figure size 864x648 with 1 Axes>"
            ]
          },
          "metadata": {
            "needs_background": "light"
          }
        }
      ]
    },
    {
      "cell_type": "code",
      "metadata": {
        "id": "ZUDR0JLJGxry"
      },
      "source": [],
      "execution_count": null,
      "outputs": []
    }
  ]
}